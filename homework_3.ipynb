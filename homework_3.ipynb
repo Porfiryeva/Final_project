{
 "cells": [
  {
   "cell_type": "markdown",
   "id": "7da6cfaa",
   "metadata": {},
   "source": [
    "- обработала большую часть xml\n",
    "- пока складываю в postgresql:\n",
    "    - не факт, что оставлю, но проще потом убрать\n",
    "    - удобно хранить - сущности со связями (пока просто несвязанные таблицы, основные связи будут по ИНН)\n",
    "    - удобно делать пакетную вставку при обработке пофайлово\n",
    "    \n",
    "- больше всего времени заняло подключение через коннектор - потому что пустая OperationalError: (кажется, параметры идентификации - в конфигах сработало изменить md5 вместо scha...)"
   ]
  },
  {
   "cell_type": "code",
   "execution_count": 1,
   "id": "231b66a3",
   "metadata": {},
   "outputs": [],
   "source": [
    "import os\n",
    "import pickle\n",
    "import requests\n",
    "\n",
    "from lxml import etree"
   ]
  },
  {
   "cell_type": "markdown",
   "id": "bd2140b0",
   "metadata": {},
   "source": [
    "#### -  xml с реестром мсп (малых и средних предприятий)\n",
    "\n",
    "https://www.nalog.gov.ru/opendata/7707329152-rsmp/\n",
    "\n",
    "Структура документа:\n",
    "- все объекты Документ, внутри которых есть ОргВклМСП\n",
    "\n",
    "- итерируясь по этим объектам забираем:\n",
    "    - Документ: \n",
    "        - атрибуты ССЧР (Сведения о среднесписочной численности работников), СведСоцПред (Сведения о том, что юридическое лицо / индивидуальный предприниматель является социальным предприятием, 1,2), ПризНовМСП (Признак сведений о вновь созданном юридическом лице / вновь зарегистрированном индивидуальном предпринимателе, 1,2), КатСубМСП (Категория субъекта МСП - ?, 1,2,3), ВидСубМСП (Вид субъекта МСП - ?, 1,2), ДатаВклМСП\n",
    "        - объект ОргВклМСП атрибут ИННЮЛ - будет ключом\n",
    "        - объект СвОКВЭД\n",
    "            - вложенные объекты - если есть СвОКВЭДДоп - из первого атрибут ВерсОКВЭД (версия справочника),\n",
    "            по остальным - список атрибутов КодОКВЭД\n",
    "        - далее - если есть СвЛиценз (сведения о лицензиях) - счётчик, если несколько: считаем вложенные объекты НаимЛицВД (наименование лицензии)\n",
    "\n",
    "        - СвПрод (Сведения о производимой субъектом МСП продукции) - если есть, мб несколько объектов - собираем в список атрибут КодПрод (Код вида продукции) (это справочник ОКПД2?), если есть хотя бы 1 атрибут ПрОтнПрод == 1 (признак отнесения продукциик инновационной, высокотехнологичной) - можно взять как бинарный признак\n",
    "\n",
    "        - объект СвКонтр - мб несколько (Сведения о наличии у субъекта МСП в предшествующем календарном году контрактов, заключенных в соответствии с Федеральным законом от 5 апреля 2013 года №44-ФЗ) - для обеспечения государственных и муниципальных нужд: взять число контрактов\n",
    "\n",
    "        - СвДог (Сведения о наличии у субъекта МСП в предшествующем календарном году договоров, заключенных в соответствии с Федеральным законом от 18 июля 2011 года №223-ФЗ) - О закупках товаров, работ, услуг: мб несколько, взять число\n",
    "\n",
    "кажется, 1 - это да, 2 - нет"
   ]
  },
  {
   "cell_type": "code",
   "execution_count": 11,
   "id": "ffa85570",
   "metadata": {},
   "outputs": [],
   "source": [
    "file = \"../raw_data/reestr_ms/data-10032023-structure-10032022/VO_RRMSPSV_0000_9965_20230310_00a62ea7-b905-4787-aec9-3d44f97cdb1f.xml\"\n",
    "tree = etree.parse(file)\n",
    "root = tree.getroot()\n",
    "docs = root.findall(\"Документ[ОргВклМСП]\")\n",
    "doc = docs[1]"
   ]
  },
  {
   "cell_type": "code",
   "execution_count": 12,
   "id": "f9cc8dd0",
   "metadata": {},
   "outputs": [
    {
     "name": "stdout",
     "output_type": "stream",
     "text": [
      "<Документ ИдДок=\"308515e2-59fe-4000-b750-8afdd4f6e095\" ДатаСост=\"10.03.2023\" ДатаВклМСП=\"10.09.2019\" ВидСубМСП=\"1\" КатСубМСП=\"1\" ПризНовМСП=\"2\" СведСоцПред=\"2\" ССЧР=\"6\">\n",
      "  <ОргВклМСП НаимОрг=\"ОБЩЕСТВО С ОГРАНИЧЕННОЙ ОТВЕТСТВЕННОСТЬЮ &quot;ТЕКЛАЙН&quot;\" НаимОргСокр=\"ООО &quot;ТЕКЛАЙН&quot;\" ИННЮЛ=\"4702020559\" ОГРН=\"1194704019894\"/>\n",
      "  <СведМН КодРегион=\"47\">\n",
      "    <Регион Тип=\"ОБЛАСТЬ\" Наим=\"ЛЕНИНГРАДСКАЯ\"/>\n",
      "    <Район Тип=\"РАЙОН\" Наим=\"ВОЛХОВСКИЙ\"/>\n",
      "    <Город Тип=\"ГОРОД\" Наим=\"ВОЛХОВ\"/>\n",
      "  </СведМН>\n",
      "  <СвОКВЭД>\n",
      "    <СвОКВЭДОсн КодОКВЭД=\"42.11\" НаимОКВЭД=\"Строительство автомобильных дорог и автомагистралей\" ВерсОКВЭД=\"2014\"/>\n",
      "    <СвОКВЭДДоп КодОКВЭД=\"77.32\" НаимОКВЭД=\"Аренда и лизинг строительных машин и оборудования\" ВерсОКВЭД=\"2014\"/>\n",
      "    <СвОКВЭДДоп КодОКВЭД=\"52.29\" НаимОКВЭД=\"Деятельность вспомогательная прочая, связанная с перевозками\" ВерсОКВЭД=\"2014\"/>\n",
      "    <СвОКВЭДДоп КодОКВЭД=\"46.73.6\" НаимОКВЭД=\"Торговля оптовая прочими строительными материалами и изделиями\" ВерсОКВЭД=\"2014\"/>\n",
      "    <СвОКВЭДДоп КодОКВЭД=\"49.41.3\" НаимОКВЭД=\"Аренда грузового автомобильного транспорта с водителем\" ВерсОКВЭД=\"2014\"/>\n",
      "    <СвОКВЭДДоп КодОКВЭД=\"49.41.2\" НаимОКВЭД=\"Перевозка грузов неспециализированными автотранспортными средствами\" ВерсОКВЭД=\"2014\"/>\n",
      "    <СвОКВЭДДоп КодОКВЭД=\"49.41.1\" НаимОКВЭД=\"Перевозка грузов специализированными автотранспортными средствами\" ВерсОКВЭД=\"2014\"/>\n",
      "  </СвОКВЭД>\n",
      "</Документ>\n",
      "\n"
     ]
    }
   ],
   "source": [
    "print(etree.tostring(doc, encoding = \"unicode\", pretty_print=True))"
   ]
  },
  {
   "cell_type": "code",
   "execution_count": 2,
   "id": "05b15166",
   "metadata": {},
   "outputs": [],
   "source": [
    "# небольшая очистка\n",
    "def clean(val):\n",
    "    if isinstance(val, str):\n",
    "        val = val.strip()\n",
    "#         if val.isdigit():\n",
    "#             return int(val)\n",
    "    return val"
   ]
  },
  {
   "cell_type": "markdown",
   "id": "6e2d3c76",
   "metadata": {},
   "source": [
    "- неожиданная проблема возникла после очистки инн - неуникальные инн (в итоге - всего 2): проще разрешить неуникальность и потом вычислить такие инн, чем проверять каждый инн до формирования пакета\n",
    "- поэтому делаю временный primary key для таблицы, а после вставки - вычищаю повторы и изменяю ключ"
   ]
  },
  {
   "cell_type": "code",
   "execution_count": 3,
   "id": "d586464f",
   "metadata": {},
   "outputs": [],
   "source": [
    "# таблица reestr_msp\n",
    "# Критерии среднего предприятия - не более 1500 человек\n",
    "# формат даты распознаёт и приводит автоматически\n",
    "reestr_sql = 'CREATE TABLE reestr_msp (\\\n",
    "temp_id bigserial PRIMARY KEY, \\\n",
    "inn int8, \\\n",
    "n_employees int2, \\\n",
    "is_soc_enterprise int2, \\\n",
    "newly_establ int2, \\\n",
    "subj_cat int2, \\\n",
    "subj_form int2, \\\n",
    "inclusion_date date, \\\n",
    "n_okovd_add int2, \\\n",
    "okovd_add_vers varchar (8), \\\n",
    "okovd_add_code text [], \\\n",
    "n_licenses int2, \\\n",
    "n_products int2, \\\n",
    "products_code text [], \\\n",
    "is_high_tech int2, \\\n",
    "n_contracts int2, \\\n",
    "n_agreements int2 \\\n",
    ");'"
   ]
  },
  {
   "cell_type": "code",
   "execution_count": null,
   "id": "54f777b7",
   "metadata": {},
   "outputs": [],
   "source": [
    "# обёртка для транзакции (вместо commit())\n",
    "connect = psycopg2.connect(dbname=\"fns_data\", user=\"user\", password='', host=\"localhost\", port=5432)\n",
    "with connect:\n",
    "    with connect.cursor() as cur:\n",
    "        cur.execute(reestr_sql)\n",
    "\n",
    "connect.close()"
   ]
  },
  {
   "cell_type": "code",
   "execution_count": 4,
   "id": "cc017333",
   "metadata": {},
   "outputs": [],
   "source": [
    "# функция - для получения одного val\n",
    "def get_val(doc):\n",
    "    \"\"\"\n",
    "    Принимает один документ\n",
    "    Возвращает необходимые поля, упакованые в кортеж\n",
    "    \"\"\"\n",
    "    val = []\n",
    "    # это ключ\n",
    "    val.append(clean(doc.find('ОргВклМСП').attrib['ИННЮЛ']))\n",
    "    # некоторых атрибутов может не быть\n",
    "    try:\n",
    "        val.append(clean(doc.attrib['ССЧР']))\n",
    "    except KeyError:\n",
    "        val.append(None)\n",
    "    try:\n",
    "        # является ли соц. предприятием\n",
    "        val.append(1 if doc.attrib['СведСоцПред'] == '1' else 0)\n",
    "    except KeyError:\n",
    "        val.append(None)        \n",
    "    try:\n",
    "        # вновь создано?\n",
    "        val.append(1 if doc.attrib['ПризНовМСП'] == '1' else 0 )\n",
    "    except KeyError:\n",
    "        val.append(None)\n",
    "    try:    \n",
    "        # категория организации\n",
    "        val.append(clean(doc.attrib['КатСубМСП']))  # 1, 2, 3, не знаю, что - эти двое совпадают?\n",
    "    except KeyError:\n",
    "        val.append(None)    \n",
    "    try:    \n",
    "        # форма\n",
    "        val.append(clean(doc.attrib['ВидСубМСП'])) # 1, 2, 3, не знаю, что\n",
    "    except KeyError:\n",
    "        val.append(None)\n",
    "    try:\n",
    "        # дата включения в реестр\n",
    "        val.append(doc.attrib['ДатаВклМСП'])\n",
    "    except KeyError:\n",
    "        val.append(None)\n",
    "\n",
    "    # а здесь - по видам деятельности, код основного - из mongo, а из дополнительных - если есть:\n",
    "    # если ничего нет, ошибки не будет\n",
    "    add_occupations = doc.findall('СвОКВЭД/СвОКВЭДДоп')\n",
    "    val.append(len(add_occupations))  # число доп видов деятельности\n",
    "    if add_occupations:\n",
    "        val.append(add_occupations[0].attrib['ВерсОКВЭД'])  # 2014 = okovd2   \n",
    "        val.append([el.attrib['КодОКВЭД'] for el in add_occupations])  # список кодов\n",
    "    else:\n",
    "        # если нет добавочной деятельности => нет и соотв версии\n",
    "        val.append(None)\n",
    "        # и список доп.кодов пустой\n",
    "        val.append([])\n",
    "\n",
    "    # дальше - редкие признаки\n",
    "    # сведения о лицензиях - число лицензий\n",
    "    val.append(len(doc.findall('СвЛиценз')))\n",
    "\n",
    "    # сведения о производимой продкукции\n",
    "    # число типов продукции, список их кодов, если есть хотя бы 1 ПрОтнПрод == 1 - бинарный признак: \n",
    "    # производит инновац/высокотехнологич продукцию\n",
    "    products = doc.findall('СвПрод')\n",
    "    val.append(len(products))\n",
    "    if products:\n",
    "        # список кодов\n",
    "        val.append([el.attrib['КодПрод'] for el in products])\n",
    "        # высокотехнологичный? 1 - да, 2 - нет, аналогично меняю на 1-0\n",
    "        val.append(1 if '1' in [el.attrib['ПрОтнПрод'] for el in products] else 0)\n",
    "    else:\n",
    "        val.append([])\n",
    "        val.append(0)\n",
    "\n",
    "    # сведения о контрактах -  ФЗ \"О контрактной системе в сфере закупок товаров, работ, услуг \n",
    "    # для обеспечения государственных и муниципальных нужд\"\n",
    "    # число контрактов\n",
    "    # мб - объеденить с договорами?\n",
    "    val.append(len(doc.findall('СвКонтр')))\n",
    "\n",
    "    # сведения о договорах - ФЗ \"О закупках товаров, работ, услуг отдельными видами юридических лиц\" \n",
    "    # число договоров\n",
    "    val.append(len(doc.findall('СвДог')))\n",
    "\n",
    "    return tuple(val)"
   ]
  },
  {
   "cell_type": "code",
   "execution_count": null,
   "id": "2676aeb7",
   "metadata": {},
   "outputs": [],
   "source": [
    "path = '../raw_data/reestr_ms/data-10032023-structure-10032022'\n",
    "xpath = \"Документ[ОргВклМСП]\"\n",
    "connect = psycopg2.connect(dbname=\"fns_data\", user=\"user\", password='', host=\"localhost\", port=5432)\n",
    "table_name = 'reestr_msp'\n",
    "table_columns = ['inn', 'n_employees', 'is_soc_enterprise', 'newly_establ', 'subj_cat', \n",
    "                 'subj_form', 'inclusion_date', 'n_okovd_add', 'okovd_add_vers', 'okovd_add_code', \n",
    "                 'n_licenses', 'n_products', 'products_code', 'is_high_tech', 'n_contracts', \n",
    "                 'n_agreements']"
   ]
  },
  {
   "cell_type": "code",
   "execution_count": 5,
   "id": "ac285b90",
   "metadata": {},
   "outputs": [],
   "source": [
    "# функция для итерирования по файлам, сбора документов и вставки в таблицу\n",
    "# тоже разбить на несколько небольших функций?\n",
    "def insert_to_pgsql(path, xpath, connect, table_name, table_columns):\n",
    "    files = [path + '/' + file for file in os.listdir(path)]\n",
    "    for file in files:\n",
    "        tree = etree.parse(file)\n",
    "        root = tree.getroot()\n",
    "        docs = root.findall(xpath)\n",
    "        \n",
    "#         print(len(docs), file)\n",
    "        # если список не пуст:\n",
    "        if docs:\n",
    "            values = []\n",
    "            for doc in docs:\n",
    "                val = get_val(doc)\n",
    "                values.append(val)\n",
    "            \n",
    "            # транзакции не равномерны - от 1-2 до 900 значений\n",
    "            # и стоит ли каждый раз закрывать курсор?\n",
    "            with connect:\n",
    "                with connect.cursor() as cur:\n",
    "                    insert = (\n",
    "                         sql.SQL(\n",
    "                          'INSERT INTO {} ({}) VALUES {}')\n",
    "                          .format(sql.Identifier(table_name), \n",
    "                                  sql.SQL(',').join(map(sql.Identifier, table_columns)), \n",
    "                                  sql.SQL(',').join(map(sql.Literal, values))\n",
    "                         )\n",
    "                        )\n",
    "                    cur.execute(insert)\n",
    "\n",
    "    connect.close()"
   ]
  },
  {
   "cell_type": "markdown",
   "id": "346d5fce",
   "metadata": {},
   "source": [
    "- Wall time: 19min 14s, count 2 332 303"
   ]
  },
  {
   "cell_type": "code",
   "execution_count": null,
   "id": "65cbdd44",
   "metadata": {},
   "outputs": [],
   "source": [
    "# %%time\n",
    "# insert_to_pgsql(path, xpath, connect, table_name, table_columns)"
   ]
  },
  {
   "cell_type": "markdown",
   "id": "f9f298a5",
   "metadata": {},
   "source": [
    "- меняем ключ"
   ]
  },
  {
   "cell_type": "code",
   "execution_count": null,
   "id": "3e638455",
   "metadata": {},
   "outputs": [],
   "source": [
    "connect = psycopg2.connect(dbname=\"fns_data\", user=\"user\", password='', host=\"localhost\", port=5432)"
   ]
  },
  {
   "cell_type": "code",
   "execution_count": null,
   "id": "2990cca3",
   "metadata": {},
   "outputs": [],
   "source": [
    "# одинаковые инн\n",
    "with connect:\n",
    "    with connect.cursor() as cur:\n",
    "        select = 'SELECT inn, count(inn) FROM reestr_msp rm GROUP BY inn HAVING count(inn) > 1;'\n",
    "        cur.execute(select)\n",
    "        print(cur.fetchall())"
   ]
  },
  {
   "cell_type": "markdown",
   "id": "cd538dd0",
   "metadata": {},
   "source": [
    "    [(6371005166, 2), (6319000782, 2)]"
   ]
  },
  {
   "cell_type": "code",
   "execution_count": null,
   "id": "dd3aa3b2",
   "metadata": {},
   "outputs": [],
   "source": [
    "# удаляем все 4 записи\n",
    "with connect:\n",
    "    with connect.cursor() as cur:\n",
    "        delete = 'DELETE FROM reestr_msp WHERE inn in (6371005166, 6319000782);'\n",
    "        cur.execute(delete)"
   ]
  },
  {
   "cell_type": "code",
   "execution_count": null,
   "id": "163a5444",
   "metadata": {},
   "outputs": [],
   "source": [
    "# и меняем таблицу - удаляем старый первичный ключ, добавляем новый\n",
    "# это долго - так как проверяет все inn на условие...\n",
    "with connect:\n",
    "    with connect.cursor() as cur:\n",
    "        alter1 = 'ALTER TABLE reestr_msp DROP COLUMN temp_id;'\n",
    "        alter2 = 'ALTER TABLE reestr_msp ADD PRIMARY KEY (inn);'\n",
    "        cur.execute(alter1)\n",
    "        cur.execute(alter2)"
   ]
  },
  {
   "cell_type": "code",
   "execution_count": null,
   "id": "a1afa15b",
   "metadata": {},
   "outputs": [],
   "source": [
    "connect.close()"
   ]
  },
  {
   "cell_type": "markdown",
   "id": "1da20985",
   "metadata": {},
   "source": [
    "#### - Сведения о суммах недоимки и задолженности по пеням и штрафам\n",
    "\n",
    "https://www.nalog.gov.ru/opendata/7707329152-debtam/\n",
    "\n",
    "- Сведения указываются по состоянию на 31 декабря года, предшествующего году их размещения на сайте ФНС России, при наличии такой недоимки и задолженности по пеням и штрафам по состоянию на 1 октября года размещения указанных сведений на сайте ФНС России\n",
    "\n",
    "- что-то из этого может быть целью\n",
    "\n",
    "- здесь только юр лица\n",
    "\n",
    "Собираем:\n",
    "    \n",
    "- Документ:\n",
    "    - атрибут ДатаСост - Дата, по состоянию на которую, подготовлены данные для публикации\n",
    "    \n",
    "    - СведНП \n",
    "        - атрибут ИННЮЛ - id, очистка и уникальность\n",
    "    \n",
    "    - несколько СведНедоим суммируем по атрибутам: \n",
    "      \n",
    "        - СумШтраф - конкретная сумма, ненадлежащее исполнение\n",
    "        - СумПени - за дни просрочки\n",
    "        - СумНедНалог - сама недоимка\n",
    "        \n",
    "        Сами СведНедоим разбиты по имени налога (\"Страховые и другие взносы на обязательное пенсионное страхование, зачисляемые в Пенсионный фонд Российской Федерации\", \"НЕНАЛОГОВЫЕ ДОХОДЫ, администрируемые налоговыми органами\"), при этом какой-либо код отсутствует, а искать по длинной строке с возможными опечатками стоит только, если нужно что-то конкретное."
   ]
  },
  {
   "cell_type": "code",
   "execution_count": 13,
   "id": "fe95c4df",
   "metadata": {},
   "outputs": [],
   "source": [
    "file = '../raw_data\\debt\\VO_OT6\\VO_OTKRDAN6_9965_9965_20221220_000cc2e4-2682-40ab-9982-98870d1423d9.xml'\n",
    "tree = etree.parse(file)\n",
    "root = tree.getroot()\n",
    "docs = root.findall(\"Документ\")\n",
    "doc = docs[0]"
   ]
  },
  {
   "cell_type": "code",
   "execution_count": 14,
   "id": "8b8e0620",
   "metadata": {},
   "outputs": [
    {
     "name": "stdout",
     "output_type": "stream",
     "text": [
      "<Документ ИдДок=\"30141970-7ee6-44c9-8bb6-5db64b0576c1\" ДатаДок=\"20.12.2022\" ДатаСост=\"31.12.2021\">\n",
      "  <СведНП НаимОрг=\"ОБЩЕСТВО С ОГРАНИЧЕННОЙ ОТВЕТСТВЕННОСТЬЮ &quot;СУББОТНИК&quot;\" ИННЮЛ=\"7430020629\"/>\n",
      "  <СведНедоим НаимНалог=\"Страховые взносы на обязательное медицинское страхование работающего населения, зачисляемые в бюджет Федерального фонда обязательного медицинского страхования\" СумНедНалог=\"0.00\" СумПени=\"56.14\" СумШтраф=\"0.00\" ОбщСумНедоим=\"56.14\"/>\n",
      "  <СведНедоим НаимНалог=\"НЕНАЛОГОВЫЕ ДОХОДЫ, администрируемые налоговыми органами\" СумНедНалог=\"0.00\" СумПени=\"0.00\" СумШтраф=\"500.00\" ОбщСумНедоим=\"500.00\"/>\n",
      "  <СведНедоим НаимНалог=\"Налог, взимаемый в связи с  применением упрощенной  системы налогообложения\" СумНедНалог=\"47026.42\" СумПени=\"29529.77\" СумШтраф=\"16360.00\" ОбщСумНедоим=\"92916.19\"/>\n",
      "  <СведНедоим НаимНалог=\"Страховые и другие взносы на обязательное пенсионное страхование, зачисляемые в Пенсионный фонд Российской Федерации\" СумНедНалог=\"0.00\" СумПени=\"242.16\" СумШтраф=\"0.00\" ОбщСумНедоим=\"242.16\"/>\n",
      "</Документ>\n",
      "\n"
     ]
    }
   ],
   "source": [
    "print(etree.tostring(doc, encoding = \"unicode\", pretty_print=True))"
   ]
  },
  {
   "cell_type": "code",
   "execution_count": null,
   "id": "5cc0c5a1",
   "metadata": {},
   "outputs": [],
   "source": [
    "# для обработки сумм\n",
    "def to_float(val):\n",
    "    if isinstance(val, str):\n",
    "        val = val.strip().replace(',', '.')      \n",
    "        try:\n",
    "            return float(val)        \n",
    "        except ValueError:                                           \n",
    "            return 0 # val  # чтобы не терять другие значения\n",
    "    return val"
   ]
  },
  {
   "cell_type": "code",
   "execution_count": null,
   "id": "bf015e38",
   "metadata": {},
   "outputs": [],
   "source": [
    "def get_val(doc):\n",
    "    \"\"\"\n",
    "    Принимает один документ\n",
    "    Возвращает необходимые поля, упакованые в кортеж\n",
    "    \"\"\"\n",
    "    val = []\n",
    "    # инн = ключ\n",
    "    val.append(clean(doc.find('СведНП').attrib['ИННЮЛ']))\n",
    "    # дата, по состоянию на которую есть данные\n",
    "    val.append(clean(doc.attrib['ДатаСост']))\n",
    "    # общая сумма по видам налогов: сама недоимка, пени (за дни просрочки), \n",
    "    # штраф (конкретная сумма, ненадлежащее исполнение)\n",
    "    all_debts = doc.findall('СведНедоим')\n",
    "    # недоимка\n",
    "    arrears = 0\n",
    "    # пени\n",
    "    penalties = 0\n",
    "    # штраф\n",
    "    fines = 0\n",
    "    for debt in all_debts:\n",
    "        arrears += to_float(debt.attrib['СумНедНалог'])\n",
    "        penalties += to_float(debt.attrib['СумПени'])\n",
    "        fines += to_float(debt.attrib['СумШтраф'])\n",
    "    val.extend([arrears, penalties, fines])\n",
    "    \n",
    "    return tuple(val)"
   ]
  },
  {
   "cell_type": "code",
   "execution_count": null,
   "id": "6c5503b3",
   "metadata": {},
   "outputs": [],
   "source": [
    "# таблица\n",
    "debt_sql = 'CREATE TABLE debt (\\\n",
    "inn int8 PRIMARY KEY, \\\n",
    "status_date date, \\\n",
    "arrears money, \\\n",
    "penalties money, \\\n",
    "fines money \\\n",
    ");'"
   ]
  },
  {
   "cell_type": "code",
   "execution_count": null,
   "id": "96862685",
   "metadata": {},
   "outputs": [],
   "source": [
    "connect = psycopg2.connect(dbname=\"fns_data\", user=\"user\", password='', host=\"localhost\", port=5432)\n",
    "with connect:\n",
    "    with connect.cursor() as cur:\n",
    "        cur.execute(debt_sql)\n",
    "\n",
    "connect.close()"
   ]
  },
  {
   "cell_type": "code",
   "execution_count": null,
   "id": "15be04eb",
   "metadata": {},
   "outputs": [],
   "source": [
    "path = '../raw_data/debt/VO_OT6'\n",
    "xpath = \"Документ\"  # содержит только ИННЮЛ\n",
    "connect = psycopg2.connect(dbname=\"fns_data\", user=\"user\", password='', host=\"localhost\", port=5432)\n",
    "table_name = 'debt'\n",
    "table_columns = ['inn', 'status_date', 'arrears', 'penalties', 'fines']"
   ]
  },
  {
   "cell_type": "code",
   "execution_count": null,
   "id": "9819bd04",
   "metadata": {},
   "outputs": [],
   "source": [
    "# %%time\n",
    "# insert_to_pgsql(path, xpath, connect, table_name, table_columns)"
   ]
  },
  {
   "cell_type": "markdown",
   "id": "0283680a",
   "metadata": {},
   "source": [
    "- Wall time: 5min 50s, count 1 080 232"
   ]
  },
  {
   "cell_type": "markdown",
   "id": "e428484a",
   "metadata": {},
   "source": [
    "#### - реестр субъектов малого и среднего предпринимательства – получателей поддержки\n",
    "\n",
    "https://www.nalog.gov.ru/opendata/7707329152-rsmppp/\n",
    "\n",
    "- опять же, много видов поддержки, возьмём только финансовую\n",
    "\n",
    "- Документ (у которого есть элемент СвЮЛ)\n",
    "    - СвЮЛ - атрибут ИННЮЛ\n",
    "    - и дальше несколько СвПредПод\n",
    "        \n",
    "        - атрибут ИнфНаруш - 1 или 2 - Информация о наличии нарушения порядка и условий оказания поддержки\n",
    "        - атрибут ДатаПрин - дата принятия решения о предоставлении поддержки\n",
    "\n",
    "        - элемент ФормПод - форма поддержки\n",
    "\n",
    "        отбираем тех, у кого атрибут КодФорм=\"0100\" - это финансовая поддержка\n",
    "        - на этом же уровне - элемент ВидПод - \n",
    "            - субсидии и гранты, КодВид=\"0103\" ед 1, видимо деньги\n",
    "            - финансирование на возвратной основе КодВид=\"0104\" ед поддержки 4\n",
    "            - гарантии и поручительство =\"0102\"\n",
    "        - РазмПод имеет значения в зависимости от атрибута ЕдПод - Единица измерения поддержки, значение 1 (деньги), 2, 3 (видимо, число консультаций), 4 (не знаю, что, процент?), 5 (мероприятия?)\n",
    "\n",
    "- может быть несколько поддержек для 1 организации одного вида или разных видов\n",
    "- так как не знаю, что ищу, можно сделать строка = конкретный акт поддержки (а не организация)\n",
    "- тем более, что фактор времени (дата принятия решения о поддержке) - пока не знаю, какой период нужен"
   ]
  },
  {
   "cell_type": "code",
   "execution_count": 9,
   "id": "0e62d50f",
   "metadata": {},
   "outputs": [],
   "source": [
    "file = \"../raw_data/support_ms/data/VO_SVMSP_0000_9965_20230315_00a60c8b-cb46-42f4-bb16-beee983cf34d.xml\"\n",
    "tree = etree.parse(file)\n",
    "root = tree.getroot()\n",
    "docs = root.findall(\"Документ[СвЮЛ]\")\n",
    "doc = docs[1]"
   ]
  },
  {
   "cell_type": "code",
   "execution_count": 10,
   "id": "40e36a7f",
   "metadata": {},
   "outputs": [
    {
     "name": "stdout",
     "output_type": "stream",
     "text": [
      "<Документ ИдДок=\"264abcc9-c501-4845-89df-3d77cdbb15a6\" ДатаСост=\"15.03.2023\">\n",
      "  <СвЮЛ ИННЮЛ=\"3810047203\" НаимОрг=\"ООО &quot;БАРГУЗИН&quot;\"/>\n",
      "  <СвПредПод ВидПП=\"1\" НаимОрг=\"ФЕДЕРАЛЬНАЯ НАЛОГОВАЯ СЛУЖБА\" ИННЮЛ=\"7707329152\" КатСуб=\"1\" СрокПод=\"19.06.2020\" ДатаПрин=\"19.06.2020\" ИнфНаруш=\"2\">\n",
      "    <ФормПод КодФорм=\"0100\" НаимФорм=\"Финансовая поддержка\"/>\n",
      "    <ВидПод КодВид=\"0103\" НаимВид=\"Предоставление субсидий и грантов\"/>\n",
      "    <РазмПод РазмПод=\"48520.00\" ЕдПод=\"1\"/>\n",
      "  </СвПредПод>\n",
      "  <СвПредПод ВидПП=\"1\" НаимОрг=\"ФЕДЕРАЛЬНАЯ НАЛОГОВАЯ СЛУЖБА\" ИННЮЛ=\"7707329152\" КатСуб=\"1\" СрокПод=\"19.05.2020\" ДатаПрин=\"19.05.2020\" ИнфНаруш=\"2\">\n",
      "    <ФормПод КодФорм=\"0100\" НаимФорм=\"Финансовая поддержка\"/>\n",
      "    <ВидПод КодВид=\"0103\" НаимВид=\"Предоставление субсидий и грантов\"/>\n",
      "    <РазмПод РазмПод=\"48520.00\" ЕдПод=\"1\"/>\n",
      "  </СвПредПод>\n",
      "  <СвПредПод ВидПП=\"1\" НаимОрг=\"ФЕДЕРАЛЬНАЯ НАЛОГОВАЯ СЛУЖБА\" ИННЮЛ=\"7707329152\" КатСуб=\"1\" СрокПод=\"25.11.2021\" ДатаПрин=\"25.11.2021\" ИнфНаруш=\"2\">\n",
      "    <ФормПод КодФорм=\"0100\" НаимФорм=\"Финансовая поддержка\"/>\n",
      "    <ВидПод КодВид=\"0103\" НаимВид=\"Предоставление субсидий и грантов\"/>\n",
      "    <РазмПод РазмПод=\"409344.00\" ЕдПод=\"1\"/>\n",
      "  </СвПредПод>\n",
      "</Документ>\n",
      "\n"
     ]
    }
   ],
   "source": [
    "print(etree.tostring(doc, encoding = \"unicode\", pretty_print=True))"
   ]
  },
  {
   "cell_type": "code",
   "execution_count": 15,
   "id": "0d661f9e",
   "metadata": {},
   "outputs": [],
   "source": [
    "def get_values(doc):\n",
    "    \"\"\"\n",
    "    Принимает документ\n",
    "    Возвращает несколько строк для вставки (список кортежей) или ни одной строки\n",
    "    \"\"\"   \n",
    "    values = []\n",
    "    # общие данные для строк одного документа\n",
    "    inn = clean(doc.find('СвЮЛ').attrib['ИННЮЛ'])\n",
    "    # вся финансовая поддержка\n",
    "    supports = doc.findall('СвПредПод')\n",
    "\n",
    "    for support in supports:\n",
    "        # если финансовая поддержка - забираем\n",
    "        if support.find('ФормПод').attrib['КодФорм'] == \"0100\":\n",
    "            val = []\n",
    "            val.append(inn)\n",
    "            # дата принятия решения о предоставлении поддержки\n",
    "            val.append(support.attrib['ДатаПрин'])\n",
    "            # есть ли нарушение? 1 - да, 0 - нет\n",
    "            val.append(1 if support.attrib['ИнфНаруш'] == \"1\" else 0)\n",
    "            # код формы: 0102 - гарантии и поручительство, 0103 - субсидии и гранты, \n",
    "            # 0104 - возвратная основа\n",
    "            val.append(clean(support.find('ВидПод').attrib['КодВид']))\n",
    "            # размер\n",
    "            val.append(to_float(support.find('РазмПод').attrib['РазмПод']))\n",
    "            # единица: 1 (деньги), 2, 3 (число консультаций?), 4 (процент?), 5 (мероприятия?)\n",
    "            # 1 для 0102 и 0103, 4 для 0104\n",
    "            val.append(clean(support.find('РазмПод').attrib['ЕдПод']))\n",
    "\n",
    "            values.append(tuple(val))\n",
    "    \n",
    "    return values"
   ]
  },
  {
   "cell_type": "code",
   "execution_count": 16,
   "id": "e6e52072",
   "metadata": {},
   "outputs": [],
   "source": [
    "# и своя ф-я для вставки, ещё более громоздкая!\n",
    "def inserts_to_pgsql(path, xpath, connect, table_name, table_columns):\n",
    "    files = [path + '/' + file for file in os.listdir(path)]\n",
    "    for file in files:\n",
    "        tree = etree.parse(file)\n",
    "        root = tree.getroot()\n",
    "        docs = root.findall(xpath)\n",
    "        \n",
    "#         print(len(docs), file)\n",
    "        # если список не пуст:\n",
    "        if docs:\n",
    "            values = []\n",
    "            for doc in docs:\n",
    "                val_list = get_values(doc)\n",
    "                # если не пуст\n",
    "                if val_list:\n",
    "                    values.extend(val_list)\n",
    "\n",
    "            if values:\n",
    "                with connect:\n",
    "                    with connect.cursor() as cur:\n",
    "                        insert = (\n",
    "                             sql.SQL(\n",
    "                              'INSERT INTO {} ({}) VALUES {}')\n",
    "                              .format(sql.Identifier(table_name), \n",
    "                                      sql.SQL(',').join(map(sql.Identifier, table_columns)), \n",
    "                                      sql.SQL(',').join(map(sql.Literal, values))\n",
    "                             )\n",
    "                            )\n",
    "                        cur.execute(insert)\n",
    "\n",
    "    connect.close()"
   ]
  },
  {
   "cell_type": "code",
   "execution_count": 17,
   "id": "8281b3af",
   "metadata": {},
   "outputs": [],
   "source": [
    "support_sql = 'CREATE TABLE support_ms (\\\n",
    "id bigserial PRIMARY KEY, \\\n",
    "inn int8, \\\n",
    "support_date date, \\\n",
    "is_breach int2, \\\n",
    "form_code char (4), \\\n",
    "support_volume money, \\\n",
    "support_unit int2 \\\n",
    ");'"
   ]
  },
  {
   "cell_type": "code",
   "execution_count": null,
   "id": "907bc7a5",
   "metadata": {},
   "outputs": [],
   "source": [
    "connect = psycopg2.connect(dbname=\"fns_data\", user=\"user\", password='', host=\"localhost\", port=5432)\n",
    "with connect:\n",
    "    with connect.cursor() as cur:\n",
    "        cur.execute(support_sql)\n",
    "\n",
    "connect.close()"
   ]
  },
  {
   "cell_type": "code",
   "execution_count": null,
   "id": "b9321215",
   "metadata": {},
   "outputs": [],
   "source": [
    "path = '../raw_data/support_ms/data'\n",
    "xpath = \"Документ[СвЮЛ]\"\n",
    "connect = psycopg2.connect(dbname=\"fns_data\", user=\"user\", password='new_password', host=\"localhost\", port=5432)\n",
    "table_name = 'support_ms'\n",
    "table_columns = ['inn', 'support_date', 'is_breach', 'form_code', 'support_volume', 'support_unit']"
   ]
  },
  {
   "cell_type": "code",
   "execution_count": null,
   "id": "7ca5bd96",
   "metadata": {},
   "outputs": [],
   "source": [
    "# %%time\n",
    "# inserts_to_pgsql(path, xpath, connect, table_name, table_columns)"
   ]
  },
  {
   "cell_type": "markdown",
   "id": "899bd582",
   "metadata": {},
   "source": [
    "- Wall time: 10min 23s\n",
    "- Count 1 170 650, count(DISTINCT inn) - 381 279\n",
    "- уникальные даты поддержки - с 2019 по 2023"
   ]
  },
  {
   "cell_type": "markdown",
   "id": "ca7fd6c9",
   "metadata": {},
   "source": [
    "- на данный момент - 3 таблицы, будут связаны по inn"
   ]
  },
  {
   "cell_type": "markdown",
   "id": "aa3aefa9",
   "metadata": {},
   "source": [
    "- в MongoDB около 300 тыс строк, к моменту, как начну соединять данные, думаю, будет около 500 тыс\n",
    "- необработаны остались 2 xml архива и немного csv (много проще структура)"
   ]
  }
 ],
 "metadata": {
  "kernelspec": {
   "display_name": "Python 3 (ipykernel)",
   "language": "python",
   "name": "python3"
  },
  "language_info": {
   "codemirror_mode": {
    "name": "ipython",
    "version": 3
   },
   "file_extension": ".py",
   "mimetype": "text/x-python",
   "name": "python",
   "nbconvert_exporter": "python",
   "pygments_lexer": "ipython3",
   "version": "3.8.8"
  }
 },
 "nbformat": 4,
 "nbformat_minor": 5
}
