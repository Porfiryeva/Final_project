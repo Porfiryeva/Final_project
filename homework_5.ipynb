{
 "cells": [
  {
   "cell_type": "markdown",
   "id": "a5a4235c",
   "metadata": {},
   "source": [
    "- соединяем таблицы в postgre"
   ]
  },
  {
   "cell_type": "code",
   "execution_count": 14,
   "id": "b7ea6865",
   "metadata": {},
   "outputs": [],
   "source": [
    "import psycopg2\n",
    "import os\n",
    "import pandas as pd\n",
    "import pickle\n",
    "import numpy as np\n",
    "\n",
    "from lxml import etree\n",
    "from psycopg2 import sql\n",
    "from pymongo import MongoClient"
   ]
  },
  {
   "cell_type": "markdown",
   "id": "99edaae7",
   "metadata": {},
   "source": [
    "- чтуобы установить внешний ключ в postgre по inn, в дочерних таблицах не должно быть inn, которых нет в родительской (reestr_msp)\n",
    "- это долгий запрос в Postgre, поэтому пробую найти нужные inn в python и потом удалить их"
   ]
  },
  {
   "cell_type": "code",
   "execution_count": 39,
   "id": "f1db4434",
   "metadata": {},
   "outputs": [],
   "source": [
    "connect = psycopg2.connect(dbname=\"fns_data\", user=\"user\", password='new_password', host=\"localhost\", port=5432)"
   ]
  },
  {
   "cell_type": "code",
   "execution_count": 35,
   "id": "4eaebe5a",
   "metadata": {},
   "outputs": [],
   "source": [
    "connect.close()"
   ]
  },
  {
   "cell_type": "markdown",
   "id": "1c506d4f",
   "metadata": {},
   "source": [
    "Wall time: 3.49 s"
   ]
  },
  {
   "cell_type": "code",
   "execution_count": 26,
   "id": "1fba6a35",
   "metadata": {},
   "outputs": [
    {
     "name": "stdout",
     "output_type": "stream",
     "text": [
      "Wall time: 3.49 s\n"
     ]
    }
   ],
   "source": [
    "%%time\n",
    "with connect:\n",
    "    with connect.cursor() as cur:\n",
    "        cur.execute('SELECT inn FROM reestr_msp')\n",
    "        reestr_inn = cur.fetchall()\n",
    "        cur.execute('SELECT inn FROM debt')\n",
    "        debt_inn = cur.fetchall()\n",
    "        cur.execute('SELECT inn FROM tax_offense')\n",
    "        tax_offense_inn = cur.fetchall()\n",
    "        # здесь inn не уникален!\n",
    "        cur.execute('SELECT DISTINCT inn FROM support_msp')\n",
    "        support_msp_inn = cur.fetchall()"
   ]
  },
  {
   "cell_type": "code",
   "execution_count": 27,
   "id": "85912874",
   "metadata": {},
   "outputs": [],
   "source": [
    "reestr_inn = np.array(reestr_inn)[:, 0]\n",
    "debt_inn = np.array(debt_inn)[:, 0]\n",
    "tax_offense_inn = np.array(tax_offense_inn)[:, 0]\n",
    "support_msp_inn = np.array(support_msp_inn)[:, 0]"
   ]
  },
  {
   "cell_type": "code",
   "execution_count": 28,
   "id": "a9adb9b0",
   "metadata": {},
   "outputs": [
    {
     "data": {
      "text/plain": [
       "(2332299, 1080232, 129827, 381279)"
      ]
     },
     "execution_count": 28,
     "metadata": {},
     "output_type": "execute_result"
    }
   ],
   "source": [
    "len(reestr_inn), len(debt_inn), len(tax_offense_inn), len(support_msp_inn)"
   ]
  },
  {
   "cell_type": "code",
   "execution_count": 48,
   "id": "a5b50413",
   "metadata": {},
   "outputs": [],
   "source": [
    "# находим разницу # это те, кто не является малым и средним, или кого уже удалили из реестра...\n",
    "debt_diff = tuple(set(debt_inn) - set(reestr_inn))\n",
    "tax_offense_diff = tuple(set(tax_offense_inn) - set(reestr_inn))\n",
    "support_diff = tuple(set(support_msp_inn) - set(reestr_inn))"
   ]
  },
  {
   "cell_type": "code",
   "execution_count": 49,
   "id": "335f4c35",
   "metadata": {},
   "outputs": [
    {
     "data": {
      "text/plain": [
       "(263663, 67104, 24989)"
      ]
     },
     "execution_count": 49,
     "metadata": {},
     "output_type": "execute_result"
    }
   ],
   "source": [
    "len(debt_diff), len(tax_offense_diff), len(support_diff)"
   ]
  },
  {
   "cell_type": "markdown",
   "id": "b09f80f1",
   "metadata": {},
   "source": [
    "- удаление"
   ]
  },
  {
   "cell_type": "markdown",
   "id": "432b50d4",
   "metadata": {},
   "source": [
    "Wall time: 12.5 s"
   ]
  },
  {
   "cell_type": "code",
   "execution_count": 58,
   "id": "d4f8755b",
   "metadata": {
    "scrolled": true
   },
   "outputs": [
    {
     "name": "stdout",
     "output_type": "stream",
     "text": [
      "Wall time: 12.5 s\n"
     ]
    }
   ],
   "source": [
    "%%time\n",
    "with connect:\n",
    "    with connect.cursor() as cur:\n",
    "        cur.execute(sql.SQL('DELETE FROM {} WHERE inn IN {}') \\\n",
    "                          .format(sql.Identifier('debt'), \n",
    "                                  sql.Literal(debt_diff)))\n",
    "        cur.execute(sql.SQL('DELETE FROM {} WHERE inn IN {}') \\\n",
    "                          .format(sql.Identifier('tax_offense'), \n",
    "                                  sql.Literal(tax_offense_diff)))\n",
    "        cur.execute(sql.SQL('DELETE FROM {} WHERE inn IN {}') \\\n",
    "                          .format(sql.Identifier('support_msp'), \n",
    "                                  sql.Literal(support_diff)))"
   ]
  },
  {
   "cell_type": "markdown",
   "id": "3419f4f5",
   "metadata": {},
   "source": [
    "- теперь можно устанавливать ограничение"
   ]
  },
  {
   "cell_type": "code",
   "execution_count": 59,
   "id": "7487c38b",
   "metadata": {},
   "outputs": [],
   "source": [
    "with connect:\n",
    "    with connect.cursor() as cur:\n",
    "        cur.execute('ALTER TABLE debt ADD FOREIGN KEY (inn) REFERENCES reestr_msp (inn)')\n",
    "        cur.execute('ALTER TABLE tax_offense ADD FOREIGN KEY (inn) REFERENCES reestr_msp (inn)')\n",
    "        cur.execute('ALTER TABLE support_msp ADD FOREIGN KEY (inn) REFERENCES reestr_msp (inn)')    "
   ]
  },
  {
   "cell_type": "markdown",
   "id": "05a82550",
   "metadata": {},
   "source": [
    "- это не обязательный шаг, но может пригодится, если собирать данные целиком в одном месте"
   ]
  },
  {
   "cell_type": "markdown",
   "id": "f946e59a",
   "metadata": {},
   "source": [
    "- про дочерние или родительские организации:\n",
    "    - нет информации, является ли организация дочерней или родительской (на поверхности не видела такого)\n",
    "    - т.к. малые и средние - скорее будут дочерними, чем родительскими\n",
    "    - но есть информация по контрактам и договорам (только по тем, по которым законодательно д.б. отражена информация) и достаточно подробная - т.е. дочки скорее всего будут иметь заключённые договора\n",
    "    - но я туда не смотрю, чтобы совсем не закопаться.\n",
    "    \n",
    "- про связь со стоимостью и объемами проданного топлива численности населения по регионам: есть в данных переписи, забрать проще, чем остальное - тк названия унифицированы.\n",
    "    "
   ]
  }
 ],
 "metadata": {
  "kernelspec": {
   "display_name": "Python 3 (ipykernel)",
   "language": "python",
   "name": "python3"
  },
  "language_info": {
   "codemirror_mode": {
    "name": "ipython",
    "version": 3
   },
   "file_extension": ".py",
   "mimetype": "text/x-python",
   "name": "python",
   "nbconvert_exporter": "python",
   "pygments_lexer": "ipython3",
   "version": "3.8.8"
  }
 },
 "nbformat": 4,
 "nbformat_minor": 5
}
