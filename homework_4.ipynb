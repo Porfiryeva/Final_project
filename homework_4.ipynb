{
 "cells": [
  {
   "cell_type": "markdown",
   "id": "1a6dfe4f",
   "metadata": {},
   "source": [
    "- закончила с xml, обработала csv и xlsx\n",
    "- изучила данные на предмет пропусков, ошибок, типов данных...\n",
    "    - снова поправила паука и переделала таблицы в postgre\n",
    "- следющим шагом пропишу связи таблиц в postgresql - и начну составлять презентацию"
   ]
  },
  {
   "cell_type": "code",
   "execution_count": 2,
   "id": "fdbd7524",
   "metadata": {},
   "outputs": [],
   "source": [
    "import psycopg2\n",
    "import os\n",
    "import pandas as pd\n",
    "import pickle\n",
    "\n",
    "from lxml import etree\n",
    "from psycopg2 import sql\n",
    "from pymongo import MongoClient"
   ]
  },
  {
   "cell_type": "markdown",
   "id": "86ae142d",
   "metadata": {},
   "source": [
    "#### - Сведения о налоговых правонарушениях и мерах ответственности за их совершение\n",
    "\n",
    "https://www.nalog.gov.ru/opendata/7707329152-taxoffence/\n",
    "\n",
    "Сведения указываются в отношении налоговых правонарушений, решения о привлечении к ответственности за совершение которых вступили в силу в период с 1 января по 31 декабря года, предшествующего году размещения указанных сведений на сайте ФНС России, при неуплате штрафа в срок до 1 октября года размещения таких сведений на сайте ФНС России\n",
    "\n",
    "- все ИННЮЛ и по 1 нарушению для каждого\n",
    "\n",
    "забираем:\n",
    "\n",
    "- Документ:\n",
    "    - атрибут ДатаСост - Дата, по состоянию на которую, подготовлены данные для публикации\n",
    "    - Объект СведНП\n",
    "        - атрибут ИННЮЛ\n",
    "    - Объект СведНаруш\n",
    "        - атрибут СумШтраф - привести к float"
   ]
  },
  {
   "cell_type": "code",
   "execution_count": 3,
   "id": "c3d81ff4",
   "metadata": {},
   "outputs": [],
   "source": [
    "def get_val(doc):\n",
    "    \"\"\"\n",
    "    Принимает один документ\n",
    "    Возвращает необходимые поля, упакованые в кортеж\n",
    "    \"\"\"\n",
    "    val = []\n",
    "    # инн = ключ\n",
    "    val.append(clean(doc.find('СведНП').attrib['ИННЮЛ']))\n",
    "    # дата, по состоянию на которую есть данные\n",
    "    val.append(clean(doc.attrib['ДатаСост']))\n",
    "    # сумма штрафа\n",
    "    val.append(to_float(doc.find('СведНаруш').attrib['СумШтраф']))\n",
    "    \n",
    "    return tuple(val)"
   ]
  },
  {
   "cell_type": "markdown",
   "id": "1e38500f",
   "metadata": {},
   "source": [
    "- столбцы таблицы:\n",
    "\n",
    "        inn\n",
    "        offense_date - дата состояния, а не нарушения!\n",
    "        fine_amount"
   ]
  },
  {
   "cell_type": "code",
   "execution_count": 5,
   "id": "3cc4485c",
   "metadata": {},
   "outputs": [],
   "source": [
    "tax_offense_sql = 'CREATE TABLE tax_offense (\\\n",
    "inn text PRIMARY KEY, \\\n",
    "offense_date date, \\\n",
    "fine_amount decimal \\\n",
    ");'"
   ]
  },
  {
   "cell_type": "code",
   "execution_count": null,
   "id": "5479c1c9",
   "metadata": {},
   "outputs": [],
   "source": [
    "connect = psycopg2.connect(dbname=\"fns_data\", user=\"user\", password='', host=\"localhost\", port=5432)\n",
    "with connect:\n",
    "    with connect.cursor() as cur:\n",
    "        cur.execute(tax_offense_sql)\n",
    "\n",
    "connect.close()"
   ]
  },
  {
   "cell_type": "code",
   "execution_count": null,
   "id": "5f2280cd",
   "metadata": {},
   "outputs": [],
   "source": [
    "path = 'raw_data/tax_offense/data'\n",
    "xpath = \"Документ\"\n",
    "connect = psycopg2.connect(dbname=\"fns_data\", user=\"user\", password='', host=\"localhost\", port=5432)\n",
    "table_name = 'tax_offense'\n",
    "table_columns = ['inn', 'offense_date', 'fine_amount']"
   ]
  },
  {
   "cell_type": "markdown",
   "id": "2c56e610",
   "metadata": {},
   "source": [
    "- Wall time: 4min 24s\n",
    "- COUNT(*) 129 827\n",
    "- DISTINCT offense_date 2021-12-31 - те одна дата"
   ]
  },
  {
   "cell_type": "code",
   "execution_count": null,
   "id": "c9143da2",
   "metadata": {},
   "outputs": [],
   "source": [
    "# %%time\n",
    "# insert_to_pgsql(path, xpath, connect, table_name, table_columns)"
   ]
  },
  {
   "cell_type": "code",
   "execution_count": null,
   "id": "91aff2e5",
   "metadata": {},
   "outputs": [],
   "source": [
    "connect.close()"
   ]
  },
  {
   "cell_type": "markdown",
   "id": "b896f9f5",
   "metadata": {},
   "source": [
    "### дополнительные данные\n",
    "\n",
    "#### - Юридические лица, в состав исполнительных органов которых входят дисквалифицированные лица\n",
    "\n",
    "https://www.nalog.gov.ru/opendata/7707329152-disqualifiedpersons/\n",
    "\n",
    "- csv на около 5 тыс строчек: - те в общем масштабе их мало\n",
    "    - Полное наименование\n",
    "    - ОГРН\n",
    "    - ИНН\n",
    "    - КПП\n",
    "    - Адрес \n",
    "\n",
    "- беру только список инн (здесь только уникальные значения), будет флагом"
   ]
  },
  {
   "cell_type": "code",
   "execution_count": 9,
   "id": "328ad304",
   "metadata": {},
   "outputs": [
    {
     "data": {
      "text/html": [
       "<div>\n",
       "<style scoped>\n",
       "    .dataframe tbody tr th:only-of-type {\n",
       "        vertical-align: middle;\n",
       "    }\n",
       "\n",
       "    .dataframe tbody tr th {\n",
       "        vertical-align: top;\n",
       "    }\n",
       "\n",
       "    .dataframe thead th {\n",
       "        text-align: right;\n",
       "    }\n",
       "</style>\n",
       "<table border=\"1\" class=\"dataframe\">\n",
       "  <thead>\n",
       "    <tr style=\"text-align: right;\">\n",
       "      <th></th>\n",
       "      <th>G1</th>\n",
       "      <th>G2</th>\n",
       "      <th>G3</th>\n",
       "      <th>G4</th>\n",
       "      <th>G5</th>\n",
       "    </tr>\n",
       "  </thead>\n",
       "  <tbody>\n",
       "    <tr>\n",
       "      <th>0</th>\n",
       "      <td>ОБЩЕСТВО С ОГРАНИЧЕННОЙ ОТВЕТСТВЕННОСТЬЮ \"КАРТЕН\"</td>\n",
       "      <td>1175749002263</td>\n",
       "      <td>5751060080</td>\n",
       "      <td>575101001</td>\n",
       "      <td>302030,ОРЛОВСКАЯ ОБЛАСТЬ,,ОРЁЛ ГОРОД,,МОСКОВСК...</td>\n",
       "    </tr>\n",
       "    <tr>\n",
       "      <th>1</th>\n",
       "      <td>ЗАКРЫТОЕ АКЦИОНЕРНОЕ ОБЩЕСТВО \"ВЕПРЬ\"</td>\n",
       "      <td>1087205000541</td>\n",
       "      <td>7222018450</td>\n",
       "      <td>722201001</td>\n",
       "      <td>627500,ТЮМЕНСКАЯ ОБЛАСТЬ,СОРОКИНСКИЙ РАЙОН,,БО...</td>\n",
       "    </tr>\n",
       "    <tr>\n",
       "      <th>2</th>\n",
       "      <td>ОБЩЕСТВО С ОГРАНИЧЕННОЙ ОТВЕТСТВЕННОСТЬЮ \"САМАН\"</td>\n",
       "      <td>1190280053732</td>\n",
       "      <td>0272913945</td>\n",
       "      <td>27201001</td>\n",
       "      <td>450095,БАШКОРТОСТАН РЕСПУБЛИКА,,УФА ГОРОД,,МАЙ...</td>\n",
       "    </tr>\n",
       "  </tbody>\n",
       "</table>\n",
       "</div>"
      ],
      "text/plain": [
       "                                                  G1             G2  \\\n",
       "0  ОБЩЕСТВО С ОГРАНИЧЕННОЙ ОТВЕТСТВЕННОСТЬЮ \"КАРТЕН\"  1175749002263   \n",
       "1              ЗАКРЫТОЕ АКЦИОНЕРНОЕ ОБЩЕСТВО \"ВЕПРЬ\"  1087205000541   \n",
       "2   ОБЩЕСТВО С ОГРАНИЧЕННОЙ ОТВЕТСТВЕННОСТЬЮ \"САМАН\"  1190280053732   \n",
       "\n",
       "           G3         G4                                                 G5  \n",
       "0  5751060080  575101001  302030,ОРЛОВСКАЯ ОБЛАСТЬ,,ОРЁЛ ГОРОД,,МОСКОВСК...  \n",
       "1  7222018450  722201001  627500,ТЮМЕНСКАЯ ОБЛАСТЬ,СОРОКИНСКИЙ РАЙОН,,БО...  \n",
       "2  0272913945   27201001  450095,БАШКОРТОСТАН РЕСПУБЛИКА,,УФА ГОРОД,,МАЙ...  "
      ]
     },
     "execution_count": 9,
     "metadata": {},
     "output_type": "execute_result"
    }
   ],
   "source": [
    "with_d_person = pd.read_csv('../raw_data/with_disqual_person.csv', sep=';', dtype={'G3': str})\n",
    "with_d_person.head(3)"
   ]
  },
  {
   "cell_type": "code",
   "execution_count": 10,
   "id": "446922a2",
   "metadata": {},
   "outputs": [
    {
     "data": {
      "text/plain": [
       "4916"
      ]
     },
     "execution_count": 10,
     "metadata": {},
     "output_type": "execute_result"
    }
   ],
   "source": [
    "inn_disqual = tuple(with_d_person.G3)\n",
    "len(inn_disqual)"
   ]
  },
  {
   "cell_type": "markdown",
   "id": "849038f5",
   "metadata": {},
   "source": [
    "#### - Сведения о ценах и объемах реализации продуктовых товаров и горюче-смазочных материалов в субъектах Российской Федерации по данным контрольно-кассовой техники.\n",
    "\n",
    "https://www.nalog.gov.ru/opendata/7707329152-fnsprice/\n",
    "\n",
    "\n",
    "- можно соединять по регионам: стоимость потребительской корзины и стоимость gsm\n",
    "- за периоды 2019, 2020, 2021 - берём среднее за год\n",
    "\n",
    "- в описании структуры файла немного перепутаны столбцы (дата и код региона)...\n",
    "\n",
    "    - GA - код региона (1, 2, 3...) -в кодировке ФНС России\n",
    "    - G2 - Дата наблюдения\n",
    "    - G35 - Стоимость потребительской корзины для трудоспособных граждан\n",
    "    - G36 - Стоимость потребительской корзины для пенсионеров\n",
    "    - G37 - Стоимость потребительской корзины для детей до 18 лет\n",
    "    - G70 - Бензин марки АИ-92, руб/литр\n",
    "    - G71 - Бензин марки АИ-95, руб/литр\n",
    "    - G72 - Бензин марки АИ-98, руб/литр\n",
    "    - G73 - Дизельное топливо, руб/литр\n",
    "    - G74 - Бензин марки АИ-92, (Объем проданной продукции)\n",
    "    - G75 - Бензин марки АИ-95, (Объем проданной продукции)\n",
    "    - G76 - Бензин марки АИ-98, (Объем проданной продукции)\n",
    "    - G77 - Дизельное топливо, (Объем проданной продукции)"
   ]
  },
  {
   "cell_type": "code",
   "execution_count": 12,
   "id": "d590408a",
   "metadata": {},
   "outputs": [],
   "source": [
    "data = pd.read_csv('../raw_data/prices_by_regions/data-20220331-structure-20220331.csv', sep=';')"
   ]
  },
  {
   "cell_type": "code",
   "execution_count": 13,
   "id": "a4b2f506",
   "metadata": {},
   "outputs": [],
   "source": [
    "# отбираем и переименовываем столбцы\n",
    "groc_and_fuels = data[['GA', 'G2', 'G35', 'G36', 'G37', 'G70', 'G71', 'G72', 'G73', 'G74', \n",
    "                       'G75', 'G76', 'G77']]\n",
    "groc_and_fuels.columns = ['region_id', 'observ_date', 'cons_basket_working_age', \n",
    "                         'cons_basket_pens', 'cons_basket_child', 'AI92_cost', 'AI95_cost', \n",
    "                         \"AI98_cost\", 'diesel_cost', 'AI92_volume', 'AI95_volume', \n",
    "                         \"AI98_volume\", 'diesel_volume']"
   ]
  },
  {
   "cell_type": "code",
   "execution_count": 14,
   "id": "fb0044d6",
   "metadata": {},
   "outputs": [
    {
     "data": {
      "text/html": [
       "<div>\n",
       "<style scoped>\n",
       "    .dataframe tbody tr th:only-of-type {\n",
       "        vertical-align: middle;\n",
       "    }\n",
       "\n",
       "    .dataframe tbody tr th {\n",
       "        vertical-align: top;\n",
       "    }\n",
       "\n",
       "    .dataframe thead th {\n",
       "        text-align: right;\n",
       "    }\n",
       "</style>\n",
       "<table border=\"1\" class=\"dataframe\">\n",
       "  <thead>\n",
       "    <tr style=\"text-align: right;\">\n",
       "      <th></th>\n",
       "      <th>region_id</th>\n",
       "      <th>observ_date</th>\n",
       "      <th>cons_basket_working_age</th>\n",
       "      <th>cons_basket_pens</th>\n",
       "      <th>cons_basket_child</th>\n",
       "      <th>AI92_cost</th>\n",
       "      <th>AI95_cost</th>\n",
       "      <th>AI98_cost</th>\n",
       "      <th>diesel_cost</th>\n",
       "      <th>AI92_volume</th>\n",
       "      <th>AI95_volume</th>\n",
       "      <th>AI98_volume</th>\n",
       "      <th>diesel_volume</th>\n",
       "    </tr>\n",
       "  </thead>\n",
       "  <tbody>\n",
       "    <tr>\n",
       "      <th>0</th>\n",
       "      <td>1</td>\n",
       "      <td>01.01.2019</td>\n",
       "      <td>5023,51</td>\n",
       "      <td>4301,36</td>\n",
       "      <td>5001,97</td>\n",
       "      <td>42,96</td>\n",
       "      <td>46,87</td>\n",
       "      <td>50,2</td>\n",
       "      <td>45,53</td>\n",
       "      <td>103778,69</td>\n",
       "      <td>56968,84</td>\n",
       "      <td>121,19</td>\n",
       "      <td>13973,49</td>\n",
       "    </tr>\n",
       "    <tr>\n",
       "      <th>1</th>\n",
       "      <td>1</td>\n",
       "      <td>02.01.2019</td>\n",
       "      <td>5086,32</td>\n",
       "      <td>4354</td>\n",
       "      <td>5064,53</td>\n",
       "      <td>42,98</td>\n",
       "      <td>46,92</td>\n",
       "      <td>50,3</td>\n",
       "      <td>45,38</td>\n",
       "      <td>185820,84</td>\n",
       "      <td>119512,26</td>\n",
       "      <td>95,09</td>\n",
       "      <td>39283,9</td>\n",
       "    </tr>\n",
       "    <tr>\n",
       "      <th>2</th>\n",
       "      <td>1</td>\n",
       "      <td>03.01.2019</td>\n",
       "      <td>4930,56</td>\n",
       "      <td>4214,3</td>\n",
       "      <td>4911,48</td>\n",
       "      <td>41,13</td>\n",
       "      <td>46,86</td>\n",
       "      <td>50,77</td>\n",
       "      <td>45,46</td>\n",
       "      <td>219913,38</td>\n",
       "      <td>126519,19</td>\n",
       "      <td>107,82</td>\n",
       "      <td>45498,67</td>\n",
       "    </tr>\n",
       "  </tbody>\n",
       "</table>\n",
       "</div>"
      ],
      "text/plain": [
       "   region_id observ_date cons_basket_working_age cons_basket_pens  \\\n",
       "0          1  01.01.2019                 5023,51          4301,36   \n",
       "1          1  02.01.2019                 5086,32             4354   \n",
       "2          1  03.01.2019                 4930,56           4214,3   \n",
       "\n",
       "  cons_basket_child AI92_cost AI95_cost AI98_cost diesel_cost AI92_volume  \\\n",
       "0           5001,97     42,96     46,87      50,2       45,53   103778,69   \n",
       "1           5064,53     42,98     46,92      50,3       45,38   185820,84   \n",
       "2           4911,48     41,13     46,86     50,77       45,46   219913,38   \n",
       "\n",
       "  AI95_volume AI98_volume diesel_volume  \n",
       "0    56968,84      121,19      13973,49  \n",
       "1   119512,26       95,09       39283,9  \n",
       "2   126519,19      107,82      45498,67  "
      ]
     },
     "execution_count": 14,
     "metadata": {},
     "output_type": "execute_result"
    }
   ],
   "source": [
    "groc_and_fuels.head(3)"
   ]
  },
  {
   "cell_type": "code",
   "execution_count": 15,
   "id": "214fb406",
   "metadata": {},
   "outputs": [
    {
     "name": "stdout",
     "output_type": "stream",
     "text": [
      "<class 'pandas.core.frame.DataFrame'>\n",
      "RangeIndex: 100810 entries, 0 to 100809\n",
      "Data columns (total 13 columns):\n",
      " #   Column                   Non-Null Count   Dtype \n",
      "---  ------                   --------------   ----- \n",
      " 0   region_id                100810 non-null  int64 \n",
      " 1   observ_date              100810 non-null  object\n",
      " 2   cons_basket_working_age  100810 non-null  object\n",
      " 3   cons_basket_pens         100810 non-null  object\n",
      " 4   cons_basket_child        100810 non-null  object\n",
      " 5   AI92_cost                100810 non-null  object\n",
      " 6   AI95_cost                100810 non-null  object\n",
      " 7   AI98_cost                100810 non-null  object\n",
      " 8   diesel_cost              100810 non-null  object\n",
      " 9   AI92_volume              100810 non-null  object\n",
      " 10  AI95_volume              100810 non-null  object\n",
      " 11  AI98_volume              100810 non-null  object\n",
      " 12  diesel_volume            100810 non-null  object\n",
      "dtypes: int64(1), object(12)\n",
      "memory usage: 10.0+ MB\n"
     ]
    }
   ],
   "source": [
    "# все цены распознаёт как строку\n",
    "groc_and_fuels.info()"
   ]
  },
  {
   "cell_type": "code",
   "execution_count": 16,
   "id": "dd65e15a",
   "metadata": {},
   "outputs": [
    {
     "name": "stderr",
     "output_type": "stream",
     "text": [
      "C:\\Users\\013\\AppData\\Local\\Temp/ipykernel_11972/571331203.py:3: SettingWithCopyWarning: \n",
      "A value is trying to be set on a copy of a slice from a DataFrame.\n",
      "Try using .loc[row_indexer,col_indexer] = value instead\n",
      "\n",
      "See the caveats in the documentation: https://pandas.pydata.org/pandas-docs/stable/user_guide/indexing.html#returning-a-view-versus-a-copy\n",
      "  groc_and_fuels[col] = groc_and_fuels[col].apply(lambda x: x.replace(',', '.')).astype(float)\n",
      "C:\\Users\\013\\AppData\\Local\\Temp/ipykernel_11972/571331203.py:6: SettingWithCopyWarning: \n",
      "A value is trying to be set on a copy of a slice from a DataFrame.\n",
      "Try using .loc[row_indexer,col_indexer] = value instead\n",
      "\n",
      "See the caveats in the documentation: https://pandas.pydata.org/pandas-docs/stable/user_guide/indexing.html#returning-a-view-versus-a-copy\n",
      "  groc_and_fuels['observ_year'] = pd.to_datetime(groc_and_fuels['observ_date']).dt.year\n"
     ]
    },
    {
     "data": {
      "text/html": [
       "<div>\n",
       "<style scoped>\n",
       "    .dataframe tbody tr th:only-of-type {\n",
       "        vertical-align: middle;\n",
       "    }\n",
       "\n",
       "    .dataframe tbody tr th {\n",
       "        vertical-align: top;\n",
       "    }\n",
       "\n",
       "    .dataframe thead th {\n",
       "        text-align: right;\n",
       "    }\n",
       "</style>\n",
       "<table border=\"1\" class=\"dataframe\">\n",
       "  <thead>\n",
       "    <tr style=\"text-align: right;\">\n",
       "      <th></th>\n",
       "      <th>region_id</th>\n",
       "      <th>observ_date</th>\n",
       "      <th>cons_basket_working_age</th>\n",
       "      <th>cons_basket_pens</th>\n",
       "      <th>cons_basket_child</th>\n",
       "      <th>AI92_cost</th>\n",
       "      <th>AI95_cost</th>\n",
       "      <th>AI98_cost</th>\n",
       "      <th>diesel_cost</th>\n",
       "      <th>AI92_volume</th>\n",
       "      <th>AI95_volume</th>\n",
       "      <th>AI98_volume</th>\n",
       "      <th>diesel_volume</th>\n",
       "      <th>observ_year</th>\n",
       "    </tr>\n",
       "  </thead>\n",
       "  <tbody>\n",
       "    <tr>\n",
       "      <th>0</th>\n",
       "      <td>1</td>\n",
       "      <td>01.01.2019</td>\n",
       "      <td>5023.51</td>\n",
       "      <td>4301.36</td>\n",
       "      <td>5001.97</td>\n",
       "      <td>42.96</td>\n",
       "      <td>46.87</td>\n",
       "      <td>50.20</td>\n",
       "      <td>45.53</td>\n",
       "      <td>103778.69</td>\n",
       "      <td>56968.84</td>\n",
       "      <td>121.19</td>\n",
       "      <td>13973.49</td>\n",
       "      <td>2019</td>\n",
       "    </tr>\n",
       "    <tr>\n",
       "      <th>1</th>\n",
       "      <td>1</td>\n",
       "      <td>02.01.2019</td>\n",
       "      <td>5086.32</td>\n",
       "      <td>4354.00</td>\n",
       "      <td>5064.53</td>\n",
       "      <td>42.98</td>\n",
       "      <td>46.92</td>\n",
       "      <td>50.30</td>\n",
       "      <td>45.38</td>\n",
       "      <td>185820.84</td>\n",
       "      <td>119512.26</td>\n",
       "      <td>95.09</td>\n",
       "      <td>39283.90</td>\n",
       "      <td>2019</td>\n",
       "    </tr>\n",
       "    <tr>\n",
       "      <th>2</th>\n",
       "      <td>1</td>\n",
       "      <td>03.01.2019</td>\n",
       "      <td>4930.56</td>\n",
       "      <td>4214.30</td>\n",
       "      <td>4911.48</td>\n",
       "      <td>41.13</td>\n",
       "      <td>46.86</td>\n",
       "      <td>50.77</td>\n",
       "      <td>45.46</td>\n",
       "      <td>219913.38</td>\n",
       "      <td>126519.19</td>\n",
       "      <td>107.82</td>\n",
       "      <td>45498.67</td>\n",
       "      <td>2019</td>\n",
       "    </tr>\n",
       "  </tbody>\n",
       "</table>\n",
       "</div>"
      ],
      "text/plain": [
       "   region_id observ_date  cons_basket_working_age  cons_basket_pens  \\\n",
       "0          1  01.01.2019                  5023.51           4301.36   \n",
       "1          1  02.01.2019                  5086.32           4354.00   \n",
       "2          1  03.01.2019                  4930.56           4214.30   \n",
       "\n",
       "   cons_basket_child  AI92_cost  AI95_cost  AI98_cost  diesel_cost  \\\n",
       "0            5001.97      42.96      46.87      50.20        45.53   \n",
       "1            5064.53      42.98      46.92      50.30        45.38   \n",
       "2            4911.48      41.13      46.86      50.77        45.46   \n",
       "\n",
       "   AI92_volume  AI95_volume  AI98_volume  diesel_volume  observ_year  \n",
       "0    103778.69     56968.84       121.19       13973.49         2019  \n",
       "1    185820.84    119512.26        95.09       39283.90         2019  \n",
       "2    219913.38    126519.19       107.82       45498.67         2019  "
      ]
     },
     "execution_count": 16,
     "metadata": {},
     "output_type": "execute_result"
    }
   ],
   "source": [
    "# заменяем запятую на точку и приводим к float\n",
    "for col in groc_and_fuels.columns[2:]:\n",
    "    groc_and_fuels[col] = groc_and_fuels[col].apply(lambda x: x.replace(',', '.')).astype(float)\n",
    "\n",
    "# добавляем год (чтобы усреднить за период)\n",
    "groc_and_fuels['observ_year'] = pd.to_datetime(groc_and_fuels['observ_date']).dt.year\n",
    "groc_and_fuels.head(3)"
   ]
  },
  {
   "cell_type": "code",
   "execution_count": 17,
   "id": "e3cb7e33",
   "metadata": {},
   "outputs": [
    {
     "data": {
      "text/plain": [
       "array([2019, 2020, 2021, 2022], dtype=int64)"
      ]
     },
     "execution_count": 17,
     "metadata": {},
     "output_type": "execute_result"
    }
   ],
   "source": [
    "groc_and_fuels.observ_year.unique()"
   ]
  },
  {
   "cell_type": "code",
   "execution_count": 18,
   "id": "128fefc8",
   "metadata": {},
   "outputs": [
    {
     "data": {
      "text/html": [
       "<div>\n",
       "<style scoped>\n",
       "    .dataframe tbody tr th:only-of-type {\n",
       "        vertical-align: middle;\n",
       "    }\n",
       "\n",
       "    .dataframe tbody tr th {\n",
       "        vertical-align: top;\n",
       "    }\n",
       "\n",
       "    .dataframe thead th {\n",
       "        text-align: right;\n",
       "    }\n",
       "</style>\n",
       "<table border=\"1\" class=\"dataframe\">\n",
       "  <thead>\n",
       "    <tr style=\"text-align: right;\">\n",
       "      <th></th>\n",
       "      <th>region_id</th>\n",
       "      <th>cons_basket_working_age</th>\n",
       "      <th>cons_basket_pens</th>\n",
       "      <th>cons_basket_child</th>\n",
       "      <th>AI92_cost</th>\n",
       "      <th>AI95_cost</th>\n",
       "      <th>AI98_cost</th>\n",
       "      <th>diesel_cost</th>\n",
       "      <th>AI92_volume</th>\n",
       "      <th>AI95_volume</th>\n",
       "      <th>AI98_volume</th>\n",
       "      <th>diesel_volume</th>\n",
       "      <th>observ_year</th>\n",
       "    </tr>\n",
       "  </thead>\n",
       "  <tbody>\n",
       "    <tr>\n",
       "      <th>count</th>\n",
       "      <td>100810.000000</td>\n",
       "      <td>100810.000000</td>\n",
       "      <td>100810.000000</td>\n",
       "      <td>100810.000000</td>\n",
       "      <td>100810.000000</td>\n",
       "      <td>100810.000000</td>\n",
       "      <td>100810.000000</td>\n",
       "      <td>100810.000000</td>\n",
       "      <td>1.008100e+05</td>\n",
       "      <td>1.008100e+05</td>\n",
       "      <td>100810.000000</td>\n",
       "      <td>1.008100e+05</td>\n",
       "      <td>100810.000000</td>\n",
       "    </tr>\n",
       "    <tr>\n",
       "      <th>mean</th>\n",
       "      <td>43.388235</td>\n",
       "      <td>5727.310486</td>\n",
       "      <td>4878.928747</td>\n",
       "      <td>5748.071100</td>\n",
       "      <td>43.652529</td>\n",
       "      <td>47.168287</td>\n",
       "      <td>40.781701</td>\n",
       "      <td>48.460662</td>\n",
       "      <td>5.434237e+05</td>\n",
       "      <td>4.326813e+05</td>\n",
       "      <td>5607.199239</td>\n",
       "      <td>1.631631e+05</td>\n",
       "      <td>2020.151771</td>\n",
       "    </tr>\n",
       "    <tr>\n",
       "      <th>std</th>\n",
       "      <td>25.201476</td>\n",
       "      <td>1374.112292</td>\n",
       "      <td>1161.590332</td>\n",
       "      <td>1474.763687</td>\n",
       "      <td>4.806918</td>\n",
       "      <td>4.936959</td>\n",
       "      <td>29.591852</td>\n",
       "      <td>6.595098</td>\n",
       "      <td>6.217567e+05</td>\n",
       "      <td>7.020778e+05</td>\n",
       "      <td>14599.542048</td>\n",
       "      <td>2.647617e+05</td>\n",
       "      <td>0.946589</td>\n",
       "    </tr>\n",
       "    <tr>\n",
       "      <th>min</th>\n",
       "      <td>1.000000</td>\n",
       "      <td>0.000000</td>\n",
       "      <td>0.000000</td>\n",
       "      <td>0.000000</td>\n",
       "      <td>0.000000</td>\n",
       "      <td>0.000000</td>\n",
       "      <td>0.000000</td>\n",
       "      <td>0.000000</td>\n",
       "      <td>0.000000e+00</td>\n",
       "      <td>0.000000e+00</td>\n",
       "      <td>0.000000</td>\n",
       "      <td>0.000000e+00</td>\n",
       "      <td>2019.000000</td>\n",
       "    </tr>\n",
       "    <tr>\n",
       "      <th>25%</th>\n",
       "      <td>22.000000</td>\n",
       "      <td>4953.200000</td>\n",
       "      <td>4225.492500</td>\n",
       "      <td>4963.042500</td>\n",
       "      <td>41.840000</td>\n",
       "      <td>45.280000</td>\n",
       "      <td>46.060000</td>\n",
       "      <td>46.390000</td>\n",
       "      <td>1.944471e+05</td>\n",
       "      <td>1.287709e+05</td>\n",
       "      <td>36.740000</td>\n",
       "      <td>3.815213e+04</td>\n",
       "      <td>2019.000000</td>\n",
       "    </tr>\n",
       "    <tr>\n",
       "      <th>50%</th>\n",
       "      <td>43.000000</td>\n",
       "      <td>5493.475000</td>\n",
       "      <td>4680.695000</td>\n",
       "      <td>5481.580000</td>\n",
       "      <td>43.270000</td>\n",
       "      <td>46.910000</td>\n",
       "      <td>50.380000</td>\n",
       "      <td>48.020000</td>\n",
       "      <td>3.439578e+05</td>\n",
       "      <td>2.297549e+05</td>\n",
       "      <td>928.335000</td>\n",
       "      <td>8.911888e+04</td>\n",
       "      <td>2020.000000</td>\n",
       "    </tr>\n",
       "    <tr>\n",
       "      <th>75%</th>\n",
       "      <td>64.000000</td>\n",
       "      <td>6206.660000</td>\n",
       "      <td>5282.115000</td>\n",
       "      <td>6162.002500</td>\n",
       "      <td>45.440000</td>\n",
       "      <td>49.080000</td>\n",
       "      <td>53.970000</td>\n",
       "      <td>50.920000</td>\n",
       "      <td>6.772496e+05</td>\n",
       "      <td>4.597270e+05</td>\n",
       "      <td>4798.805000</td>\n",
       "      <td>1.751593e+05</td>\n",
       "      <td>2021.000000</td>\n",
       "    </tr>\n",
       "    <tr>\n",
       "      <th>max</th>\n",
       "      <td>92.000000</td>\n",
       "      <td>20292.650000</td>\n",
       "      <td>16722.400000</td>\n",
       "      <td>19410.610000</td>\n",
       "      <td>60.740000</td>\n",
       "      <td>63.000000</td>\n",
       "      <td>1000.000000</td>\n",
       "      <td>70.470000</td>\n",
       "      <td>5.867661e+06</td>\n",
       "      <td>7.963218e+06</td>\n",
       "      <td>293081.090000</td>\n",
       "      <td>2.965140e+06</td>\n",
       "      <td>2022.000000</td>\n",
       "    </tr>\n",
       "  </tbody>\n",
       "</table>\n",
       "</div>"
      ],
      "text/plain": [
       "           region_id  cons_basket_working_age  cons_basket_pens  \\\n",
       "count  100810.000000            100810.000000     100810.000000   \n",
       "mean       43.388235              5727.310486       4878.928747   \n",
       "std        25.201476              1374.112292       1161.590332   \n",
       "min         1.000000                 0.000000          0.000000   \n",
       "25%        22.000000              4953.200000       4225.492500   \n",
       "50%        43.000000              5493.475000       4680.695000   \n",
       "75%        64.000000              6206.660000       5282.115000   \n",
       "max        92.000000             20292.650000      16722.400000   \n",
       "\n",
       "       cons_basket_child      AI92_cost      AI95_cost      AI98_cost  \\\n",
       "count      100810.000000  100810.000000  100810.000000  100810.000000   \n",
       "mean         5748.071100      43.652529      47.168287      40.781701   \n",
       "std          1474.763687       4.806918       4.936959      29.591852   \n",
       "min             0.000000       0.000000       0.000000       0.000000   \n",
       "25%          4963.042500      41.840000      45.280000      46.060000   \n",
       "50%          5481.580000      43.270000      46.910000      50.380000   \n",
       "75%          6162.002500      45.440000      49.080000      53.970000   \n",
       "max         19410.610000      60.740000      63.000000    1000.000000   \n",
       "\n",
       "         diesel_cost   AI92_volume   AI95_volume    AI98_volume  \\\n",
       "count  100810.000000  1.008100e+05  1.008100e+05  100810.000000   \n",
       "mean       48.460662  5.434237e+05  4.326813e+05    5607.199239   \n",
       "std         6.595098  6.217567e+05  7.020778e+05   14599.542048   \n",
       "min         0.000000  0.000000e+00  0.000000e+00       0.000000   \n",
       "25%        46.390000  1.944471e+05  1.287709e+05      36.740000   \n",
       "50%        48.020000  3.439578e+05  2.297549e+05     928.335000   \n",
       "75%        50.920000  6.772496e+05  4.597270e+05    4798.805000   \n",
       "max        70.470000  5.867661e+06  7.963218e+06  293081.090000   \n",
       "\n",
       "       diesel_volume    observ_year  \n",
       "count   1.008100e+05  100810.000000  \n",
       "mean    1.631631e+05    2020.151771  \n",
       "std     2.647617e+05       0.946589  \n",
       "min     0.000000e+00    2019.000000  \n",
       "25%     3.815213e+04    2019.000000  \n",
       "50%     8.911888e+04    2020.000000  \n",
       "75%     1.751593e+05    2021.000000  \n",
       "max     2.965140e+06    2022.000000  "
      ]
     },
     "execution_count": 18,
     "metadata": {},
     "output_type": "execute_result"
    }
   ],
   "source": [
    "groc_and_fuels.describe()"
   ]
  },
  {
   "cell_type": "markdown",
   "id": "fea0f65d",
   "metadata": {},
   "source": [
    "- есть наблюдения с нулевыми значениями - это скорее всего должны быть None\n",
    "- сперва заменяю нули на Nan, а потом агрегирую (mean игнорирует Nan при расчёте среднего)"
   ]
  },
  {
   "cell_type": "code",
   "execution_count": 19,
   "id": "523e03e7",
   "metadata": {},
   "outputs": [],
   "source": [
    "groc_and_fuels = groc_and_fuels.replace(0, None)"
   ]
  },
  {
   "cell_type": "code",
   "execution_count": 21,
   "id": "96ebebca",
   "metadata": {},
   "outputs": [
    {
     "data": {
      "text/html": [
       "<div>\n",
       "<style scoped>\n",
       "    .dataframe tbody tr th:only-of-type {\n",
       "        vertical-align: middle;\n",
       "    }\n",
       "\n",
       "    .dataframe tbody tr th {\n",
       "        vertical-align: top;\n",
       "    }\n",
       "\n",
       "    .dataframe thead th {\n",
       "        text-align: right;\n",
       "    }\n",
       "</style>\n",
       "<table border=\"1\" class=\"dataframe\">\n",
       "  <thead>\n",
       "    <tr style=\"text-align: right;\">\n",
       "      <th></th>\n",
       "      <th>region_id</th>\n",
       "      <th>observ_year</th>\n",
       "      <th>cons_basket_working_age</th>\n",
       "      <th>cons_basket_pens</th>\n",
       "      <th>cons_basket_child</th>\n",
       "      <th>AI92_cost</th>\n",
       "      <th>AI95_cost</th>\n",
       "      <th>AI98_cost</th>\n",
       "      <th>diesel_cost</th>\n",
       "      <th>AI92_volume</th>\n",
       "      <th>AI95_volume</th>\n",
       "      <th>AI98_volume</th>\n",
       "      <th>diesel_volume</th>\n",
       "    </tr>\n",
       "  </thead>\n",
       "  <tbody>\n",
       "    <tr>\n",
       "      <th>0</th>\n",
       "      <td>1</td>\n",
       "      <td>2019</td>\n",
       "      <td>5005.002466</td>\n",
       "      <td>4269.761836</td>\n",
       "      <td>4923.843233</td>\n",
       "      <td>43.332219</td>\n",
       "      <td>48.051562</td>\n",
       "      <td>50.837918</td>\n",
       "      <td>45.404822</td>\n",
       "      <td>221138.361425</td>\n",
       "      <td>122866.607068</td>\n",
       "      <td>159.544000</td>\n",
       "      <td>65073.028384</td>\n",
       "    </tr>\n",
       "    <tr>\n",
       "      <th>1</th>\n",
       "      <td>1</td>\n",
       "      <td>2020</td>\n",
       "      <td>5146.416749</td>\n",
       "      <td>4387.573552</td>\n",
       "      <td>5092.815164</td>\n",
       "      <td>43.547923</td>\n",
       "      <td>48.533852</td>\n",
       "      <td>52.076913</td>\n",
       "      <td>46.012650</td>\n",
       "      <td>187478.847978</td>\n",
       "      <td>123215.335929</td>\n",
       "      <td>72.161475</td>\n",
       "      <td>60822.033087</td>\n",
       "    </tr>\n",
       "    <tr>\n",
       "      <th>2</th>\n",
       "      <td>1</td>\n",
       "      <td>2021</td>\n",
       "      <td>5914.448685</td>\n",
       "      <td>5031.818411</td>\n",
       "      <td>5815.689205</td>\n",
       "      <td>44.553863</td>\n",
       "      <td>50.663260</td>\n",
       "      <td>54.583315</td>\n",
       "      <td>47.691973</td>\n",
       "      <td>208157.641918</td>\n",
       "      <td>142313.449507</td>\n",
       "      <td>1248.010493</td>\n",
       "      <td>69281.618521</td>\n",
       "    </tr>\n",
       "  </tbody>\n",
       "</table>\n",
       "</div>"
      ],
      "text/plain": [
       "   region_id  observ_year  cons_basket_working_age  cons_basket_pens  \\\n",
       "0          1         2019              5005.002466       4269.761836   \n",
       "1          1         2020              5146.416749       4387.573552   \n",
       "2          1         2021              5914.448685       5031.818411   \n",
       "\n",
       "   cons_basket_child  AI92_cost  AI95_cost  AI98_cost  diesel_cost  \\\n",
       "0        4923.843233  43.332219  48.051562  50.837918    45.404822   \n",
       "1        5092.815164  43.547923  48.533852  52.076913    46.012650   \n",
       "2        5815.689205  44.553863  50.663260  54.583315    47.691973   \n",
       "\n",
       "     AI92_volume    AI95_volume  AI98_volume  diesel_volume  \n",
       "0  221138.361425  122866.607068   159.544000   65073.028384  \n",
       "1  187478.847978  123215.335929    72.161475   60822.033087  \n",
       "2  208157.641918  142313.449507  1248.010493   69281.618521  "
      ]
     },
     "execution_count": 21,
     "metadata": {},
     "output_type": "execute_result"
    }
   ],
   "source": [
    "avg_groc_and_fuels = groc_and_fuels.groupby(['region_id', 'observ_year'], as_index=False)[['cons_basket_working_age', \n",
    "                         'cons_basket_pens', 'cons_basket_child', 'AI92_cost', 'AI95_cost', \n",
    "                         \"AI98_cost\", 'diesel_cost', 'AI92_volume', 'AI95_volume', \n",
    "                         \"AI98_volume\", 'diesel_volume']].mean()\n",
    "avg_groc_and_fuels.head(3)"
   ]
  },
  {
   "cell_type": "code",
   "execution_count": 22,
   "id": "e2d17e10",
   "metadata": {},
   "outputs": [
    {
     "data": {
      "text/html": [
       "<div>\n",
       "<style scoped>\n",
       "    .dataframe tbody tr th:only-of-type {\n",
       "        vertical-align: middle;\n",
       "    }\n",
       "\n",
       "    .dataframe tbody tr th {\n",
       "        vertical-align: top;\n",
       "    }\n",
       "\n",
       "    .dataframe thead th {\n",
       "        text-align: right;\n",
       "    }\n",
       "</style>\n",
       "<table border=\"1\" class=\"dataframe\">\n",
       "  <thead>\n",
       "    <tr style=\"text-align: right;\">\n",
       "      <th></th>\n",
       "      <th>region_id</th>\n",
       "      <th>observ_year</th>\n",
       "      <th>cons_basket_working_age</th>\n",
       "      <th>cons_basket_pens</th>\n",
       "      <th>cons_basket_child</th>\n",
       "      <th>AI92_cost</th>\n",
       "      <th>AI95_cost</th>\n",
       "      <th>AI98_cost</th>\n",
       "      <th>diesel_cost</th>\n",
       "      <th>AI92_volume</th>\n",
       "      <th>AI95_volume</th>\n",
       "      <th>AI98_volume</th>\n",
       "      <th>diesel_volume</th>\n",
       "    </tr>\n",
       "  </thead>\n",
       "  <tbody>\n",
       "    <tr>\n",
       "      <th>count</th>\n",
       "      <td>340.000000</td>\n",
       "      <td>340.000000</td>\n",
       "      <td>340.000000</td>\n",
       "      <td>340.000000</td>\n",
       "      <td>340.000000</td>\n",
       "      <td>340.000000</td>\n",
       "      <td>340.000000</td>\n",
       "      <td>340.000000</td>\n",
       "      <td>340.000000</td>\n",
       "      <td>3.400000e+02</td>\n",
       "      <td>3.400000e+02</td>\n",
       "      <td>340.000000</td>\n",
       "      <td>3.400000e+02</td>\n",
       "    </tr>\n",
       "    <tr>\n",
       "      <th>mean</th>\n",
       "      <td>43.388235</td>\n",
       "      <td>2020.500000</td>\n",
       "      <td>6015.032872</td>\n",
       "      <td>5122.777485</td>\n",
       "      <td>6036.548506</td>\n",
       "      <td>44.703428</td>\n",
       "      <td>48.314539</td>\n",
       "      <td>58.033460</td>\n",
       "      <td>50.217531</td>\n",
       "      <td>5.254999e+05</td>\n",
       "      <td>4.289553e+05</td>\n",
       "      <td>7487.232891</td>\n",
       "      <td>1.651926e+05</td>\n",
       "    </tr>\n",
       "    <tr>\n",
       "      <th>std</th>\n",
       "      <td>25.238494</td>\n",
       "      <td>1.119682</td>\n",
       "      <td>1303.370487</td>\n",
       "      <td>1100.238105</td>\n",
       "      <td>1419.839363</td>\n",
       "      <td>3.459869</td>\n",
       "      <td>3.419028</td>\n",
       "      <td>27.020610</td>\n",
       "      <td>4.215236</td>\n",
       "      <td>5.988471e+05</td>\n",
       "      <td>6.889907e+05</td>\n",
       "      <td>17352.852778</td>\n",
       "      <td>2.588695e+05</td>\n",
       "    </tr>\n",
       "    <tr>\n",
       "      <th>min</th>\n",
       "      <td>1.000000</td>\n",
       "      <td>2019.000000</td>\n",
       "      <td>4248.657425</td>\n",
       "      <td>3623.140493</td>\n",
       "      <td>4258.991534</td>\n",
       "      <td>30.757459</td>\n",
       "      <td>42.680986</td>\n",
       "      <td>40.564110</td>\n",
       "      <td>42.806658</td>\n",
       "      <td>2.524374e+03</td>\n",
       "      <td>1.060030e+03</td>\n",
       "      <td>3.230874</td>\n",
       "      <td>7.202673e+02</td>\n",
       "    </tr>\n",
       "    <tr>\n",
       "      <th>25%</th>\n",
       "      <td>22.000000</td>\n",
       "      <td>2019.750000</td>\n",
       "      <td>5063.237383</td>\n",
       "      <td>4320.612277</td>\n",
       "      <td>5086.709206</td>\n",
       "      <td>42.195976</td>\n",
       "      <td>45.738340</td>\n",
       "      <td>50.108363</td>\n",
       "      <td>46.782692</td>\n",
       "      <td>1.874805e+05</td>\n",
       "      <td>1.304321e+05</td>\n",
       "      <td>748.641602</td>\n",
       "      <td>4.623857e+04</td>\n",
       "    </tr>\n",
       "    <tr>\n",
       "      <th>50%</th>\n",
       "      <td>43.000000</td>\n",
       "      <td>2020.500000</td>\n",
       "      <td>5804.088227</td>\n",
       "      <td>4943.945219</td>\n",
       "      <td>5736.621575</td>\n",
       "      <td>44.311764</td>\n",
       "      <td>47.980808</td>\n",
       "      <td>53.768740</td>\n",
       "      <td>49.175219</td>\n",
       "      <td>3.360336e+05</td>\n",
       "      <td>2.271063e+05</td>\n",
       "      <td>2460.292753</td>\n",
       "      <td>9.344334e+04</td>\n",
       "    </tr>\n",
       "    <tr>\n",
       "      <th>75%</th>\n",
       "      <td>64.000000</td>\n",
       "      <td>2021.250000</td>\n",
       "      <td>6508.271664</td>\n",
       "      <td>5532.384874</td>\n",
       "      <td>6447.250315</td>\n",
       "      <td>46.511551</td>\n",
       "      <td>50.319172</td>\n",
       "      <td>58.316250</td>\n",
       "      <td>52.444556</td>\n",
       "      <td>6.592407e+05</td>\n",
       "      <td>4.450006e+05</td>\n",
       "      <td>6820.945889</td>\n",
       "      <td>1.808378e+05</td>\n",
       "    </tr>\n",
       "    <tr>\n",
       "      <th>max</th>\n",
       "      <td>92.000000</td>\n",
       "      <td>2022.000000</td>\n",
       "      <td>14021.350778</td>\n",
       "      <td>11865.518556</td>\n",
       "      <td>15757.352444</td>\n",
       "      <td>60.320110</td>\n",
       "      <td>63.000000</td>\n",
       "      <td>361.476192</td>\n",
       "      <td>65.622111</td>\n",
       "      <td>4.283245e+06</td>\n",
       "      <td>5.545636e+06</td>\n",
       "      <td>195210.374889</td>\n",
       "      <td>1.936039e+06</td>\n",
       "    </tr>\n",
       "  </tbody>\n",
       "</table>\n",
       "</div>"
      ],
      "text/plain": [
       "        region_id  observ_year  cons_basket_working_age  cons_basket_pens  \\\n",
       "count  340.000000   340.000000               340.000000        340.000000   \n",
       "mean    43.388235  2020.500000              6015.032872       5122.777485   \n",
       "std     25.238494     1.119682              1303.370487       1100.238105   \n",
       "min      1.000000  2019.000000              4248.657425       3623.140493   \n",
       "25%     22.000000  2019.750000              5063.237383       4320.612277   \n",
       "50%     43.000000  2020.500000              5804.088227       4943.945219   \n",
       "75%     64.000000  2021.250000              6508.271664       5532.384874   \n",
       "max     92.000000  2022.000000             14021.350778      11865.518556   \n",
       "\n",
       "       cons_basket_child   AI92_cost   AI95_cost   AI98_cost  diesel_cost  \\\n",
       "count         340.000000  340.000000  340.000000  340.000000   340.000000   \n",
       "mean         6036.548506   44.703428   48.314539   58.033460    50.217531   \n",
       "std          1419.839363    3.459869    3.419028   27.020610     4.215236   \n",
       "min          4258.991534   30.757459   42.680986   40.564110    42.806658   \n",
       "25%          5086.709206   42.195976   45.738340   50.108363    46.782692   \n",
       "50%          5736.621575   44.311764   47.980808   53.768740    49.175219   \n",
       "75%          6447.250315   46.511551   50.319172   58.316250    52.444556   \n",
       "max         15757.352444   60.320110   63.000000  361.476192    65.622111   \n",
       "\n",
       "        AI92_volume   AI95_volume    AI98_volume  diesel_volume  \n",
       "count  3.400000e+02  3.400000e+02     340.000000   3.400000e+02  \n",
       "mean   5.254999e+05  4.289553e+05    7487.232891   1.651926e+05  \n",
       "std    5.988471e+05  6.889907e+05   17352.852778   2.588695e+05  \n",
       "min    2.524374e+03  1.060030e+03       3.230874   7.202673e+02  \n",
       "25%    1.874805e+05  1.304321e+05     748.641602   4.623857e+04  \n",
       "50%    3.360336e+05  2.271063e+05    2460.292753   9.344334e+04  \n",
       "75%    6.592407e+05  4.450006e+05    6820.945889   1.808378e+05  \n",
       "max    4.283245e+06  5.545636e+06  195210.374889   1.936039e+06  "
      ]
     },
     "execution_count": 22,
     "metadata": {},
     "output_type": "execute_result"
    }
   ],
   "source": [
    "avg_groc_and_fuels.describe()"
   ]
  },
  {
   "cell_type": "markdown",
   "id": "4c0ca6a5",
   "metadata": {},
   "source": [
    "- посмотрим совпадения кодов регионов в csv и в postgresql (поле, по которому будет соединение)"
   ]
  },
  {
   "cell_type": "code",
   "execution_count": 23,
   "id": "bc31cb2a",
   "metadata": {},
   "outputs": [
    {
     "data": {
      "text/plain": [
       "array([ 1,  2,  3,  4,  5,  6,  7,  8,  9, 10, 11, 12, 13, 14, 15, 16, 17,\n",
       "       18, 19, 20, 21, 22, 23, 24, 25, 26, 27, 28, 29, 30, 31, 32, 33, 34,\n",
       "       35, 36, 37, 38, 39, 40, 41, 42, 43, 44, 45, 46, 47, 48, 49, 50, 51,\n",
       "       52, 53, 54, 55, 56, 57, 58, 59, 60, 61, 62, 63, 64, 65, 66, 67, 68,\n",
       "       69, 70, 71, 72, 73, 74, 75, 76, 77, 78, 79, 83, 86, 87, 89, 91, 92],\n",
       "      dtype=int64)"
      ]
     },
     "execution_count": 23,
     "metadata": {},
     "output_type": "execute_result"
    }
   ],
   "source": [
    "groc_and_fuels.region_id.unique()"
   ]
  },
  {
   "cell_type": "code",
   "execution_count": 25,
   "id": "76bdc694",
   "metadata": {},
   "outputs": [],
   "source": [
    "# уникальные из postgre\n",
    "connect = psycopg2.connect(dbname=\"fns_data\", user=\"user\", password='', host=\"localhost\", port=5432)"
   ]
  },
  {
   "cell_type": "code",
   "execution_count": 31,
   "id": "af3fe23c",
   "metadata": {},
   "outputs": [
    {
     "name": "stdout",
     "output_type": "stream",
     "text": [
      "[(0,), (1,), (2,), (3,), (4,), (5,), (6,), (7,), (8,), (9,), (10,), (11,), (12,), (13,), (14,), (15,), (16,), (17,), (18,), (19,), (20,), (21,), (22,), (23,), (24,), (25,), (26,), (27,), (28,), (29,), (30,), (31,), (32,), (33,), (34,), (35,), (36,), (37,), (38,), (39,), (40,), (41,), (42,), (43,), (44,), (45,), (46,), (47,), (48,), (49,), (50,), (51,), (52,), (53,), (54,), (55,), (56,), (57,), (58,), (59,), (60,), (61,), (62,), (63,), (64,), (65,), (66,), (67,), (68,), (69,), (70,), (71,), (72,), (73,), (74,), (75,), (76,), (77,), (78,), (79,), (83,), (86,), (87,), (89,), (90,), (91,), (92,), (93,), (94,), (95,)]\n"
     ]
    }
   ],
   "source": [
    "with connect:\n",
    "    with connect.cursor() as cur:\n",
    "        select = 'SELECT DISTINCT region_code FROM reestr_msp ORDER BY region_code;'\n",
    "        cur.execute(select)\n",
    "        print(cur.fetchall())"
   ]
  },
  {
   "cell_type": "code",
   "execution_count": 32,
   "id": "1e85daa1",
   "metadata": {},
   "outputs": [],
   "source": [
    "connect.close()"
   ]
  },
  {
   "cell_type": "markdown",
   "id": "13827c50",
   "metadata": {},
   "source": [
    "- код 93 в postgre - Краснодарский край, соответствует заменить на 23 в groc_and_fuels),\n",
    "- 94 в postgre (Территории, находящиеся за пределами РФ и обслуживаемые Управлением режимных объектов МВД России, Байконур), в groc_and_fuels данных нет\n",
    "- 95 - Чеченская Республика - соответствует код 20 в groc_and_fuels\n",
    "\n",
    "- интересный код 0: в postgre ему соответствуют 23 inn, ни для одного из которых нет отчётов в открытых данных (на bo.nalog)"
   ]
  },
  {
   "cell_type": "markdown",
   "id": "ec2c5750",
   "metadata": {},
   "source": [
    "#### - Таблица 5. Численность населения России, федеральных округов, субъектов Российской Федерации, городских округов, муниципальных районов, муниципальных округов, городских и сельских поселений, городских населенных пунктов, сельских населенных пунктов с населением 3000 человек и более\n",
    "\n",
    "https://rosstat.gov.ru/vpn_popul\n",
    "\n",
    "https://rosstat.gov.ru/storage/mediabank/tab-5_VPN-2020.xlsx\n",
    "\n",
    "- здесь соединять придётся по наименованию\n",
    "- в таблице - данные по населённым пунктам с численностью более 3000 чел\n",
    "- таблица неудобная для извлечения - наименования разноформатны\n",
    "- как оказалось, данные по адресу что в MongoDb, что в xml - не очень полные и не очень корректные: перепутан уровень (город в поле региона - особенно для больших городов, село в поле города и т.д.), достаточно много пропусков, есть адреса, которые сложно интерпретировать с точки зрения численности населения (50-й километр какого-нибудь шоссе) + номерные города (Чехов-4), по которым нет данных\n",
    "    - можно заполнить медианой (или средним) всех имеющихся значений численности менее 3 тыс."
   ]
  },
  {
   "cell_type": "markdown",
   "id": "86b0ef89",
   "metadata": {},
   "source": [
    "- структура адресов из Mongo"
   ]
  },
  {
   "cell_type": "code",
   "execution_count": 33,
   "id": "acde9a45",
   "metadata": {},
   "outputs": [],
   "source": [
    "client = MongoClient('localhost', 27017)\n",
    "mongobase = client.bo_nalog\n",
    "collection = mongobase['bonalogru']"
   ]
  },
  {
   "cell_type": "code",
   "execution_count": 34,
   "id": "bc138612",
   "metadata": {},
   "outputs": [],
   "source": [
    "# таблица с адресами - чтобы посмотреть соотношение\n",
    "addresses = pd.DataFrame.from_records(collection.find({}, {'region': 1, 'district': 1, 'city': 1,\n",
    "                                                           'settlement': 1}))"
   ]
  },
  {
   "cell_type": "code",
   "execution_count": 35,
   "id": "30e0f43b",
   "metadata": {},
   "outputs": [
    {
     "data": {
      "text/html": [
       "<div>\n",
       "<style scoped>\n",
       "    .dataframe tbody tr th:only-of-type {\n",
       "        vertical-align: middle;\n",
       "    }\n",
       "\n",
       "    .dataframe tbody tr th {\n",
       "        vertical-align: top;\n",
       "    }\n",
       "\n",
       "    .dataframe thead th {\n",
       "        text-align: right;\n",
       "    }\n",
       "</style>\n",
       "<table border=\"1\" class=\"dataframe\">\n",
       "  <thead>\n",
       "    <tr style=\"text-align: right;\">\n",
       "      <th></th>\n",
       "      <th>_id</th>\n",
       "      <th>region</th>\n",
       "      <th>district</th>\n",
       "      <th>city</th>\n",
       "      <th>settlement</th>\n",
       "    </tr>\n",
       "  </thead>\n",
       "  <tbody>\n",
       "    <tr>\n",
       "      <th>0</th>\n",
       "      <td>3447001553</td>\n",
       "      <td>ВОЛГОГРАДСКАЯ</td>\n",
       "      <td>None</td>\n",
       "      <td>ВОЛГОГРАД</td>\n",
       "      <td>None</td>\n",
       "    </tr>\n",
       "    <tr>\n",
       "      <th>1</th>\n",
       "      <td>3447003470</td>\n",
       "      <td>ВОЛГОГРАДСКАЯ</td>\n",
       "      <td>None</td>\n",
       "      <td>ВОЛГОГРАД</td>\n",
       "      <td>None</td>\n",
       "    </tr>\n",
       "    <tr>\n",
       "      <th>2</th>\n",
       "      <td>3447003247</td>\n",
       "      <td>ВОЛГОГРАДСКАЯ</td>\n",
       "      <td>None</td>\n",
       "      <td>ВОЛГОГРАД</td>\n",
       "      <td>None</td>\n",
       "    </tr>\n",
       "  </tbody>\n",
       "</table>\n",
       "</div>"
      ],
      "text/plain": [
       "          _id         region district       city settlement\n",
       "0  3447001553  ВОЛГОГРАДСКАЯ     None  ВОЛГОГРАД       None\n",
       "1  3447003470  ВОЛГОГРАДСКАЯ     None  ВОЛГОГРАД       None\n",
       "2  3447003247  ВОЛГОГРАДСКАЯ     None  ВОЛГОГРАД       None"
      ]
     },
     "execution_count": 35,
     "metadata": {},
     "output_type": "execute_result"
    }
   ],
   "source": [
    "addresses.head(3)"
   ]
  },
  {
   "cell_type": "code",
   "execution_count": 36,
   "id": "bac3eb21",
   "metadata": {},
   "outputs": [
    {
     "name": "stdout",
     "output_type": "stream",
     "text": [
      "<class 'pandas.core.frame.DataFrame'>\n",
      "RangeIndex: 726359 entries, 0 to 726358\n",
      "Data columns (total 5 columns):\n",
      " #   Column      Non-Null Count   Dtype \n",
      "---  ------      --------------   ----- \n",
      " 0   _id         726359 non-null  object\n",
      " 1   region      726343 non-null  object\n",
      " 2   district    107696 non-null  object\n",
      " 3   city        482674 non-null  object\n",
      " 4   settlement  77759 non-null   object\n",
      "dtypes: object(5)\n",
      "memory usage: 27.7+ MB\n"
     ]
    }
   ],
   "source": [
    "addresses.info()"
   ]
  },
  {
   "cell_type": "code",
   "execution_count": 38,
   "id": "eec8d276",
   "metadata": {},
   "outputs": [
    {
     "data": {
      "text/html": [
       "<div>\n",
       "<style scoped>\n",
       "    .dataframe tbody tr th:only-of-type {\n",
       "        vertical-align: middle;\n",
       "    }\n",
       "\n",
       "    .dataframe tbody tr th {\n",
       "        vertical-align: top;\n",
       "    }\n",
       "\n",
       "    .dataframe thead th {\n",
       "        text-align: right;\n",
       "    }\n",
       "</style>\n",
       "<table border=\"1\" class=\"dataframe\">\n",
       "  <thead>\n",
       "    <tr style=\"text-align: right;\">\n",
       "      <th></th>\n",
       "      <th>_id</th>\n",
       "      <th>region</th>\n",
       "      <th>district</th>\n",
       "      <th>city</th>\n",
       "      <th>settlement</th>\n",
       "    </tr>\n",
       "  </thead>\n",
       "  <tbody>\n",
       "    <tr>\n",
       "      <th>126136</th>\n",
       "      <td>3907027634</td>\n",
       "      <td>None</td>\n",
       "      <td>None</td>\n",
       "      <td>КАЛИНИНГРАД</td>\n",
       "      <td>None</td>\n",
       "    </tr>\n",
       "    <tr>\n",
       "      <th>138500</th>\n",
       "      <td>2312124742</td>\n",
       "      <td>None</td>\n",
       "      <td>None</td>\n",
       "      <td>КРАСНОДАР</td>\n",
       "      <td>None</td>\n",
       "    </tr>\n",
       "    <tr>\n",
       "      <th>138712</th>\n",
       "      <td>2312124887</td>\n",
       "      <td>None</td>\n",
       "      <td>None</td>\n",
       "      <td>КРАСНОДАР</td>\n",
       "      <td>None</td>\n",
       "    </tr>\n",
       "    <tr>\n",
       "      <th>168754</th>\n",
       "      <td>5406248869</td>\n",
       "      <td>None</td>\n",
       "      <td>None</td>\n",
       "      <td>НОВОСИБИРСК</td>\n",
       "      <td>None</td>\n",
       "    </tr>\n",
       "    <tr>\n",
       "      <th>223629</th>\n",
       "      <td>2311052083</td>\n",
       "      <td>None</td>\n",
       "      <td>None</td>\n",
       "      <td>КРАСНОДАР</td>\n",
       "      <td>None</td>\n",
       "    </tr>\n",
       "    <tr>\n",
       "      <th>277503</th>\n",
       "      <td>2310139006</td>\n",
       "      <td>None</td>\n",
       "      <td>None</td>\n",
       "      <td>КРАСНОДАР</td>\n",
       "      <td>None</td>\n",
       "    </tr>\n",
       "    <tr>\n",
       "      <th>325443</th>\n",
       "      <td>5404226193</td>\n",
       "      <td>None</td>\n",
       "      <td>None</td>\n",
       "      <td>НОВОСИБИРСК</td>\n",
       "      <td>None</td>\n",
       "    </tr>\n",
       "    <tr>\n",
       "      <th>394464</th>\n",
       "      <td>1654005143</td>\n",
       "      <td>None</td>\n",
       "      <td>None</td>\n",
       "      <td>КАЗАНЬ</td>\n",
       "      <td>None</td>\n",
       "    </tr>\n",
       "    <tr>\n",
       "      <th>489395</th>\n",
       "      <td>6315568302</td>\n",
       "      <td>None</td>\n",
       "      <td>None</td>\n",
       "      <td>САМАРА</td>\n",
       "      <td>None</td>\n",
       "    </tr>\n",
       "    <tr>\n",
       "      <th>495252</th>\n",
       "      <td>3702052848</td>\n",
       "      <td>None</td>\n",
       "      <td>None</td>\n",
       "      <td>ИВАНОВО</td>\n",
       "      <td>None</td>\n",
       "    </tr>\n",
       "    <tr>\n",
       "      <th>567853</th>\n",
       "      <td>2536125809</td>\n",
       "      <td>None</td>\n",
       "      <td>None</td>\n",
       "      <td>ВЛАДИВОСТОК</td>\n",
       "      <td>None</td>\n",
       "    </tr>\n",
       "    <tr>\n",
       "      <th>611897</th>\n",
       "      <td>5529003668</td>\n",
       "      <td>None</td>\n",
       "      <td>None</td>\n",
       "      <td>ОМСК</td>\n",
       "      <td>None</td>\n",
       "    </tr>\n",
       "    <tr>\n",
       "      <th>688557</th>\n",
       "      <td>1660080981</td>\n",
       "      <td>None</td>\n",
       "      <td>None</td>\n",
       "      <td>КАЗАНЬ</td>\n",
       "      <td>None</td>\n",
       "    </tr>\n",
       "    <tr>\n",
       "      <th>714693</th>\n",
       "      <td>1215061598</td>\n",
       "      <td>None</td>\n",
       "      <td>None</td>\n",
       "      <td>ЙОШКАР-ОЛА</td>\n",
       "      <td>СИЛИКАТНЫЙ</td>\n",
       "    </tr>\n",
       "    <tr>\n",
       "      <th>724611</th>\n",
       "      <td>5031108726</td>\n",
       "      <td>None</td>\n",
       "      <td>НОГИНСК</td>\n",
       "      <td>None</td>\n",
       "      <td>М-7 ВОЛГА</td>\n",
       "    </tr>\n",
       "    <tr>\n",
       "      <th>725807</th>\n",
       "      <td>5501057688</td>\n",
       "      <td>None</td>\n",
       "      <td>None</td>\n",
       "      <td>ОМСК</td>\n",
       "      <td>None</td>\n",
       "    </tr>\n",
       "  </tbody>\n",
       "</table>\n",
       "</div>"
      ],
      "text/plain": [
       "               _id region district         city  settlement\n",
       "126136  3907027634   None     None  КАЛИНИНГРАД        None\n",
       "138500  2312124742   None     None    КРАСНОДАР        None\n",
       "138712  2312124887   None     None    КРАСНОДАР        None\n",
       "168754  5406248869   None     None  НОВОСИБИРСК        None\n",
       "223629  2311052083   None     None    КРАСНОДАР        None\n",
       "277503  2310139006   None     None    КРАСНОДАР        None\n",
       "325443  5404226193   None     None  НОВОСИБИРСК        None\n",
       "394464  1654005143   None     None       КАЗАНЬ        None\n",
       "489395  6315568302   None     None       САМАРА        None\n",
       "495252  3702052848   None     None      ИВАНОВО        None\n",
       "567853  2536125809   None     None  ВЛАДИВОСТОК        None\n",
       "611897  5529003668   None     None         ОМСК        None\n",
       "688557  1660080981   None     None       КАЗАНЬ        None\n",
       "714693  1215061598   None     None   ЙОШКАР-ОЛА  СИЛИКАТНЫЙ\n",
       "724611  5031108726   None  НОГИНСК         None   М-7 ВОЛГА\n",
       "725807  5501057688   None     None         ОМСК        None"
      ]
     },
     "execution_count": 38,
     "metadata": {},
     "output_type": "execute_result"
    }
   ],
   "source": [
    "# для тех, у кого нет региона, но есть город - регион можно восстановить\n",
    "# но регион на самом деле не нужен, так как в postgresql в поле код региона нет пропусков\n",
    "addresses.loc[addresses.region.isna()]"
   ]
  },
  {
   "cell_type": "code",
   "execution_count": 41,
   "id": "9fe0a678",
   "metadata": {},
   "outputs": [
    {
     "data": {
      "text/plain": [
       "618663"
      ]
     },
     "execution_count": 41,
     "metadata": {},
     "output_type": "execute_result"
    }
   ],
   "source": [
    "# district - очень мало значений\n",
    "# а часть из них - города (как Ногинск или Одинцово ниже)\n",
    "addresses.district.isna().sum()"
   ]
  },
  {
   "cell_type": "code",
   "execution_count": 42,
   "id": "50e42353",
   "metadata": {},
   "outputs": [
    {
     "data": {
      "text/plain": [
       "array([None, 'ОДИНЦОВО', 'Одинцово', ..., 'МИЛЬКОВСКИЙ', 'ЧАРЫШСКИЙ',\n",
       "       'Хабарский'], dtype=object)"
      ]
     },
     "execution_count": 42,
     "metadata": {},
     "output_type": "execute_result"
    }
   ],
   "source": [
    "addresses.district.unique()"
   ]
  },
  {
   "cell_type": "code",
   "execution_count": 43,
   "id": "368dc7f0",
   "metadata": {},
   "outputs": [
    {
     "data": {
      "text/html": [
       "<div>\n",
       "<style scoped>\n",
       "    .dataframe tbody tr th:only-of-type {\n",
       "        vertical-align: middle;\n",
       "    }\n",
       "\n",
       "    .dataframe tbody tr th {\n",
       "        vertical-align: top;\n",
       "    }\n",
       "\n",
       "    .dataframe thead th {\n",
       "        text-align: right;\n",
       "    }\n",
       "</style>\n",
       "<table border=\"1\" class=\"dataframe\">\n",
       "  <thead>\n",
       "    <tr style=\"text-align: right;\">\n",
       "      <th></th>\n",
       "      <th>_id</th>\n",
       "      <th>region</th>\n",
       "      <th>district</th>\n",
       "      <th>city</th>\n",
       "      <th>settlement</th>\n",
       "    </tr>\n",
       "  </thead>\n",
       "  <tbody>\n",
       "  </tbody>\n",
       "</table>\n",
       "</div>"
      ],
      "text/plain": [
       "Empty DataFrame\n",
       "Columns: [_id, region, district, city, settlement]\n",
       "Index: []"
      ]
     },
     "execution_count": 43,
     "metadata": {},
     "output_type": "execute_result"
    }
   ],
   "source": [
    "# но он по большей части бесполезен\n",
    "addresses.loc[addresses.region.isna() & addresses.city.isna() & addresses.settlement.isna()]"
   ]
  },
  {
   "cell_type": "markdown",
   "id": "076f7743",
   "metadata": {},
   "source": [
    "- и в целом есть самые разные комбинации пропусков"
   ]
  },
  {
   "cell_type": "code",
   "execution_count": 44,
   "id": "7198e3e4",
   "metadata": {},
   "outputs": [
    {
     "data": {
      "text/html": [
       "<div>\n",
       "<style scoped>\n",
       "    .dataframe tbody tr th:only-of-type {\n",
       "        vertical-align: middle;\n",
       "    }\n",
       "\n",
       "    .dataframe tbody tr th {\n",
       "        vertical-align: top;\n",
       "    }\n",
       "\n",
       "    .dataframe thead th {\n",
       "        text-align: right;\n",
       "    }\n",
       "</style>\n",
       "<table border=\"1\" class=\"dataframe\">\n",
       "  <thead>\n",
       "    <tr style=\"text-align: right;\">\n",
       "      <th></th>\n",
       "      <th>_id</th>\n",
       "      <th>region</th>\n",
       "      <th>district</th>\n",
       "      <th>city</th>\n",
       "      <th>settlement</th>\n",
       "    </tr>\n",
       "  </thead>\n",
       "  <tbody>\n",
       "    <tr>\n",
       "      <th>9</th>\n",
       "      <td>5032184021</td>\n",
       "      <td>МОСКОВСКАЯ</td>\n",
       "      <td>ОДИНЦОВО</td>\n",
       "      <td>None</td>\n",
       "      <td>ВНИИССОК</td>\n",
       "    </tr>\n",
       "    <tr>\n",
       "      <th>12</th>\n",
       "      <td>5032206081</td>\n",
       "      <td>МОСКОВСКАЯ</td>\n",
       "      <td>ОДИНЦОВО</td>\n",
       "      <td>None</td>\n",
       "      <td>ЛЕСНОЙ ГОРОДОК</td>\n",
       "    </tr>\n",
       "    <tr>\n",
       "      <th>13</th>\n",
       "      <td>5032197768</td>\n",
       "      <td>МОСКОВСКАЯ</td>\n",
       "      <td>ОДИНЦОВО</td>\n",
       "      <td>None</td>\n",
       "      <td>ШАРАПОВКА</td>\n",
       "    </tr>\n",
       "    <tr>\n",
       "      <th>26</th>\n",
       "      <td>5032206476</td>\n",
       "      <td>МОСКОВСКАЯ</td>\n",
       "      <td>ОДИНЦОВО</td>\n",
       "      <td>None</td>\n",
       "      <td>ЧАСЦЫ</td>\n",
       "    </tr>\n",
       "    <tr>\n",
       "      <th>27</th>\n",
       "      <td>5032194661</td>\n",
       "      <td>МОСКОВСКАЯ</td>\n",
       "      <td>ОДИНЦОВО</td>\n",
       "      <td>None</td>\n",
       "      <td>ШУЛЬГИНО</td>\n",
       "    </tr>\n",
       "    <tr>\n",
       "      <th>...</th>\n",
       "      <td>...</td>\n",
       "      <td>...</td>\n",
       "      <td>...</td>\n",
       "      <td>...</td>\n",
       "      <td>...</td>\n",
       "    </tr>\n",
       "    <tr>\n",
       "      <th>726352</th>\n",
       "      <td>2287004086</td>\n",
       "      <td>АЛТАЙСКИЙ</td>\n",
       "      <td>ЦЕЛИННЫЙ</td>\n",
       "      <td>None</td>\n",
       "      <td>ПОБЕДА</td>\n",
       "    </tr>\n",
       "    <tr>\n",
       "      <th>726353</th>\n",
       "      <td>2287005178</td>\n",
       "      <td>АЛТАЙСКИЙ</td>\n",
       "      <td>ЦЕЛИННЫЙ</td>\n",
       "      <td>None</td>\n",
       "      <td>ЦЕЛИННОЕ</td>\n",
       "    </tr>\n",
       "    <tr>\n",
       "      <th>726354</th>\n",
       "      <td>2287006781</td>\n",
       "      <td>АЛТАЙСКИЙ</td>\n",
       "      <td>Целинный</td>\n",
       "      <td>None</td>\n",
       "      <td>Ложкино</td>\n",
       "    </tr>\n",
       "    <tr>\n",
       "      <th>726355</th>\n",
       "      <td>2286002625</td>\n",
       "      <td>АЛТАЙСКИЙ</td>\n",
       "      <td>ХАБАРСКИЙ</td>\n",
       "      <td>None</td>\n",
       "      <td>ХАБАРЫ</td>\n",
       "    </tr>\n",
       "    <tr>\n",
       "      <th>726356</th>\n",
       "      <td>2287006541</td>\n",
       "      <td>АЛТАЙСКИЙ</td>\n",
       "      <td>ЦЕЛИННЫЙ</td>\n",
       "      <td>None</td>\n",
       "      <td>ДРУЖБА</td>\n",
       "    </tr>\n",
       "  </tbody>\n",
       "</table>\n",
       "<p>63505 rows × 5 columns</p>\n",
       "</div>"
      ],
      "text/plain": [
       "               _id      region   district  city      settlement\n",
       "9       5032184021  МОСКОВСКАЯ   ОДИНЦОВО  None        ВНИИССОК\n",
       "12      5032206081  МОСКОВСКАЯ   ОДИНЦОВО  None  ЛЕСНОЙ ГОРОДОК\n",
       "13      5032197768  МОСКОВСКАЯ   ОДИНЦОВО  None       ШАРАПОВКА\n",
       "26      5032206476  МОСКОВСКАЯ   ОДИНЦОВО  None           ЧАСЦЫ\n",
       "27      5032194661  МОСКОВСКАЯ   ОДИНЦОВО  None        ШУЛЬГИНО\n",
       "...            ...         ...        ...   ...             ...\n",
       "726352  2287004086   АЛТАЙСКИЙ   ЦЕЛИННЫЙ  None          ПОБЕДА\n",
       "726353  2287005178   АЛТАЙСКИЙ   ЦЕЛИННЫЙ  None        ЦЕЛИННОЕ\n",
       "726354  2287006781   АЛТАЙСКИЙ   Целинный  None         Ложкино\n",
       "726355  2286002625   АЛТАЙСКИЙ  ХАБАРСКИЙ  None          ХАБАРЫ\n",
       "726356  2287006541   АЛТАЙСКИЙ   ЦЕЛИННЫЙ  None          ДРУЖБА\n",
       "\n",
       "[63505 rows x 5 columns]"
      ]
     },
     "execution_count": 44,
     "metadata": {},
     "output_type": "execute_result"
    }
   ],
   "source": [
    "addresses.loc[~addresses.settlement.isna() & addresses.city.isna()]"
   ]
  },
  {
   "cell_type": "code",
   "execution_count": 45,
   "id": "bc039192",
   "metadata": {},
   "outputs": [
    {
     "data": {
      "text/html": [
       "<div>\n",
       "<style scoped>\n",
       "    .dataframe tbody tr th:only-of-type {\n",
       "        vertical-align: middle;\n",
       "    }\n",
       "\n",
       "    .dataframe tbody tr th {\n",
       "        vertical-align: top;\n",
       "    }\n",
       "\n",
       "    .dataframe thead th {\n",
       "        text-align: right;\n",
       "    }\n",
       "</style>\n",
       "<table border=\"1\" class=\"dataframe\">\n",
       "  <thead>\n",
       "    <tr style=\"text-align: right;\">\n",
       "      <th></th>\n",
       "      <th>_id</th>\n",
       "      <th>region</th>\n",
       "      <th>district</th>\n",
       "      <th>city</th>\n",
       "      <th>settlement</th>\n",
       "    </tr>\n",
       "  </thead>\n",
       "  <tbody>\n",
       "    <tr>\n",
       "      <th>7</th>\n",
       "      <td>5032200629</td>\n",
       "      <td>МОСКОВСКАЯ</td>\n",
       "      <td>ОДИНЦОВО</td>\n",
       "      <td>None</td>\n",
       "      <td>None</td>\n",
       "    </tr>\n",
       "    <tr>\n",
       "      <th>10</th>\n",
       "      <td>5032190642</td>\n",
       "      <td>МОСКОВСКАЯ</td>\n",
       "      <td>ОДИНЦОВО</td>\n",
       "      <td>None</td>\n",
       "      <td>None</td>\n",
       "    </tr>\n",
       "    <tr>\n",
       "      <th>14</th>\n",
       "      <td>5032185280</td>\n",
       "      <td>МОСКОВСКАЯ</td>\n",
       "      <td>ОДИНЦОВО</td>\n",
       "      <td>None</td>\n",
       "      <td>None</td>\n",
       "    </tr>\n",
       "    <tr>\n",
       "      <th>15</th>\n",
       "      <td>5032194816</td>\n",
       "      <td>МОСКВА</td>\n",
       "      <td>None</td>\n",
       "      <td>None</td>\n",
       "      <td>None</td>\n",
       "    </tr>\n",
       "    <tr>\n",
       "      <th>16</th>\n",
       "      <td>5032205666</td>\n",
       "      <td>МОСКОВСКАЯ</td>\n",
       "      <td>ОДИНЦОВО</td>\n",
       "      <td>None</td>\n",
       "      <td>None</td>\n",
       "    </tr>\n",
       "    <tr>\n",
       "      <th>...</th>\n",
       "      <td>...</td>\n",
       "      <td>...</td>\n",
       "      <td>...</td>\n",
       "      <td>...</td>\n",
       "      <td>...</td>\n",
       "    </tr>\n",
       "    <tr>\n",
       "      <th>726224</th>\n",
       "      <td>7731259097</td>\n",
       "      <td>МОСКВА</td>\n",
       "      <td>None</td>\n",
       "      <td>None</td>\n",
       "      <td>None</td>\n",
       "    </tr>\n",
       "    <tr>\n",
       "      <th>726225</th>\n",
       "      <td>7731252581</td>\n",
       "      <td>МОСКВА</td>\n",
       "      <td>None</td>\n",
       "      <td>None</td>\n",
       "      <td>None</td>\n",
       "    </tr>\n",
       "    <tr>\n",
       "      <th>726226</th>\n",
       "      <td>7731258086</td>\n",
       "      <td>МОСКВА</td>\n",
       "      <td>None</td>\n",
       "      <td>None</td>\n",
       "      <td>None</td>\n",
       "    </tr>\n",
       "    <tr>\n",
       "      <th>726227</th>\n",
       "      <td>7731232070</td>\n",
       "      <td>МОСКВА</td>\n",
       "      <td>None</td>\n",
       "      <td>None</td>\n",
       "      <td>None</td>\n",
       "    </tr>\n",
       "    <tr>\n",
       "      <th>726228</th>\n",
       "      <td>7731259330</td>\n",
       "      <td>МОСКВА</td>\n",
       "      <td>None</td>\n",
       "      <td>None</td>\n",
       "      <td>None</td>\n",
       "    </tr>\n",
       "  </tbody>\n",
       "</table>\n",
       "<p>180180 rows × 5 columns</p>\n",
       "</div>"
      ],
      "text/plain": [
       "               _id      region  district  city settlement\n",
       "7       5032200629  МОСКОВСКАЯ  ОДИНЦОВО  None       None\n",
       "10      5032190642  МОСКОВСКАЯ  ОДИНЦОВО  None       None\n",
       "14      5032185280  МОСКОВСКАЯ  ОДИНЦОВО  None       None\n",
       "15      5032194816      МОСКВА      None  None       None\n",
       "16      5032205666  МОСКОВСКАЯ  ОДИНЦОВО  None       None\n",
       "...            ...         ...       ...   ...        ...\n",
       "726224  7731259097      МОСКВА      None  None       None\n",
       "726225  7731252581      МОСКВА      None  None       None\n",
       "726226  7731258086      МОСКВА      None  None       None\n",
       "726227  7731232070      МОСКВА      None  None       None\n",
       "726228  7731259330      МОСКВА      None  None       None\n",
       "\n",
       "[180180 rows x 5 columns]"
      ]
     },
     "execution_count": 45,
     "metadata": {},
     "output_type": "execute_result"
    }
   ],
   "source": [
    "# нет ни city ни district\n",
    "addresses.loc[addresses.settlement.isna() & addresses.city.isna()]"
   ]
  },
  {
   "cell_type": "code",
   "execution_count": 46,
   "id": "82cf3f42",
   "metadata": {},
   "outputs": [
    {
     "data": {
      "text/plain": [
       "array(['МОСКОВСКАЯ', 'МОСКВА', 'САНКТ-ПЕТЕРБУРГ', 'ЛЕНИНГРАДСКАЯ',\n",
       "       'ХАБАРОВСКИЙ', 'СЕВАСТОПОЛЬ', 'САМАРСКАЯ', 'ОРЕНБУРГСКАЯ',\n",
       "       'КОСТРОМСКАЯ', 'ИРКУТСКАЯ', 'ТАТАРСТАН', 'Севастополь',\n",
       "       'УЛЬЯНОВСКАЯ', 'ПЕНЗЕНСКАЯ', 'НОВГОРОДСКАЯ', 'РОСТОВСКАЯ',\n",
       "       'ПЕРМСКИЙ', 'УДМУРТСКАЯ', 'СВЕРДЛОВСКАЯ', 'ЛИПЕЦКАЯ', 'ИВАНОВСКАЯ',\n",
       "       'БАШКОРТОСТАН', 'НОВОСИБИРСКАЯ', 'ПРИМОРСКИЙ', 'САРАТОВСКАЯ',\n",
       "       'ТЮМЕНСКАЯ', 'ТАМБОВСКАЯ', 'ТВЕРСКАЯ', 'КАРЕЛИЯ', 'ЗАБАЙКАЛЬСКИЙ',\n",
       "       'МУРМАНСКАЯ', 'ВОРОНЕЖСКАЯ', 'КРАСНОДАРСКИЙ', 'КРАСНОЯРСКИЙ',\n",
       "       'БЕЛГОРОДСКАЯ', 'СТАВРОПОЛЬСКИЙ', 'НИЖЕГОРОДСКАЯ', 'КУРГАНСКАЯ',\n",
       "       'ТОМСКАЯ', 'ТУЛЬСКАЯ', 'МАРИЙ ЭЛ', 'АСТРАХАНСКАЯ', 'КАЛУЖСКАЯ',\n",
       "       'СМОЛЕНСКАЯ', 'ВЛАДИМИРСКАЯ', 'КАМЧАТСКИЙ', 'КОМИ', 'ЧЕЛЯБИНСКАЯ',\n",
       "       'КАЛИНИНГРАДСКАЯ', 'БУРЯТИЯ', 'Санкт-Петербург', 'АЛТАЙ', 'Москва',\n",
       "       'КРЫМ', 'КИРОВСКАЯ', 'САХАЛИНСКАЯ', 'РЯЗАНСКАЯ', 'Московская',\n",
       "       'КУРСКАЯ', 'ПСКОВСКАЯ', 'АРХАНГЕЛЬСКАЯ',\n",
       "       'ХАНТЫ-МАНСИЙСКИЙ АВТОНОМНЫЙ ОКРУГ - ЮГРА',\n",
       "       'ЧУВАШСКАЯ РЕСПУБЛИКА -', 'ОРЛОВСКАЯ', 'ВОЛГОГРАДСКАЯ',\n",
       "       'АЛТАЙСКИЙ', 'КЕМЕРОВСКАЯ ОБЛАСТЬ - КУЗБАСС', 'ЯРОСЛАВСКАЯ',\n",
       "       'СЕВЕРНАЯ ОСЕТИЯ - АЛАНИЯ', 'БАЙКОНУР', 'ХАКАСИЯ', 'Свердловская'],\n",
       "      dtype=object)"
      ]
     },
     "execution_count": 46,
     "metadata": {},
     "output_type": "execute_result"
    }
   ],
   "source": [
    "# но большую часть можно заполнить - тк город указан в region\n",
    "addresses.loc[addresses.settlement.isna() & addresses.city.isna()].region.unique()"
   ]
  },
  {
   "cell_type": "code",
   "execution_count": 49,
   "id": "74403f5f",
   "metadata": {},
   "outputs": [
    {
     "data": {
      "text/plain": [
       "(115002, 5)"
      ]
     },
     "execution_count": 49,
     "metadata": {},
     "output_type": "execute_result"
    }
   ],
   "source": [
    "# Москва\n",
    "addresses.loc[addresses.settlement.isna() & addresses.city.isna()].loc[addresses.region=='МОСКВА'].shape"
   ]
  },
  {
   "cell_type": "code",
   "execution_count": 50,
   "id": "5421188e",
   "metadata": {},
   "outputs": [
    {
     "data": {
      "text/plain": [
       "(56662, 5)"
      ]
     },
     "execution_count": 50,
     "metadata": {},
     "output_type": "execute_result"
    }
   ],
   "source": [
    "# СПб\n",
    "addresses.loc[addresses.settlement.isna() & addresses.city.isna()].loc[addresses.region=='САНКТ-ПЕТЕРБУРГ'].shape"
   ]
  },
  {
   "cell_type": "code",
   "execution_count": 51,
   "id": "1700b91b",
   "metadata": {},
   "outputs": [
    {
     "data": {
      "text/plain": [
       "(2230, 5)"
      ]
     },
     "execution_count": 51,
     "metadata": {},
     "output_type": "execute_result"
    }
   ],
   "source": [
    "addresses.loc[addresses.settlement.isna() & addresses.city.isna()].loc[addresses.region=='СЕВАСТОПОЛЬ'].shape"
   ]
  },
  {
   "cell_type": "markdown",
   "id": "d62d7656",
   "metadata": {},
   "source": [
    "- для проверки - в xml действительно в поле Регион указан Город\n",
    "\n",
    "      <Регион Наим=\"САНКТ-ПЕТЕРБУРГ\" Тип=\"ГОРОД\"/> \n",
    "\n",
    "- т.е. придётся заполнять пропуски и выбирать способ, как определить конечный пункт, по которому соединять с таблицей с численностью\n",
    "- пока - уникальные city и settlement из Mongo"
   ]
  },
  {
   "cell_type": "code",
   "execution_count": 52,
   "id": "cccbc32b",
   "metadata": {},
   "outputs": [
    {
     "data": {
      "text/plain": [
       "(1184, 13526)"
      ]
     },
     "execution_count": 52,
     "metadata": {},
     "output_type": "execute_result"
    }
   ],
   "source": [
    "cities = collection.distinct('city')\n",
    "cities = set(el.title() for el in cities[1:])\n",
    "\n",
    "settlements = collection.distinct('settlement')\n",
    "settlements = set(el.title() for el in settlements[1:])\n",
    "\n",
    "len(cities), len(settlements)"
   ]
  },
  {
   "cell_type": "markdown",
   "id": "24a2fe67",
   "metadata": {},
   "source": [
    "- данные переписи"
   ]
  },
  {
   "cell_type": "code",
   "execution_count": 54,
   "id": "1d6a7cc8",
   "metadata": {},
   "outputs": [],
   "source": [
    "data = pd.read_excel('../raw_data/tab-5_VPN-2020.xlsx', header=3)\n",
    "population = data[['Unnamed: 0', 'Unnamed: 1']].rename(columns={'Unnamed: 0': 'locality', 'Unnamed: 1': 'population'})"
   ]
  },
  {
   "cell_type": "code",
   "execution_count": 55,
   "id": "939cea8d",
   "metadata": {},
   "outputs": [
    {
     "data": {
      "text/html": [
       "<div>\n",
       "<style scoped>\n",
       "    .dataframe tbody tr th:only-of-type {\n",
       "        vertical-align: middle;\n",
       "    }\n",
       "\n",
       "    .dataframe tbody tr th {\n",
       "        vertical-align: top;\n",
       "    }\n",
       "\n",
       "    .dataframe thead th {\n",
       "        text-align: right;\n",
       "    }\n",
       "</style>\n",
       "<table border=\"1\" class=\"dataframe\">\n",
       "  <thead>\n",
       "    <tr style=\"text-align: right;\">\n",
       "      <th></th>\n",
       "      <th>locality</th>\n",
       "      <th>population</th>\n",
       "    </tr>\n",
       "  </thead>\n",
       "  <tbody>\n",
       "    <tr>\n",
       "      <th>0</th>\n",
       "      <td>Российская Федерация</td>\n",
       "      <td>147182123</td>\n",
       "    </tr>\n",
       "    <tr>\n",
       "      <th>1</th>\n",
       "      <td>Городское население</td>\n",
       "      <td>110075322</td>\n",
       "    </tr>\n",
       "    <tr>\n",
       "      <th>2</th>\n",
       "      <td>Сельское население</td>\n",
       "      <td>37106801</td>\n",
       "    </tr>\n",
       "    <tr>\n",
       "      <th>3</th>\n",
       "      <td>Центральный федеральный округ</td>\n",
       "      <td>40334532</td>\n",
       "    </tr>\n",
       "    <tr>\n",
       "      <th>4</th>\n",
       "      <td>Городское население</td>\n",
       "      <td>33118003</td>\n",
       "    </tr>\n",
       "    <tr>\n",
       "      <th>...</th>\n",
       "      <td>...</td>\n",
       "      <td>...</td>\n",
       "    </tr>\n",
       "    <tr>\n",
       "      <th>27794</th>\n",
       "      <td>Сельское поселение Лаврентия</td>\n",
       "      <td>1420</td>\n",
       "    </tr>\n",
       "    <tr>\n",
       "      <th>27795</th>\n",
       "      <td>Сельское поселение Лорино</td>\n",
       "      <td>1426</td>\n",
       "    </tr>\n",
       "    <tr>\n",
       "      <th>27796</th>\n",
       "      <td>Сельское поселение Нешкан</td>\n",
       "      <td>712</td>\n",
       "    </tr>\n",
       "    <tr>\n",
       "      <th>27797</th>\n",
       "      <td>Сельское поселение Уэлен</td>\n",
       "      <td>685</td>\n",
       "    </tr>\n",
       "    <tr>\n",
       "      <th>27798</th>\n",
       "      <td>Сельское поселение Энурмино</td>\n",
       "      <td>320</td>\n",
       "    </tr>\n",
       "  </tbody>\n",
       "</table>\n",
       "<p>27799 rows × 2 columns</p>\n",
       "</div>"
      ],
      "text/plain": [
       "                            locality population\n",
       "0               Российская Федерация  147182123\n",
       "1                Городское население  110075322\n",
       "2                 Сельское население   37106801\n",
       "3      Центральный федеральный округ   40334532\n",
       "4                Городское население   33118003\n",
       "...                              ...        ...\n",
       "27794   Сельское поселение Лаврентия       1420\n",
       "27795      Сельское поселение Лорино       1426\n",
       "27796      Сельское поселение Нешкан        712\n",
       "27797       Сельское поселение Уэлен        685\n",
       "27798    Сельское поселение Энурмино        320\n",
       "\n",
       "[27799 rows x 2 columns]"
      ]
     },
     "execution_count": 55,
     "metadata": {},
     "output_type": "execute_result"
    }
   ],
   "source": [
    "# строки разного уровня + очень неединообразные наименования\n",
    "# для города: город, г. г и т.д.\n",
    "population"
   ]
  },
  {
   "cell_type": "code",
   "execution_count": 57,
   "id": "8d3125fc",
   "metadata": {},
   "outputs": [],
   "source": [
    "# порядок важен - в городах сперва ищем город!\n",
    "def get_population(name):\n",
    "    val = population.loc[population['locality']\\\n",
    "          .str \\\n",
    "          .contains(rf'г. {name}\\b|пгт {name}\\b|село {name}\\b|пос[ёе]лок {name}\\b|п. {name}\\b|[Сс]ельское поселение {name}\\b|^{name}\\b сельское поселение|Поселение {name}\\b|[Дд]еревня {name}\\b|г {name}\\b|город {name}\\b')]\\\n",
    "          .population.values\n",
    "    return val[0] if val.any() else None"
   ]
  },
  {
   "cell_type": "code",
   "execution_count": 58,
   "id": "baf0343d",
   "metadata": {},
   "outputs": [
    {
     "name": "stdout",
     "output_type": "stream",
     "text": [
      "Wall time: 1min 51s\n"
     ]
    }
   ],
   "source": [
    "%%time\n",
    "city_to_population = {key: get_population(key) for key in cities}"
   ]
  },
  {
   "cell_type": "code",
   "execution_count": 59,
   "id": "8f733e4b",
   "metadata": {
    "scrolled": true
   },
   "outputs": [
    {
     "name": "stdout",
     "output_type": "stream",
     "text": [
      "Геническ None\n",
      "Городской Округ Черноголовка None\n",
      "Николаевск-На-Амуре None\n",
      "Чехов-4 None\n",
      "Добрунское Сельское Поселение None\n",
      "Киссолово None\n",
      "Васкелово None\n",
      "Буденновск None\n",
      "Новинка None\n",
      "Павло-Слободское None\n",
      "Славянск-На-Кубани None\n",
      "Лошаковкое None\n",
      "Усть-Лужская None\n",
      "Мендсары None\n",
      "Терсинское Мо None\n",
      "Сольцы 2 None\n",
      "Разинское None\n",
      "Ростов-На-Дону None\n",
      "Чехов-2 None\n",
      "Чехов-6 None\n",
      "Красноярское Мо None\n",
      "Городское Поселение Снегири None\n",
      "Алешино None\n",
      "Энгельс-19 None\n",
      "Сертолово-2 None\n",
      "Мо Сельское Поселение Следневское None\n",
      "Булатниковское None\n",
      "Белохолуницкое Городское Поселение None\n",
      "Энгельс-2 None\n",
      "Зеленоград None\n",
      "Климовск None\n",
      "38 Км Выборгского Шоссе None\n",
      "Посадников Остров None\n",
      "Чехов-3 None\n",
      "Керро None\n",
      "Комсомольск-На-Амуре None\n",
      "45 Км Автодороги Санкт-Петербург-Псков None\n",
      "26 Км Приозерского Шоссе None\n",
      "Одинцово-10 None\n",
      "Камень-На-Оби None\n",
      "Калач-На-Дону None\n",
      "Лесковское None\n",
      "Новопушкинское Мо None\n",
      "Новохоперск None\n",
      "Широкобуеракское Мо None\n",
      "Мертуть None\n",
      "Королев None\n",
      "Боровск-1 None\n"
     ]
    }
   ],
   "source": [
    "# не найдено значений для\n",
    "for k, v in city_to_population.items():\n",
    "    if not v:\n",
    "        print(k, v)"
   ]
  },
  {
   "cell_type": "code",
   "execution_count": null,
   "id": "191faaaf",
   "metadata": {},
   "outputs": [],
   "source": [
    "# часть можно всё-таки найти, если очистить данные\n",
    "# словарь для замены в датасете: - надо будет обновить, так как данные ещё добавляются\n",
    "city_replace = {\n",
    "    'Королев': 'Королёв',\n",
    "    'Белохолуницкое Городское Поселение': 'Белохолуницкое',\n",
    "    'Мо Сельское Поселение Следневское': 'Следневское'\n",
    "    'Камень-На-Оби': 'Камень-на-Оби',\n",
    "    'Широкобуеракское Мо': 'Широкобуеракское',\n",
    "    'Новопушкинское Мо': 'Новопушкинское',\n",
    "    'Ростов-На-Дону': 'Ростов-на-Дону',\n",
    "    'Сольцы 2': 'Сольцы',\n",
    "    'Буденновск': 'Будённовск',\n",
    "    'Городское Поселение Снегири': 'Снегири',\n",
    "    'Калач-На-Дону': 'Калач-на-Дону',\n",
    "    'Славянск-На-Кубани': 'Славянск-на-Кубани',\n",
    "    'Терсинское Мо': 'Терсинское',\n",
    "    'Николаевск-На-Амуре': 'Николаевск-на-Амуре',\n",
    "    'Комсомольск-На-Амуре': 'Комсомольск-на-Амуре',\n",
    "}"
   ]
  },
  {
   "cell_type": "markdown",
   "id": "1cef7045",
   "metadata": {},
   "source": [
    "- для settlement - можно искать таким же образом (только совпадений намного меньше и поиск заметно дольше) - из 11 тыс уникальных всего около 2 тыс значений численности\n",
    "- большая часть из этих None - менее 3 тыс населения!"
   ]
  },
  {
   "cell_type": "markdown",
   "id": "8ff04b0e",
   "metadata": {},
   "source": [
    "### предварительный отбор полей, пропуски и типы данных в таблицах\n",
    "\n",
    "#### - из MongoDB bo_nalog.bonalogru\n",
    "\n",
    "- карточка организации + отчёты"
   ]
  },
  {
   "cell_type": "code",
   "execution_count": 61,
   "id": "7ad3452f",
   "metadata": {},
   "outputs": [],
   "source": [
    "client = MongoClient('localhost', 27017)\n",
    "mongobase = client.bo_nalog\n",
    "collection = mongobase['bonalogru']"
   ]
  },
  {
   "cell_type": "code",
   "execution_count": 62,
   "id": "707f8174",
   "metadata": {},
   "outputs": [],
   "source": [
    "# поля снова указываю явно - проще выключить/включить\n",
    "# уже предваительно отобранные\n",
    "fields = {\n",
    "    '_id': 1,\n",
    "#     'id_org': 1,  # id карточки организации\n",
    "    'shortName': 1,  # только чтобы проще сориентироваться - потом убрать!\n",
    "    'ogrn': 1,\n",
    "#     'index': 1,  # почтовый индекс, можно что-нибудь привязать, но мне не нужен пока\n",
    "    'region': 1,  # здесь достаточно много городов в к-ве региона (Москва, СПб...)\n",
    "#     'district': 1,\n",
    "    'city': 1,  # здесь достаточно много поселений/посёлков, пгт и др\n",
    "    'settlement': 1,\n",
    "#     'okved': 1,  # просто на всякий случай, скорее всего убрать, ага все None\n",
    "    'okved2': 1,\n",
    "    'okopf': 1,\n",
    "    'statusCode': 1,  # - даже полезно!, мб целью?\n",
    "    'registrationDate': 1,\n",
    "    'authorizedCapital': 1,\n",
    "#     'report_periods': 1,\n",
    "    # АКТИВ\n",
    "    # I Внеоборотные активы\n",
    "    # Нематериальные активы\n",
    "#     '2021_1110': 1,\n",
    "#     '2020_1110': 1,\n",
    "#     '2019_1110': 1,\n",
    "    # Результаты исследований и разработок (около 3 тыс на 650 тыс)\n",
    "#     '2021_1120': 1,  # а здесь у меня записано поле 2021_1220, но они всё равно не нужны\n",
    "#     '2020_1120': 1,  # это верно\n",
    "#     '2019_1120': 1,  # и это верно\n",
    "    # Нематериальные поисковые активы\n",
    "#     '2021_1130': 1,\n",
    "#     '2020_1130': 1,\n",
    "#     '2019_1130': 1,\n",
    "    # Материальные поисковые активы\n",
    "#     '2021_1140': 1,\n",
    "#     '2020_1140': 1,\n",
    "#     '2019_1140': 1,\n",
    "    # Основные средства = Материальные внеоборотные активы - есть в упрощённой форме\n",
    "    '2021_1150': 1,\n",
    "    '2020_1150': 1,\n",
    "    '2019_1150': 1,\n",
    "    # Доходные вложения в материальные ценности\n",
    "#     '2021_1160': 1,\n",
    "#     '2020_1160': 1,\n",
    "#     '2019_1160': 1,\n",
    "    # Финансовые вложения = Нематериальные, финансовые и другие внеоборотные активы\n",
    "    # - есть в упрощённой форме, хотя значений мало\n",
    "    '2021_1170': 1,\n",
    "    '2020_1170': 1,\n",
    "    '2019_1170': 1,\n",
    "    # Отложенные налоговые активы\n",
    "#     '2021_1180': 1,\n",
    "#     '2020_1180': 1,\n",
    "#     '2019_1180': 1,\n",
    "    # Прочие внеоборотные активы\n",
    "#     '2021_1190': 1,\n",
    "#     '2020_1190': 1,\n",
    "#     '2019_1190': 1,\n",
    "    # Итого по разделу I - их довольно много (145385, но для упрощённой формы нет\n",
    "    # те можно использовать, если отбирать организации по типу)\n",
    "#     '2021_1100': 1,\n",
    "#     '2020_1100': 1,\n",
    "#     '2019_1100': 1,\n",
    "    # II Оборотные активы\n",
    "    # Запасы - есть в упрощённой форме\n",
    "    '2021_1210': 1,\n",
    "    '2020_1210': 1,\n",
    "    '2019_1210': 1,\n",
    "    # Налог на добавленную стоимость по приобретённым ценностям\n",
    "#     '2021_1220': 1,  # здесь у меня ошибка, поле 2021_1220 записала в 2021_1120\n",
    "#     '2020_1220': 1,  # около 50 тыс на 650 тыс\n",
    "#     '2019_1220': 1,\n",
    "    # Дебиторская задолженность = Финансовые и другие оборотные активы?\n",
    "    # долговые обязательства со стороны контрагентов, партнеров, клиентов или работников\n",
    "    # есть в упрощённой форме\n",
    "    '2021_1230': 1,\n",
    "    '2020_1230': 1,\n",
    "    '2019_1230': 1,\n",
    "    # Финансовые вложения (за исключением денежных эквивалентов)\n",
    "#     '2021_1240': 1,\n",
    "#     '2020_1240': 1,\n",
    "#     '2019_1240': 1,\n",
    "    # Денежные средства и денежные эквиваленты - есть в упрощённой форме\n",
    "    '2021_1250': 1,\n",
    "    '2020_1250': 1,\n",
    "    '2019_1250': 1,\n",
    "    # Прочие оборотные активы\n",
    "#     '2021_1260': 1,\n",
    "#     '2020_1260': 1,\n",
    "#     '2019_1260': 1,\n",
    "    # Итого по разделу II - в упрощённой форме нет, но их довольно много (ок 250 тыс)\n",
    "#     '2021_1200': 1,\n",
    "#     '2020_1200': 1,\n",
    "#     '2019_1200': 1,\n",
    "    # Баланс по АКТИВЫ - есть в упрощённой форме, пропусков нет!\n",
    "    '2021_1600': 1,\n",
    "    '2020_1600': 1,\n",
    "    '2019_1600': 1,\n",
    "    # ПАССИВ\n",
    "    # III Капитал и резервы\n",
    "    # Уставный капитал (складочный капитал, уставный фонд, вклады товарищей)\n",
    "    # снова довольно много\n",
    "#     '2021_1310': 1,\n",
    "#     '2020_1310': 1,\n",
    "#     '2019_1310': 1,\n",
    "    # Собственные акции, выкупленные у акционеров\n",
    "    # только для тех, у кого есть акции\n",
    "#     '2021_1320': 1,\n",
    "#     '2020_1320': 1,\n",
    "#     '2019_1320': 1,\n",
    "    # Переоценка внеоборотных активов\n",
    "#     '2021_1340': 1,\n",
    "#     '2020_1340': 1,\n",
    "#     '2019_1340': 1,\n",
    "    # Добавочный капитал (без переоценки) = Целевые средства\n",
    "    # есть в упрощённой форме, но очень мало значений (17 тыс)\n",
    "    '2021_1350': 1,\n",
    "    '2020_1350': 1,\n",
    "    '2019_1350': 1,\n",
    "    # Резервный капитал = Фонд недвижимого и особо ценного движимого имущества и иные \n",
    "    # целевые фонды - то же самое, есть в упрощенной, около 15 тыс\n",
    "    '2021_1360': 1,\n",
    "    '2020_1360': 1,\n",
    "    '2019_1360': 1,\n",
    "    # Нераспределенная прибыль (непокрытый убыток) - нет в упрощённой, но довольно много значений\n",
    "#     '2021_1370': 1,\n",
    "#     '2020_1370': 1,\n",
    "#     '2019_1370': 1,\n",
    "    # Итого по разделу III = Капитал и резервы - есть в упрощённой, много (631996)\n",
    "    '2021_1300': 1,\n",
    "    '2020_1300': 1,\n",
    "    '2019_1300': 1,\n",
    "    # IV. Долгосрочные обязательства\n",
    "    # Заемные средства = Краткосрочные заемные средства, есть в упрощённой, 204 тыс, неплохо\n",
    "    # отсутствие, наверное = 0?\n",
    "    # долгосрочные заёмные средства должны были быть под кодом 1410 и 1450 - но у меня их нет\n",
    "    # (видимо, разные формы...)\n",
    "    # ну и чёрт с ним, выключаем, главное, что баланс собран\n",
    "    # ага, куда-то делся целыйблок кодов с 1400\n",
    "#     '2021_1510': 1,\n",
    "#     '2020_1510': 1,\n",
    "#     '2019_1510': 1,\n",
    "    # Кредиторская задолженность - есть в упрощённой, много 550 тыс, мб целью!\n",
    "    '2021_1520': 1,\n",
    "    '2020_1520': 1,\n",
    "    '2019_1520': 1,\n",
    "    # Доходы будущих периодов\n",
    "#     '2021_1530': 1,\n",
    "#     '2020_1530': 1,\n",
    "#     '2019_1530': 1,\n",
    "    # Оценочные обязательства\n",
    "#     '2021_1540': 1,\n",
    "#     '2020_1540': 1,\n",
    "#     '2019_1540': 1,\n",
    "    # Прочие обязательства = Другие краткосрочные обязательства - есть в упрощённой\n",
    "#     '2021_1550': 1,\n",
    "#     '2020_1550': 1,\n",
    "#     '2019_1550': 1,\n",
    "    # Итого по разделу V - нет в упрощённой, около 200 тыс\n",
    "#     '2021_1500': 1,\n",
    "#     '2020_1500': 1,\n",
    "#     '2019_1500': 1,\n",
    "    # Баланс по ПАССИВЫ - есть в упрощённой, нет пропусков!\n",
    "    '2021_1700': 1,\n",
    "    '2020_1700': 1,\n",
    "    '2019_1700': 1,\n",
    "    # fin_res\n",
    "    # Выручка - есть в упрощённой, 500 тыс\n",
    "    '2021_2110': 1,\n",
    "    '2020_2110': 1,\n",
    "    # Себестоимость продаж = Расходы по обычной деятельности - есть в упрощённой, 500 тыс\n",
    "    '2021_2120': 1,\n",
    "    '2020_2120': 1,\n",
    "    # Валовая прибыль (убыток) - нет в упрощённой, 200 тыс\n",
    "#     '2021_2100': 1,\n",
    "#     '2020_2100': 1,\n",
    "    # Управленческие расходы - нет в упрощённой, 100 тыс\n",
    "#     '2021_2220': 1,\n",
    "#     '2020_2220': 1,\n",
    "    # Прибыль (убыток) от продаж - нет в упрощённой, 200 тыс\n",
    "#     '2021_2200': 1,\n",
    "#     '2020_2200': 1,\n",
    "    # Проценты к уплате - есть в упрощённой, 100 тыс\n",
    "    '2021_2330': 1,\n",
    "    '2020_2330': 1,\n",
    "    # Прочие доходы - есть в упрощённой, 300 тыс\n",
    "    '2021_2340': 1,\n",
    "    '2020_2340': 1,\n",
    "    # Прочие расходы - есть в упрощённой, 500 тыс\n",
    "    '2021_2350': 1,\n",
    "    '2020_2350': 1,\n",
    "    # Прибыль (убыток) до налогообложения - нет в упрощённой, 200 тыс\n",
    "#     '2021_2300': 1,\n",
    "#     '2020_2300': 1,\n",
    "    # Налог на прибыль (доходы) - есть в упрощённой, 450 тыс\n",
    "    '2021_2410': 1,\n",
    "    '2020_2410': 1,\n",
    "    # Чистая прибыль (убыток) - есть в упрощённой - 560 тыс\n",
    "    '2021_2400': 1,\n",
    "    '2020_2400': 1,\n",
    "    # Совокупный финансовый результат периода (не для упрощённой формы) - 200 тыс\n",
    "#     '2021_2500': 1,\n",
    "#     '2020_2500': 1,\n",
    "}"
   ]
  },
  {
   "cell_type": "code",
   "execution_count": 63,
   "id": "9a36ac25",
   "metadata": {},
   "outputs": [
    {
     "data": {
      "text/plain": [
       "58"
      ]
     },
     "execution_count": 63,
     "metadata": {},
     "output_type": "execute_result"
    }
   ],
   "source": [
    "len(fields)"
   ]
  },
  {
   "cell_type": "code",
   "execution_count": 64,
   "id": "71397cd1",
   "metadata": {},
   "outputs": [],
   "source": [
    "mongo_data = pd.DataFrame.from_records(collection.find({}, fields))"
   ]
  },
  {
   "cell_type": "code",
   "execution_count": 66,
   "id": "44c19ffd",
   "metadata": {},
   "outputs": [
    {
     "data": {
      "text/html": [
       "<div>\n",
       "<style scoped>\n",
       "    .dataframe tbody tr th:only-of-type {\n",
       "        vertical-align: middle;\n",
       "    }\n",
       "\n",
       "    .dataframe tbody tr th {\n",
       "        vertical-align: top;\n",
       "    }\n",
       "\n",
       "    .dataframe thead th {\n",
       "        text-align: right;\n",
       "    }\n",
       "</style>\n",
       "<table border=\"1\" class=\"dataframe\">\n",
       "  <thead>\n",
       "    <tr style=\"text-align: right;\">\n",
       "      <th></th>\n",
       "      <th>_id</th>\n",
       "      <th>shortName</th>\n",
       "      <th>ogrn</th>\n",
       "      <th>region</th>\n",
       "      <th>city</th>\n",
       "      <th>settlement</th>\n",
       "      <th>okved2</th>\n",
       "      <th>okopf</th>\n",
       "      <th>statusCode</th>\n",
       "      <th>registrationDate</th>\n",
       "      <th>...</th>\n",
       "      <th>2021_2330</th>\n",
       "      <th>2020_2330</th>\n",
       "      <th>2021_2340</th>\n",
       "      <th>2020_2340</th>\n",
       "      <th>2021_2350</th>\n",
       "      <th>2020_2350</th>\n",
       "      <th>2021_2410</th>\n",
       "      <th>2020_2410</th>\n",
       "      <th>2021_2400</th>\n",
       "      <th>2020_2400</th>\n",
       "    </tr>\n",
       "  </thead>\n",
       "  <tbody>\n",
       "    <tr>\n",
       "      <th>0</th>\n",
       "      <td>3447001553</td>\n",
       "      <td>ООО \"МОДЕРН-БОН\"</td>\n",
       "      <td>1023404293505</td>\n",
       "      <td>ВОЛГОГРАДСКАЯ</td>\n",
       "      <td>ВОЛГОГРАД</td>\n",
       "      <td>None</td>\n",
       "      <td>93.19</td>\n",
       "      <td>12300.0</td>\n",
       "      <td>ACTIVE</td>\n",
       "      <td>1992-12-14</td>\n",
       "      <td>...</td>\n",
       "      <td>0.0</td>\n",
       "      <td>0.0</td>\n",
       "      <td>2100.0</td>\n",
       "      <td>0.0</td>\n",
       "      <td>714.0</td>\n",
       "      <td>0.0</td>\n",
       "      <td>138.0</td>\n",
       "      <td>0.0</td>\n",
       "      <td>1270.0</td>\n",
       "      <td>0.0</td>\n",
       "    </tr>\n",
       "    <tr>\n",
       "      <th>1</th>\n",
       "      <td>3447003470</td>\n",
       "      <td>ООО \"МАРКО\"</td>\n",
       "      <td>1023404287829</td>\n",
       "      <td>ВОЛГОГРАДСКАЯ</td>\n",
       "      <td>ВОЛГОГРАД</td>\n",
       "      <td>None</td>\n",
       "      <td>68.20.2</td>\n",
       "      <td>12300.0</td>\n",
       "      <td>ACTIVE</td>\n",
       "      <td>2002-05-20</td>\n",
       "      <td>...</td>\n",
       "      <td>NaN</td>\n",
       "      <td>NaN</td>\n",
       "      <td>NaN</td>\n",
       "      <td>NaN</td>\n",
       "      <td>NaN</td>\n",
       "      <td>NaN</td>\n",
       "      <td>NaN</td>\n",
       "      <td>NaN</td>\n",
       "      <td>-29.0</td>\n",
       "      <td>30.0</td>\n",
       "    </tr>\n",
       "    <tr>\n",
       "      <th>2</th>\n",
       "      <td>3447003247</td>\n",
       "      <td>ООО \"ОКСИ\"</td>\n",
       "      <td>1023444287855</td>\n",
       "      <td>ВОЛГОГРАДСКАЯ</td>\n",
       "      <td>ВОЛГОГРАД</td>\n",
       "      <td>None</td>\n",
       "      <td>20.11</td>\n",
       "      <td>12300.0</td>\n",
       "      <td>ACTIVE</td>\n",
       "      <td>1998-10-01</td>\n",
       "      <td>...</td>\n",
       "      <td>NaN</td>\n",
       "      <td>NaN</td>\n",
       "      <td>163.0</td>\n",
       "      <td>NaN</td>\n",
       "      <td>410.0</td>\n",
       "      <td>83.0</td>\n",
       "      <td>152.0</td>\n",
       "      <td>113.0</td>\n",
       "      <td>1099.0</td>\n",
       "      <td>691.0</td>\n",
       "    </tr>\n",
       "  </tbody>\n",
       "</table>\n",
       "<p>3 rows × 58 columns</p>\n",
       "</div>"
      ],
      "text/plain": [
       "          _id         shortName           ogrn         region       city  \\\n",
       "0  3447001553  ООО \"МОДЕРН-БОН\"  1023404293505  ВОЛГОГРАДСКАЯ  ВОЛГОГРАД   \n",
       "1  3447003470       ООО \"МАРКО\"  1023404287829  ВОЛГОГРАДСКАЯ  ВОЛГОГРАД   \n",
       "2  3447003247        ООО \"ОКСИ\"  1023444287855  ВОЛГОГРАДСКАЯ  ВОЛГОГРАД   \n",
       "\n",
       "  settlement   okved2    okopf statusCode registrationDate  ...  2021_2330  \\\n",
       "0       None    93.19  12300.0     ACTIVE       1992-12-14  ...        0.0   \n",
       "1       None  68.20.2  12300.0     ACTIVE       2002-05-20  ...        NaN   \n",
       "2       None    20.11  12300.0     ACTIVE       1998-10-01  ...        NaN   \n",
       "\n",
       "   2020_2330  2021_2340  2020_2340  2021_2350  2020_2350  2021_2410  \\\n",
       "0        0.0     2100.0        0.0      714.0        0.0      138.0   \n",
       "1        NaN        NaN        NaN        NaN        NaN        NaN   \n",
       "2        NaN      163.0        NaN      410.0       83.0      152.0   \n",
       "\n",
       "   2020_2410  2021_2400  2020_2400  \n",
       "0        0.0     1270.0        0.0  \n",
       "1        NaN      -29.0       30.0  \n",
       "2      113.0     1099.0      691.0  \n",
       "\n",
       "[3 rows x 58 columns]"
      ]
     },
     "execution_count": 66,
     "metadata": {},
     "output_type": "execute_result"
    }
   ],
   "source": [
    "mongo_data.head(3)"
   ]
  },
  {
   "cell_type": "code",
   "execution_count": 65,
   "id": "5e9869b0",
   "metadata": {},
   "outputs": [
    {
     "name": "stdout",
     "output_type": "stream",
     "text": [
      "<class 'pandas.core.frame.DataFrame'>\n",
      "RangeIndex: 726359 entries, 0 to 726358\n",
      "Data columns (total 58 columns):\n",
      " #   Column             Non-Null Count   Dtype  \n",
      "---  ------             --------------   -----  \n",
      " 0   _id                726359 non-null  object \n",
      " 1   shortName          726359 non-null  object \n",
      " 2   ogrn               726359 non-null  object \n",
      " 3   region             726343 non-null  object \n",
      " 4   city               482674 non-null  object \n",
      " 5   settlement         77759 non-null   object \n",
      " 6   okved2             726002 non-null  object \n",
      " 7   okopf              710454 non-null  float64\n",
      " 8   statusCode         726359 non-null  object \n",
      " 9   registrationDate   726358 non-null  object \n",
      " 10  authorizedCapital  698317 non-null  float64\n",
      " 11  2021_1150          315778 non-null  float64\n",
      " 12  2020_1150          260541 non-null  float64\n",
      " 13  2019_1150          240928 non-null  float64\n",
      " 14  2021_1170          84083 non-null   float64\n",
      " 15  2020_1170          58702 non-null   float64\n",
      " 16  2019_1170          55023 non-null   float64\n",
      " 17  2021_1210          496914 non-null  float64\n",
      " 18  2020_1210          406791 non-null  float64\n",
      " 19  2019_1210          377241 non-null  float64\n",
      " 20  2021_1230          629609 non-null  float64\n",
      " 21  2020_1230          550917 non-null  float64\n",
      " 22  2019_1230          509057 non-null  float64\n",
      " 23  2021_1250          650114 non-null  float64\n",
      " 24  2020_1250          561922 non-null  float64\n",
      " 25  2019_1250          520367 non-null  float64\n",
      " 26  2021_1600          726359 non-null  float64\n",
      " 27  2020_1600          726359 non-null  float64\n",
      " 28  2019_1600          726359 non-null  float64\n",
      " 29  2021_1350          19880 non-null   float64\n",
      " 30  2020_1350          15468 non-null   float64\n",
      " 31  2019_1350          14770 non-null   float64\n",
      " 32  2021_1360          17350 non-null   float64\n",
      " 33  2020_1360          12985 non-null   float64\n",
      " 34  2019_1360          12688 non-null   float64\n",
      " 35  2021_1300          707479 non-null  float64\n",
      " 36  2020_1300          672147 non-null  float64\n",
      " 37  2019_1300          642122 non-null  float64\n",
      " 38  2021_1520          616881 non-null  float64\n",
      " 39  2020_1520          548687 non-null  float64\n",
      " 40  2019_1520          508436 non-null  float64\n",
      " 41  2021_1700          726359 non-null  float64\n",
      " 42  2020_1700          726359 non-null  float64\n",
      " 43  2019_1700          726359 non-null  float64\n",
      " 44  2021_2110          588839 non-null  float64\n",
      " 45  2020_2110          527968 non-null  float64\n",
      " 46  2021_2120          580483 non-null  float64\n",
      " 47  2020_2120          513303 non-null  float64\n",
      " 48  2021_2330          113477 non-null  float64\n",
      " 49  2020_2330          85490 non-null   float64\n",
      " 50  2021_2340          348868 non-null  float64\n",
      " 51  2020_2340          273950 non-null  float64\n",
      " 52  2021_2350          565388 non-null  float64\n",
      " 53  2020_2350          502096 non-null  float64\n",
      " 54  2021_2410          503893 non-null  float64\n",
      " 55  2020_2410          428742 non-null  float64\n",
      " 56  2021_2400          625829 non-null  float64\n",
      " 57  2020_2400          625829 non-null  float64\n",
      "dtypes: float64(49), object(9)\n",
      "memory usage: 321.4+ MB\n"
     ]
    }
   ],
   "source": [
    "mongo_data.info(verbose=True, show_counts=True, memory_usage=True)"
   ]
  },
  {
   "cell_type": "markdown",
   "id": "a0985197",
   "metadata": {},
   "source": [
    "- **statusCode** неожиданно полезное поле, может быть целью, хотя и есть достаточно сильный дисбаланс"
   ]
  },
  {
   "cell_type": "code",
   "execution_count": 67,
   "id": "3359d391",
   "metadata": {},
   "outputs": [
    {
     "data": {
      "text/plain": [
       "ACTIVE                  710682\n",
       "LIQUIDATION_STAGE        12184\n",
       "INACTIVE                  1927\n",
       "REORGANIZATION_STAGE      1566\n",
       "Name: statusCode, dtype: int64"
      ]
     },
     "execution_count": 67,
     "metadata": {},
     "output_type": "execute_result"
    }
   ],
   "source": [
    "mongo_data.statusCode.value_counts()"
   ]
  },
  {
   "cell_type": "markdown",
   "id": "4a853a9a",
   "metadata": {},
   "source": [
    "- все даты статуса LIQUIDATION_STAGE и INACTIVE - в промежутке 2022 - 2023 гг, \n",
    "- для всех из них есть отчётся за 2021 г - те статус был ACTIVE (иначе отчёт не публикуется)\n",
    "- те можно, например, предсказывать смену статуса в ближайшие два года?"
   ]
  },
  {
   "cell_type": "markdown",
   "id": "3ee1580f",
   "metadata": {},
   "source": [
    "- ещё раз, на всякий случай, чищу inn (так как первые части собирала без очистки)"
   ]
  },
  {
   "cell_type": "code",
   "execution_count": 68,
   "id": "45beac40",
   "metadata": {},
   "outputs": [
    {
     "data": {
      "text/plain": [
       "(726359, 726359)"
      ]
     },
     "execution_count": 68,
     "metadata": {},
     "output_type": "execute_result"
    }
   ],
   "source": [
    "mongo_data._id = mongo_data._id.apply(lambda x: x.strip())\n",
    "mongo_data._id.nunique(), mongo_data._id.size"
   ]
  },
  {
   "cell_type": "markdown",
   "id": "5397e4a5",
   "metadata": {},
   "source": [
    "- **okopf** распознал как float\n",
    "- это не играет большой роли, но если понадобится сджойнить со справочником кодов - может быть неуодбно\n",
    "- плюс есть немного пропусков"
   ]
  },
  {
   "cell_type": "code",
   "execution_count": 69,
   "id": "3b7413ae",
   "metadata": {},
   "outputs": [
    {
     "data": {
      "text/plain": [
       "array([12300., 12247., 14200., 12267., 20101., 20102., 20100., 20107.,\n",
       "       20200., 70401., 20112., 12200., 14100., 15300., 20110., 20109.,\n",
       "       14154., 14153., 11064., 14000., 20111., 20116., 20700., 11051.,\n",
       "       20115.,    nan, 20202., 71400., 20716., 20702., 14155., 70400.,\n",
       "       65243., 75500., 71500., 20614., 20210., 21100., 20615., 20105.,\n",
       "       20606., 70403., 20616., 21200., 20104., 20201., 20610., 75505.,\n",
       "       20600., 75404., 20108., 20103., 20217., 20605.])"
      ]
     },
     "execution_count": 69,
     "metadata": {},
     "output_type": "execute_result"
    }
   ],
   "source": [
    "mongo_data.okopf.unique()"
   ]
  },
  {
   "cell_type": "code",
   "execution_count": 70,
   "id": "de2783d8",
   "metadata": {},
   "outputs": [],
   "source": [
    "# пока просто присвоим 0 для None, приведём к int (чтобы избавиться от нулей) \n",
    "# и к object (тк категория)\n",
    "mongo_data.okopf = mongo_data.okopf.fillna(0).astype('int32').astype('object')"
   ]
  },
  {
   "cell_type": "markdown",
   "id": "c8fcca3d",
   "metadata": {},
   "source": [
    "- немного явных выбросов"
   ]
  },
  {
   "cell_type": "code",
   "execution_count": 73,
   "id": "01726127",
   "metadata": {},
   "outputs": [
    {
     "data": {
      "text/plain": [
       "count    6.983170e+05\n",
       "mean     5.857532e+06\n",
       "std      2.335524e+09\n",
       "min      0.000000e+00\n",
       "25%      1.000000e+04\n",
       "50%      1.000000e+04\n",
       "75%      2.000000e+04\n",
       "max      1.900100e+12\n",
       "Name: authorizedCapital, dtype: float64"
      ]
     },
     "execution_count": 73,
     "metadata": {},
     "output_type": "execute_result"
    }
   ],
   "source": [
    "mongo_data.authorizedCapital.describe()"
   ]
  },
  {
   "cell_type": "code",
   "execution_count": 72,
   "id": "2fbcafb3",
   "metadata": {},
   "outputs": [
    {
     "data": {
      "text/html": [
       "<div>\n",
       "<style scoped>\n",
       "    .dataframe tbody tr th:only-of-type {\n",
       "        vertical-align: middle;\n",
       "    }\n",
       "\n",
       "    .dataframe tbody tr th {\n",
       "        vertical-align: top;\n",
       "    }\n",
       "\n",
       "    .dataframe thead th {\n",
       "        text-align: right;\n",
       "    }\n",
       "</style>\n",
       "<table border=\"1\" class=\"dataframe\">\n",
       "  <thead>\n",
       "    <tr style=\"text-align: right;\">\n",
       "      <th></th>\n",
       "      <th>_id</th>\n",
       "      <th>shortName</th>\n",
       "      <th>ogrn</th>\n",
       "      <th>region</th>\n",
       "      <th>city</th>\n",
       "      <th>settlement</th>\n",
       "      <th>okved2</th>\n",
       "      <th>okopf</th>\n",
       "      <th>statusCode</th>\n",
       "      <th>registrationDate</th>\n",
       "      <th>...</th>\n",
       "      <th>2021_2330</th>\n",
       "      <th>2020_2330</th>\n",
       "      <th>2021_2340</th>\n",
       "      <th>2020_2340</th>\n",
       "      <th>2021_2350</th>\n",
       "      <th>2020_2350</th>\n",
       "      <th>2021_2410</th>\n",
       "      <th>2020_2410</th>\n",
       "      <th>2021_2400</th>\n",
       "      <th>2020_2400</th>\n",
       "    </tr>\n",
       "  </thead>\n",
       "  <tbody>\n",
       "    <tr>\n",
       "      <th>96403</th>\n",
       "      <td>6679020093</td>\n",
       "      <td>ООО \"ВИТА-ПРОМ\"</td>\n",
       "      <td>1126679022953</td>\n",
       "      <td>СВЕРДЛОВСКАЯ</td>\n",
       "      <td>ЕКАТЕРИНБУРГ</td>\n",
       "      <td>None</td>\n",
       "      <td>96.03</td>\n",
       "      <td>12300</td>\n",
       "      <td>ACTIVE</td>\n",
       "      <td>2012-08-23</td>\n",
       "      <td>...</td>\n",
       "      <td>NaN</td>\n",
       "      <td>NaN</td>\n",
       "      <td>0.0</td>\n",
       "      <td>7170.0</td>\n",
       "      <td>NaN</td>\n",
       "      <td>NaN</td>\n",
       "      <td>NaN</td>\n",
       "      <td>NaN</td>\n",
       "      <td>0.0</td>\n",
       "      <td>7170.0</td>\n",
       "    </tr>\n",
       "  </tbody>\n",
       "</table>\n",
       "<p>1 rows × 58 columns</p>\n",
       "</div>"
      ],
      "text/plain": [
       "              _id        shortName           ogrn        region          city  \\\n",
       "96403  6679020093  ООО \"ВИТА-ПРОМ\"  1126679022953  СВЕРДЛОВСКАЯ  ЕКАТЕРИНБУРГ   \n",
       "\n",
       "      settlement okved2  okopf statusCode registrationDate  ...  2021_2330  \\\n",
       "96403       None  96.03  12300     ACTIVE       2012-08-23  ...        NaN   \n",
       "\n",
       "       2020_2330  2021_2340  2020_2340  2021_2350  2020_2350  2021_2410  \\\n",
       "96403        NaN        0.0     7170.0        NaN        NaN        NaN   \n",
       "\n",
       "       2020_2410  2021_2400  2020_2400  \n",
       "96403        NaN        0.0     7170.0  \n",
       "\n",
       "[1 rows x 58 columns]"
      ]
     },
     "execution_count": 72,
     "metadata": {},
     "output_type": "execute_result"
    }
   ],
   "source": [
    "# Организация похорон и представление связанных с ними услуг, 1,9 трлн ₽ уставного капитала\n",
    "# финансовых результатов нет, все бух. отчёты стабильны - одни и те же цифры все 3 года\n",
    "# статус ACTIVE\n",
    "mongo_data.loc[mongo_data.authorizedCapital == 1.900100e+12]"
   ]
  },
  {
   "cell_type": "markdown",
   "id": "f4700d09",
   "metadata": {},
   "source": [
    "- c адресом придётся работать достаточно подробно"
   ]
  },
  {
   "cell_type": "markdown",
   "id": "9c07510a",
   "metadata": {},
   "source": [
    "### - reestr_msp"
   ]
  },
  {
   "cell_type": "code",
   "execution_count": 76,
   "id": "cb91a07f",
   "metadata": {},
   "outputs": [],
   "source": [
    "connect = psycopg2.connect(dbname=\"fns_data\", user=\"user\", password='new_password', host=\"localhost\", port=5432)"
   ]
  },
  {
   "cell_type": "code",
   "execution_count": 79,
   "id": "7b28da2d",
   "metadata": {},
   "outputs": [],
   "source": [
    "connect.close()"
   ]
  },
  {
   "cell_type": "code",
   "execution_count": 77,
   "id": "63cd86a0",
   "metadata": {},
   "outputs": [],
   "source": [
    "columns = [\n",
    "    'inn', \n",
    "    'n_employees', \n",
    "    'is_soc_enterprise', \n",
    "    'newly_establ', \n",
    "    'subj_cat', \n",
    "    'subj_form', \n",
    "    'inclusion_date',  # отличается от registration_date! - сравнить!\n",
    "    'region_code', \n",
    "    'n_okovd_add',  \n",
    "#     'okovd_add_vers',  # только убедиться, что везде одно значение! - везде, где есть, одно\n",
    "#     'okovd_add_code',  # можно придумать много интересных признаков\n",
    "    'n_licenses',\n",
    "    'n_products',\n",
    "#     'products_code'  # то же самое\n",
    "    'is_high_tech',\n",
    "    'n_contracts',\n",
    "    'n_agreements'\n",
    "]"
   ]
  },
  {
   "cell_type": "code",
   "execution_count": 78,
   "id": "7363377d",
   "metadata": {},
   "outputs": [
    {
     "name": "stdout",
     "output_type": "stream",
     "text": [
      "Wall time: 15.4 s\n"
     ]
    }
   ],
   "source": [
    "%%time\n",
    "reestr_msp = pd.read_sql(sql.SQL('SELECT {} FROM reestr_msp;')\\\n",
    "                            .format(sql.SQL(',').join(map(sql.Identifier, columns))), connect)"
   ]
  },
  {
   "cell_type": "code",
   "execution_count": 80,
   "id": "6dd646ae",
   "metadata": {},
   "outputs": [
    {
     "data": {
      "text/html": [
       "<div>\n",
       "<style scoped>\n",
       "    .dataframe tbody tr th:only-of-type {\n",
       "        vertical-align: middle;\n",
       "    }\n",
       "\n",
       "    .dataframe tbody tr th {\n",
       "        vertical-align: top;\n",
       "    }\n",
       "\n",
       "    .dataframe thead th {\n",
       "        text-align: right;\n",
       "    }\n",
       "</style>\n",
       "<table border=\"1\" class=\"dataframe\">\n",
       "  <thead>\n",
       "    <tr style=\"text-align: right;\">\n",
       "      <th></th>\n",
       "      <th>inn</th>\n",
       "      <th>n_employees</th>\n",
       "      <th>is_soc_enterprise</th>\n",
       "      <th>newly_establ</th>\n",
       "      <th>subj_cat</th>\n",
       "      <th>subj_form</th>\n",
       "      <th>inclusion_date</th>\n",
       "      <th>region_code</th>\n",
       "      <th>n_okovd_add</th>\n",
       "      <th>n_licenses</th>\n",
       "      <th>n_products</th>\n",
       "      <th>is_high_tech</th>\n",
       "      <th>n_contracts</th>\n",
       "      <th>n_agreements</th>\n",
       "    </tr>\n",
       "  </thead>\n",
       "  <tbody>\n",
       "    <tr>\n",
       "      <th>0</th>\n",
       "      <td>3447001553</td>\n",
       "      <td>1.0</td>\n",
       "      <td>0</td>\n",
       "      <td>0</td>\n",
       "      <td>1</td>\n",
       "      <td>1</td>\n",
       "      <td>2016-08-01</td>\n",
       "      <td>34</td>\n",
       "      <td>29</td>\n",
       "      <td>0</td>\n",
       "      <td>0</td>\n",
       "      <td>0</td>\n",
       "      <td>0</td>\n",
       "      <td>0</td>\n",
       "    </tr>\n",
       "    <tr>\n",
       "      <th>1</th>\n",
       "      <td>3447003470</td>\n",
       "      <td>2.0</td>\n",
       "      <td>0</td>\n",
       "      <td>0</td>\n",
       "      <td>1</td>\n",
       "      <td>1</td>\n",
       "      <td>2016-08-01</td>\n",
       "      <td>34</td>\n",
       "      <td>6</td>\n",
       "      <td>0</td>\n",
       "      <td>0</td>\n",
       "      <td>0</td>\n",
       "      <td>0</td>\n",
       "      <td>0</td>\n",
       "    </tr>\n",
       "    <tr>\n",
       "      <th>2</th>\n",
       "      <td>3447003247</td>\n",
       "      <td>18.0</td>\n",
       "      <td>0</td>\n",
       "      <td>0</td>\n",
       "      <td>1</td>\n",
       "      <td>1</td>\n",
       "      <td>2016-08-01</td>\n",
       "      <td>34</td>\n",
       "      <td>24</td>\n",
       "      <td>1</td>\n",
       "      <td>0</td>\n",
       "      <td>0</td>\n",
       "      <td>0</td>\n",
       "      <td>0</td>\n",
       "    </tr>\n",
       "    <tr>\n",
       "      <th>3</th>\n",
       "      <td>3447003416</td>\n",
       "      <td>165.0</td>\n",
       "      <td>0</td>\n",
       "      <td>0</td>\n",
       "      <td>3</td>\n",
       "      <td>1</td>\n",
       "      <td>2018-08-10</td>\n",
       "      <td>34</td>\n",
       "      <td>9</td>\n",
       "      <td>2</td>\n",
       "      <td>0</td>\n",
       "      <td>0</td>\n",
       "      <td>0</td>\n",
       "      <td>0</td>\n",
       "    </tr>\n",
       "    <tr>\n",
       "      <th>4</th>\n",
       "      <td>3447002444</td>\n",
       "      <td>NaN</td>\n",
       "      <td>0</td>\n",
       "      <td>0</td>\n",
       "      <td>1</td>\n",
       "      <td>1</td>\n",
       "      <td>2016-08-01</td>\n",
       "      <td>34</td>\n",
       "      <td>0</td>\n",
       "      <td>0</td>\n",
       "      <td>0</td>\n",
       "      <td>0</td>\n",
       "      <td>0</td>\n",
       "      <td>0</td>\n",
       "    </tr>\n",
       "  </tbody>\n",
       "</table>\n",
       "</div>"
      ],
      "text/plain": [
       "          inn  n_employees  is_soc_enterprise  newly_establ  subj_cat  \\\n",
       "0  3447001553          1.0                  0             0         1   \n",
       "1  3447003470          2.0                  0             0         1   \n",
       "2  3447003247         18.0                  0             0         1   \n",
       "3  3447003416        165.0                  0             0         3   \n",
       "4  3447002444          NaN                  0             0         1   \n",
       "\n",
       "   subj_form inclusion_date  region_code  n_okovd_add  n_licenses  n_products  \\\n",
       "0          1     2016-08-01           34           29           0           0   \n",
       "1          1     2016-08-01           34            6           0           0   \n",
       "2          1     2016-08-01           34           24           1           0   \n",
       "3          1     2018-08-10           34            9           2           0   \n",
       "4          1     2016-08-01           34            0           0           0   \n",
       "\n",
       "   is_high_tech  n_contracts  n_agreements  \n",
       "0             0            0             0  \n",
       "1             0            0             0  \n",
       "2             0            0             0  \n",
       "3             0            0             0  \n",
       "4             0            0             0  "
      ]
     },
     "execution_count": 80,
     "metadata": {},
     "output_type": "execute_result"
    }
   ],
   "source": [
    "reestr_msp.head()"
   ]
  },
  {
   "cell_type": "code",
   "execution_count": 82,
   "id": "8f9c86df",
   "metadata": {},
   "outputs": [
    {
     "name": "stdout",
     "output_type": "stream",
     "text": [
      "<class 'pandas.core.frame.DataFrame'>\n",
      "RangeIndex: 2332299 entries, 0 to 2332298\n",
      "Data columns (total 14 columns):\n",
      " #   Column             Non-Null Count    Dtype  \n",
      "---  ------             --------------    -----  \n",
      " 0   inn                2332299 non-null  object \n",
      " 1   n_employees        1938849 non-null  float64\n",
      " 2   is_soc_enterprise  2332299 non-null  int64  \n",
      " 3   newly_establ       2332299 non-null  int64  \n",
      " 4   subj_cat           2332299 non-null  int64  \n",
      " 5   subj_form          2332299 non-null  int64  \n",
      " 6   inclusion_date     2332299 non-null  object \n",
      " 7   region_code        2332299 non-null  int64  \n",
      " 8   n_okovd_add        2332299 non-null  int64  \n",
      " 9   n_licenses         2332299 non-null  int64  \n",
      " 10  n_products         2332299 non-null  int64  \n",
      " 11  is_high_tech       2332299 non-null  int64  \n",
      " 12  n_contracts        2332299 non-null  int64  \n",
      " 13  n_agreements       2332299 non-null  int64  \n",
      "dtypes: float64(1), int64(11), object(2)\n",
      "memory usage: 249.1+ MB\n"
     ]
    }
   ],
   "source": [
    "reestr_msp.info(verbose=True, show_counts=True, memory_usage=True)"
   ]
  },
  {
   "cell_type": "markdown",
   "id": "936d7c0f",
   "metadata": {},
   "source": [
    "- очень немного пропусков\n",
    "- можно заметно уменьшить, приведя типы"
   ]
  },
  {
   "cell_type": "code",
   "execution_count": 83,
   "id": "bfeeeeca",
   "metadata": {},
   "outputs": [
    {
     "data": {
      "text/plain": [
       "(-1.0, 8617.0)"
      ]
     },
     "execution_count": 83,
     "metadata": {},
     "output_type": "execute_result"
    }
   ],
   "source": [
    "# есть странные значения численности работников\n",
    "reestr_msp.n_employees.min(), reestr_msp.n_employees.max()"
   ]
  },
  {
   "cell_type": "code",
   "execution_count": 84,
   "id": "b47cccef",
   "metadata": {},
   "outputs": [
    {
     "data": {
      "text/html": [
       "<div>\n",
       "<style scoped>\n",
       "    .dataframe tbody tr th:only-of-type {\n",
       "        vertical-align: middle;\n",
       "    }\n",
       "\n",
       "    .dataframe tbody tr th {\n",
       "        vertical-align: top;\n",
       "    }\n",
       "\n",
       "    .dataframe thead th {\n",
       "        text-align: right;\n",
       "    }\n",
       "</style>\n",
       "<table border=\"1\" class=\"dataframe\">\n",
       "  <thead>\n",
       "    <tr style=\"text-align: right;\">\n",
       "      <th></th>\n",
       "      <th>inn</th>\n",
       "      <th>n_employees</th>\n",
       "      <th>is_soc_enterprise</th>\n",
       "      <th>newly_establ</th>\n",
       "      <th>subj_cat</th>\n",
       "      <th>subj_form</th>\n",
       "      <th>inclusion_date</th>\n",
       "      <th>region_code</th>\n",
       "      <th>n_okovd_add</th>\n",
       "      <th>n_licenses</th>\n",
       "      <th>n_products</th>\n",
       "      <th>is_high_tech</th>\n",
       "      <th>n_contracts</th>\n",
       "      <th>n_agreements</th>\n",
       "    </tr>\n",
       "  </thead>\n",
       "  <tbody>\n",
       "    <tr>\n",
       "      <th>133484</th>\n",
       "      <td>5835136064</td>\n",
       "      <td>-1.0</td>\n",
       "      <td>0</td>\n",
       "      <td>0</td>\n",
       "      <td>1</td>\n",
       "      <td>1</td>\n",
       "      <td>2022-07-10</td>\n",
       "      <td>58</td>\n",
       "      <td>38</td>\n",
       "      <td>0</td>\n",
       "      <td>0</td>\n",
       "      <td>0</td>\n",
       "      <td>0</td>\n",
       "      <td>0</td>\n",
       "    </tr>\n",
       "  </tbody>\n",
       "</table>\n",
       "</div>"
      ],
      "text/plain": [
       "               inn  n_employees  is_soc_enterprise  newly_establ  subj_cat  \\\n",
       "133484  5835136064         -1.0                  0             0         1   \n",
       "\n",
       "        subj_form inclusion_date  region_code  n_okovd_add  n_licenses  \\\n",
       "133484          1     2022-07-10           58           38           0   \n",
       "\n",
       "        n_products  is_high_tech  n_contracts  n_agreements  \n",
       "133484           0             0            0             0  "
      ]
     },
     "execution_count": 84,
     "metadata": {},
     "output_type": "execute_result"
    }
   ],
   "source": [
    "# Деятельность зрелищно-развлекательная прочая\n",
    "# во всех отчётах - нули\n",
    "reestr_msp.loc[reestr_msp.n_employees == -1]"
   ]
  },
  {
   "cell_type": "code",
   "execution_count": 88,
   "id": "a9a570fc",
   "metadata": {},
   "outputs": [
    {
     "data": {
      "text/html": [
       "<div>\n",
       "<style scoped>\n",
       "    .dataframe tbody tr th:only-of-type {\n",
       "        vertical-align: middle;\n",
       "    }\n",
       "\n",
       "    .dataframe tbody tr th {\n",
       "        vertical-align: top;\n",
       "    }\n",
       "\n",
       "    .dataframe thead th {\n",
       "        text-align: right;\n",
       "    }\n",
       "</style>\n",
       "<table border=\"1\" class=\"dataframe\">\n",
       "  <thead>\n",
       "    <tr style=\"text-align: right;\">\n",
       "      <th></th>\n",
       "      <th>_id</th>\n",
       "      <th>shortName</th>\n",
       "      <th>ogrn</th>\n",
       "      <th>region</th>\n",
       "      <th>city</th>\n",
       "      <th>settlement</th>\n",
       "      <th>okved2</th>\n",
       "      <th>okopf</th>\n",
       "      <th>statusCode</th>\n",
       "      <th>registrationDate</th>\n",
       "      <th>...</th>\n",
       "      <th>2021_2330</th>\n",
       "      <th>2020_2330</th>\n",
       "      <th>2021_2340</th>\n",
       "      <th>2020_2340</th>\n",
       "      <th>2021_2350</th>\n",
       "      <th>2020_2350</th>\n",
       "      <th>2021_2410</th>\n",
       "      <th>2020_2410</th>\n",
       "      <th>2021_2400</th>\n",
       "      <th>2020_2400</th>\n",
       "    </tr>\n",
       "  </thead>\n",
       "  <tbody>\n",
       "  </tbody>\n",
       "</table>\n",
       "<p>0 rows × 58 columns</p>\n",
       "</div>"
      ],
      "text/plain": [
       "Empty DataFrame\n",
       "Columns: [_id, shortName, ogrn, region, city, settlement, okved2, okopf, statusCode, registrationDate, authorizedCapital, 2021_1150, 2020_1150, 2019_1150, 2021_1170, 2020_1170, 2019_1170, 2021_1210, 2020_1210, 2019_1210, 2021_1230, 2020_1230, 2019_1230, 2021_1250, 2020_1250, 2019_1250, 2021_1600, 2020_1600, 2019_1600, 2021_1350, 2020_1350, 2019_1350, 2021_1360, 2020_1360, 2019_1360, 2021_1300, 2020_1300, 2019_1300, 2021_1520, 2020_1520, 2019_1520, 2021_1700, 2020_1700, 2019_1700, 2021_2110, 2020_2110, 2021_2120, 2020_2120, 2021_2330, 2020_2330, 2021_2340, 2020_2340, 2021_2350, 2020_2350, 2021_2410, 2020_2410, 2021_2400, 2020_2400]\n",
       "Index: []\n",
       "\n",
       "[0 rows x 58 columns]"
      ]
     },
     "execution_count": 88,
     "metadata": {},
     "output_type": "execute_result"
    }
   ],
   "source": [
    "# здесь пока ещё нет\n",
    "mongo_data.loc[mongo_data._id == '5835136064']"
   ]
  },
  {
   "cell_type": "code",
   "execution_count": 89,
   "id": "b5941c61",
   "metadata": {},
   "outputs": [],
   "source": [
    "# приведу к int16, None временно закодирую как -2\n",
    "reestr_msp.n_employees = reestr_msp.n_employees.fillna(-2).astype('int16')"
   ]
  },
  {
   "cell_type": "code",
   "execution_count": 90,
   "id": "a8ff66d3",
   "metadata": {},
   "outputs": [
    {
     "data": {
      "text/plain": [
       "(95, 2468, 251, 70, 1084, 401)"
      ]
     },
     "execution_count": 90,
     "metadata": {},
     "output_type": "execute_result"
    }
   ],
   "source": [
    "# максимальные значения\n",
    "reestr_msp.region_code.max(), reestr_msp.n_okovd_add.max(), reestr_msp.n_licenses.max(), reestr_msp.n_products.max(), reestr_msp.n_contracts.max(), reestr_msp.n_agreements.max()"
   ]
  },
  {
   "cell_type": "markdown",
   "id": "3da3ecd4",
   "metadata": {},
   "source": [
    "- 2468 - это довольно много для дополнительных видов деятельности (n_okovd_add)"
   ]
  },
  {
   "cell_type": "code",
   "execution_count": 92,
   "id": "d5ab3c13",
   "metadata": {},
   "outputs": [],
   "source": [
    "# region_code - категория\n",
    "reestr_msp.region_code = reestr_msp.region_code.astype('object')"
   ]
  },
  {
   "cell_type": "code",
   "execution_count": 93,
   "id": "f4d78257",
   "metadata": {},
   "outputs": [],
   "source": [
    "columns_8 = ['is_soc_enterprise', 'newly_establ', 'subj_cat', 'subj_form', 'region_code', \n",
    "           'n_products', 'is_high_tech']\n",
    "columns_16 = ['n_okovd_add', 'n_licenses', 'n_contracts', 'n_agreements']\n",
    "for col in columns_8:\n",
    "    reestr_msp[col] = reestr_msp[col].astype('int8')\n",
    "for col in columns_16:\n",
    "    reestr_msp[col] = reestr_msp[col].astype('int16')"
   ]
  },
  {
   "cell_type": "code",
   "execution_count": 94,
   "id": "80a561d4",
   "metadata": {},
   "outputs": [
    {
     "name": "stdout",
     "output_type": "stream",
     "text": [
      "<class 'pandas.core.frame.DataFrame'>\n",
      "RangeIndex: 2332299 entries, 0 to 2332298\n",
      "Data columns (total 14 columns):\n",
      " #   Column             Non-Null Count    Dtype \n",
      "---  ------             --------------    ----- \n",
      " 0   inn                2332299 non-null  object\n",
      " 1   n_employees        2332299 non-null  int16 \n",
      " 2   is_soc_enterprise  2332299 non-null  int8  \n",
      " 3   newly_establ       2332299 non-null  int8  \n",
      " 4   subj_cat           2332299 non-null  int8  \n",
      " 5   subj_form          2332299 non-null  int8  \n",
      " 6   inclusion_date     2332299 non-null  object\n",
      " 7   region_code        2332299 non-null  int8  \n",
      " 8   n_okovd_add        2332299 non-null  int16 \n",
      " 9   n_licenses         2332299 non-null  int16 \n",
      " 10  n_products         2332299 non-null  int8  \n",
      " 11  is_high_tech       2332299 non-null  int8  \n",
      " 12  n_contracts        2332299 non-null  int16 \n",
      " 13  n_agreements       2332299 non-null  int16 \n",
      "dtypes: int16(5), int8(7), object(2)\n",
      "memory usage: 73.4+ MB\n"
     ]
    }
   ],
   "source": [
    "reestr_msp.info(verbose=True, show_counts=True, memory_usage=True)"
   ]
  },
  {
   "cell_type": "markdown",
   "id": "7420ba80",
   "metadata": {},
   "source": [
    "### - support_msp\n",
    "\n",
    "- на 1 инн - несколько строк, строка = акт поддержки\n",
    "- есть дата, есть вид поддержки, есть единица поддержки"
   ]
  },
  {
   "cell_type": "code",
   "execution_count": 95,
   "id": "24b2adc3",
   "metadata": {},
   "outputs": [],
   "source": [
    "connect = psycopg2.connect(dbname=\"fns_data\", user=\"user\", password='', host=\"localhost\", port=5432)"
   ]
  },
  {
   "cell_type": "code",
   "execution_count": 98,
   "id": "0a89feee",
   "metadata": {},
   "outputs": [],
   "source": [
    "connect.close()"
   ]
  },
  {
   "cell_type": "code",
   "execution_count": 96,
   "id": "b4688d13",
   "metadata": {},
   "outputs": [],
   "source": [
    "columns = [\n",
    "    'inn', \n",
    "    'support_date', \n",
    "    'is_breach', \n",
    "    'form_code', \n",
    "    'support_volume', \n",
    "    'support_unit', \n",
    "]"
   ]
  },
  {
   "cell_type": "code",
   "execution_count": 97,
   "id": "e1c3b280",
   "metadata": {},
   "outputs": [
    {
     "name": "stdout",
     "output_type": "stream",
     "text": [
      "Wall time: 5.27 s\n"
     ]
    }
   ],
   "source": [
    "%%time\n",
    "support_msp = pd.read_sql(sql.SQL('SELECT {} FROM support_msp;')\\\n",
    "                            .format(sql.SQL(',').join(map(sql.Identifier, columns))), connect)"
   ]
  },
  {
   "cell_type": "code",
   "execution_count": 99,
   "id": "4e087812",
   "metadata": {},
   "outputs": [
    {
     "name": "stdout",
     "output_type": "stream",
     "text": [
      "<class 'pandas.core.frame.DataFrame'>\n",
      "RangeIndex: 1170650 entries, 0 to 1170649\n",
      "Data columns (total 6 columns):\n",
      " #   Column          Non-Null Count    Dtype  \n",
      "---  ------          --------------    -----  \n",
      " 0   inn             1170650 non-null  object \n",
      " 1   support_date    1170650 non-null  object \n",
      " 2   is_breach       1170650 non-null  int64  \n",
      " 3   form_code       1170650 non-null  object \n",
      " 4   support_volume  1170650 non-null  float64\n",
      " 5   support_unit    1170650 non-null  int64  \n",
      "dtypes: float64(1), int64(2), object(3)\n",
      "memory usage: 53.6+ MB\n"
     ]
    }
   ],
   "source": [
    "# пропусков нет\n",
    "support_msp.info()"
   ]
  },
  {
   "cell_type": "code",
   "execution_count": 100,
   "id": "9d97aab9",
   "metadata": {},
   "outputs": [
    {
     "data": {
      "text/plain": [
       "1"
      ]
     },
     "execution_count": 100,
     "metadata": {},
     "output_type": "execute_result"
    }
   ],
   "source": [
    "# это флаг - было ли нарушение условий\n",
    "support_msp.is_breach.max()"
   ]
  },
  {
   "cell_type": "code",
   "execution_count": 102,
   "id": "8dbfd075",
   "metadata": {},
   "outputs": [],
   "source": [
    "support_msp.is_breach = support_msp.is_breach.astype('int8')"
   ]
  },
  {
   "cell_type": "markdown",
   "id": "bd469339",
   "metadata": {},
   "source": [
    "- единица поддержки - это категория, но скорее всего не понадобится, тк здесь всего 2 единицы: 1 - деньги и 4 - кажется, проценты"
   ]
  },
  {
   "cell_type": "code",
   "execution_count": 103,
   "id": "22aba974",
   "metadata": {},
   "outputs": [],
   "source": [
    "support_msp.support_unit = support_msp.support_unit.astype('object')"
   ]
  },
  {
   "cell_type": "code",
   "execution_count": 104,
   "id": "9ce56321",
   "metadata": {},
   "outputs": [
    {
     "data": {
      "text/plain": [
       "array([1, 4], dtype=object)"
      ]
     },
     "execution_count": 104,
     "metadata": {},
     "output_type": "execute_result"
    }
   ],
   "source": [
    "support_msp.support_unit.unique()"
   ]
  },
  {
   "cell_type": "code",
   "execution_count": 105,
   "id": "9cb2725b",
   "metadata": {},
   "outputs": [
    {
     "data": {
      "text/plain": [
       "array(['0103', '0104', '0102', '0105', '0101'], dtype=object)"
      ]
     },
     "execution_count": 105,
     "metadata": {},
     "output_type": "execute_result"
    }
   ],
   "source": [
    "support_msp.form_code.unique()"
   ]
  },
  {
   "cell_type": "markdown",
   "id": "8e00bbf6",
   "metadata": {},
   "source": [
    "    - субсидии и гранты, КодВид=\"0103\"\n",
    "    - неизвестно, насколько корректно суммировать гарантии и поручительство =\"0102\", ед. поддержки тоже 1 (деньги)\n",
    "    - финансирование на возвратной основе КодВид=\"0104\" ед поддержки 4 (проценты?)\n",
    "    - Финансовая аренда (лизинг) = 0105, сразу две ед - 1 и 4\n",
    "    - Инвестиции в капитал = 0101, ед поддержки 1\n",
    "\n",
    "- немного агрегатов (сложение для ед поддержки 4 - финансирование на возвратной основе, видимо, некорректно)\n",
    "- все остальные коды - единица = 1, за искл 0105 - Финансовая аренда (лизинг), там единицы и 1 и 4, те единицу 1 можно складывать,"
   ]
  },
  {
   "cell_type": "code",
   "execution_count": 106,
   "id": "569f1ce5",
   "metadata": {},
   "outputs": [
    {
     "data": {
      "text/plain": [
       "(100.0, 0.0)"
      ]
     },
     "execution_count": 106,
     "metadata": {},
     "output_type": "execute_result"
    }
   ],
   "source": [
    "# ага, кажется, действительно проценты\n",
    "support_msp.loc[support_msp.form_code == '0104', 'support_volume'].max(), support_msp.loc[support_msp.form_code == '0104', 'support_volume'].min()"
   ]
  },
  {
   "cell_type": "code",
   "execution_count": 109,
   "id": "7ff25980",
   "metadata": {},
   "outputs": [],
   "source": [
    "agg_data = pd.pivot_table(support_msp.loc[support_msp.form_code != '0104'], values='support_volume', \n",
    "               index='inn', columns=['form_code'], aggfunc=sum, )#fill_value=0)"
   ]
  },
  {
   "cell_type": "code",
   "execution_count": 110,
   "id": "778ab182",
   "metadata": {},
   "outputs": [
    {
     "name": "stdout",
     "output_type": "stream",
     "text": [
      "<class 'pandas.core.frame.DataFrame'>\n",
      "Index: 278610 entries, 0100000156 to 9901088889\n",
      "Data columns (total 4 columns):\n",
      " #   Column  Non-Null Count   Dtype  \n",
      "---  ------  --------------   -----  \n",
      " 0   0101    114 non-null     float64\n",
      " 1   0102    50059 non-null   float64\n",
      " 2   0103    240428 non-null  float64\n",
      " 3   0105    845 non-null     float64\n",
      "dtypes: float64(4)\n",
      "memory usage: 10.6+ MB\n"
     ]
    }
   ],
   "source": [
    "agg_data.info()"
   ]
  },
  {
   "cell_type": "code",
   "execution_count": 113,
   "id": "9f8d5ae8",
   "metadata": {},
   "outputs": [
    {
     "data": {
      "text/html": [
       "<div>\n",
       "<style scoped>\n",
       "    .dataframe tbody tr th:only-of-type {\n",
       "        vertical-align: middle;\n",
       "    }\n",
       "\n",
       "    .dataframe tbody tr th {\n",
       "        vertical-align: top;\n",
       "    }\n",
       "\n",
       "    .dataframe thead th {\n",
       "        text-align: right;\n",
       "    }\n",
       "</style>\n",
       "<table border=\"1\" class=\"dataframe\">\n",
       "  <thead>\n",
       "    <tr style=\"text-align: right;\">\n",
       "      <th></th>\n",
       "      <th>inn</th>\n",
       "      <th>support_date</th>\n",
       "      <th>is_breach</th>\n",
       "      <th>form_code</th>\n",
       "      <th>support_volume</th>\n",
       "      <th>support_unit</th>\n",
       "    </tr>\n",
       "  </thead>\n",
       "  <tbody>\n",
       "    <tr>\n",
       "      <th>12483</th>\n",
       "      <td>4213005280</td>\n",
       "      <td>2022-06-02</td>\n",
       "      <td>1</td>\n",
       "      <td>0103</td>\n",
       "      <td>103024.04</td>\n",
       "      <td>1</td>\n",
       "    </tr>\n",
       "    <tr>\n",
       "      <th>12485</th>\n",
       "      <td>4213005280</td>\n",
       "      <td>2021-07-22</td>\n",
       "      <td>1</td>\n",
       "      <td>0103</td>\n",
       "      <td>5159768.53</td>\n",
       "      <td>1</td>\n",
       "    </tr>\n",
       "    <tr>\n",
       "      <th>12486</th>\n",
       "      <td>4213005280</td>\n",
       "      <td>2021-10-19</td>\n",
       "      <td>1</td>\n",
       "      <td>0103</td>\n",
       "      <td>224988.28</td>\n",
       "      <td>1</td>\n",
       "    </tr>\n",
       "    <tr>\n",
       "      <th>12488</th>\n",
       "      <td>4213005280</td>\n",
       "      <td>2021-12-13</td>\n",
       "      <td>1</td>\n",
       "      <td>0103</td>\n",
       "      <td>2198451.59</td>\n",
       "      <td>1</td>\n",
       "    </tr>\n",
       "    <tr>\n",
       "      <th>12489</th>\n",
       "      <td>4213005280</td>\n",
       "      <td>2021-10-07</td>\n",
       "      <td>1</td>\n",
       "      <td>0103</td>\n",
       "      <td>468130.00</td>\n",
       "      <td>1</td>\n",
       "    </tr>\n",
       "    <tr>\n",
       "      <th>...</th>\n",
       "      <td>...</td>\n",
       "      <td>...</td>\n",
       "      <td>...</td>\n",
       "      <td>...</td>\n",
       "      <td>...</td>\n",
       "      <td>...</td>\n",
       "    </tr>\n",
       "    <tr>\n",
       "      <th>1154338</th>\n",
       "      <td>4205393624</td>\n",
       "      <td>2021-07-19</td>\n",
       "      <td>1</td>\n",
       "      <td>0103</td>\n",
       "      <td>1005061.15</td>\n",
       "      <td>1</td>\n",
       "    </tr>\n",
       "    <tr>\n",
       "      <th>1154340</th>\n",
       "      <td>4205393624</td>\n",
       "      <td>2022-06-03</td>\n",
       "      <td>1</td>\n",
       "      <td>0103</td>\n",
       "      <td>1059607.02</td>\n",
       "      <td>1</td>\n",
       "    </tr>\n",
       "    <tr>\n",
       "      <th>1154342</th>\n",
       "      <td>4205393624</td>\n",
       "      <td>2021-11-29</td>\n",
       "      <td>1</td>\n",
       "      <td>0103</td>\n",
       "      <td>444.78</td>\n",
       "      <td>1</td>\n",
       "    </tr>\n",
       "    <tr>\n",
       "      <th>1154343</th>\n",
       "      <td>4205393624</td>\n",
       "      <td>2021-05-20</td>\n",
       "      <td>1</td>\n",
       "      <td>0103</td>\n",
       "      <td>514634.57</td>\n",
       "      <td>1</td>\n",
       "    </tr>\n",
       "    <tr>\n",
       "      <th>1154346</th>\n",
       "      <td>4205393624</td>\n",
       "      <td>2021-06-18</td>\n",
       "      <td>1</td>\n",
       "      <td>0103</td>\n",
       "      <td>1033095.72</td>\n",
       "      <td>1</td>\n",
       "    </tr>\n",
       "  </tbody>\n",
       "</table>\n",
       "<p>1627 rows × 6 columns</p>\n",
       "</div>"
      ],
      "text/plain": [
       "                inn support_date  is_breach form_code  support_volume  \\\n",
       "12483    4213005280   2022-06-02          1      0103       103024.04   \n",
       "12485    4213005280   2021-07-22          1      0103      5159768.53   \n",
       "12486    4213005280   2021-10-19          1      0103       224988.28   \n",
       "12488    4213005280   2021-12-13          1      0103      2198451.59   \n",
       "12489    4213005280   2021-10-07          1      0103       468130.00   \n",
       "...             ...          ...        ...       ...             ...   \n",
       "1154338  4205393624   2021-07-19          1      0103      1005061.15   \n",
       "1154340  4205393624   2022-06-03          1      0103      1059607.02   \n",
       "1154342  4205393624   2021-11-29          1      0103          444.78   \n",
       "1154343  4205393624   2021-05-20          1      0103       514634.57   \n",
       "1154346  4205393624   2021-06-18          1      0103      1033095.72   \n",
       "\n",
       "        support_unit  \n",
       "12483              1  \n",
       "12485              1  \n",
       "12486              1  \n",
       "12488              1  \n",
       "12489              1  \n",
       "...              ...  \n",
       "1154338            1  \n",
       "1154340            1  \n",
       "1154342            1  \n",
       "1154343            1  \n",
       "1154346            1  \n",
       "\n",
       "[1627 rows x 6 columns]"
      ]
     },
     "execution_count": 113,
     "metadata": {},
     "output_type": "execute_result"
    }
   ],
   "source": [
    "# полторы тысячи с нарушениями условий поддержки - можно оставить как флаг?\n",
    "support_msp.loc[(support_msp.is_breach == 1) & (support_msp.form_code != '0104')]"
   ]
  },
  {
   "cell_type": "markdown",
   "id": "60f4092c",
   "metadata": {},
   "source": [
    "- нужно учесть и дату - взять поддержку за определённый период!"
   ]
  },
  {
   "cell_type": "code",
   "execution_count": 115,
   "id": "95170deb",
   "metadata": {},
   "outputs": [
    {
     "data": {
      "text/plain": [
       "array([2020, 2021, 2022, 2019, 2023], dtype=int64)"
      ]
     },
     "execution_count": 115,
     "metadata": {},
     "output_type": "execute_result"
    }
   ],
   "source": [
    "pd.to_datetime(support_msp.support_date).dt.year.unique()"
   ]
  },
  {
   "cell_type": "markdown",
   "id": "b3a52ad8",
   "metadata": {},
   "source": [
    "### - debt\n",
    "\n",
    "- эти данные могут быть целью"
   ]
  },
  {
   "cell_type": "code",
   "execution_count": 116,
   "id": "b558367a",
   "metadata": {},
   "outputs": [],
   "source": [
    "connect = psycopg2.connect(dbname=\"fns_data\", user=\"user\", password='', host=\"localhost\", port=5432)"
   ]
  },
  {
   "cell_type": "code",
   "execution_count": 119,
   "id": "43ccd31f",
   "metadata": {},
   "outputs": [],
   "source": [
    "connect.close()"
   ]
  },
  {
   "cell_type": "code",
   "execution_count": 117,
   "id": "6b7603fd",
   "metadata": {},
   "outputs": [],
   "source": [
    "columns = [\n",
    "    'inn', \n",
    "#     'status_date',  # [datetime.date(2021, 12, 31)]\n",
    "    'arrears', \n",
    "    'penalties', \n",
    "    'fines', \n",
    "]"
   ]
  },
  {
   "cell_type": "code",
   "execution_count": 118,
   "id": "282422ec",
   "metadata": {},
   "outputs": [],
   "source": [
    "debt = pd.read_sql(sql.SQL('SELECT {} FROM debt;')\\\n",
    "                            .format(sql.SQL(',').join(map(sql.Identifier, columns))), connect)"
   ]
  },
  {
   "cell_type": "markdown",
   "id": "82f6fbb0",
   "metadata": {},
   "source": [
    "- здесь уже аггрегированна информация, дата везде одна! - это дата, на которую верно состояние"
   ]
  },
  {
   "cell_type": "code",
   "execution_count": 120,
   "id": "0bb1be2a",
   "metadata": {},
   "outputs": [
    {
     "name": "stdout",
     "output_type": "stream",
     "text": [
      "<class 'pandas.core.frame.DataFrame'>\n",
      "RangeIndex: 1080232 entries, 0 to 1080231\n",
      "Data columns (total 4 columns):\n",
      " #   Column     Non-Null Count    Dtype  \n",
      "---  ------     --------------    -----  \n",
      " 0   inn        1080232 non-null  object \n",
      " 1   arrears    1080232 non-null  float64\n",
      " 2   penalties  1080232 non-null  float64\n",
      " 3   fines      1080232 non-null  float64\n",
      "dtypes: float64(3), object(1)\n",
      "memory usage: 33.0+ MB\n"
     ]
    }
   ],
   "source": [
    "# пропусков нет\n",
    "debt.info()"
   ]
  },
  {
   "cell_type": "markdown",
   "id": "56860f01",
   "metadata": {},
   "source": [
    "### - tax_offense\n",
    "\n",
    "- здесь налоговые нарушения - тоже может быть целью"
   ]
  },
  {
   "cell_type": "code",
   "execution_count": 121,
   "id": "e10bb733",
   "metadata": {},
   "outputs": [],
   "source": [
    "connect = psycopg2.connect(dbname=\"fns_data\", user=\"user\", password='', host=\"localhost\", port=5432)"
   ]
  },
  {
   "cell_type": "code",
   "execution_count": 124,
   "id": "da1bf47f",
   "metadata": {},
   "outputs": [],
   "source": [
    "connect.close()"
   ]
  },
  {
   "cell_type": "code",
   "execution_count": 122,
   "id": "308a3d0d",
   "metadata": {},
   "outputs": [],
   "source": [
    "columns = [\n",
    "    'inn', \n",
    "#     'offense_date',  # одна для всех - [datetime.date(2021, 12, 31)]\n",
    "    'fine_amount', \n",
    "]"
   ]
  },
  {
   "cell_type": "code",
   "execution_count": 123,
   "id": "678bbf18",
   "metadata": {},
   "outputs": [],
   "source": [
    "tax_offense = pd.read_sql(sql.SQL('SELECT {} FROM tax_offense;')\\\n",
    "                            .format(sql.SQL(',').join(map(sql.Identifier, columns))), connect)"
   ]
  },
  {
   "cell_type": "code",
   "execution_count": 125,
   "id": "41c04d8a",
   "metadata": {},
   "outputs": [
    {
     "name": "stdout",
     "output_type": "stream",
     "text": [
      "<class 'pandas.core.frame.DataFrame'>\n",
      "RangeIndex: 129827 entries, 0 to 129826\n",
      "Data columns (total 2 columns):\n",
      " #   Column       Non-Null Count   Dtype  \n",
      "---  ------       --------------   -----  \n",
      " 0   inn          129827 non-null  object \n",
      " 1   fine_amount  129827 non-null  float64\n",
      "dtypes: float64(1), object(1)\n",
      "memory usage: 2.0+ MB\n"
     ]
    }
   ],
   "source": [
    "# пропусков нет\n",
    "tax_offense.info()"
   ]
  },
  {
   "cell_type": "code",
   "execution_count": null,
   "id": "039f464e",
   "metadata": {},
   "outputs": [],
   "source": []
  },
  {
   "cell_type": "markdown",
   "id": "71369835",
   "metadata": {},
   "source": [
    "- довольно большая часть данных будет коррелирована (так как есть обобщённые столбцы и столбцы, конкретизирующие обобщённую информацию) - те придётся ещё отбирать\n",
    "- также пока не выбрала период\n",
    "\n",
    "    - можно, например, взять данные за 2021 год и предсказывать статус организации на 2022 и 2023 год\n",
    "    - можно взять за 2020 и предсказывать задолженность, баланс или финансовые нарушения на 2021 год...\n",
    "    - и т.д.\n",
    "\n",
    "- данные обновляются достаточно редко (для большей части орагнизаций - только ежегодные публичные отчёты) + время выкладки\n",
    "- я не учитываю коррекции и поправки данных - а для них предусмотрены свои формы"
   ]
  }
 ],
 "metadata": {
  "kernelspec": {
   "display_name": "Python 3 (ipykernel)",
   "language": "python",
   "name": "python3"
  },
  "language_info": {
   "codemirror_mode": {
    "name": "ipython",
    "version": 3
   },
   "file_extension": ".py",
   "mimetype": "text/x-python",
   "name": "python",
   "nbconvert_exporter": "python",
   "pygments_lexer": "ipython3",
   "version": "3.8.8"
  }
 },
 "nbformat": 4,
 "nbformat_minor": 5
}
